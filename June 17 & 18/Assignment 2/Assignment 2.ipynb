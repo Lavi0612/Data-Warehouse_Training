{
 "cells": [
  {
   "cell_type": "code",
   "execution_count": 0,
   "metadata": {
    "application/vnd.databricks.v1+cell": {
     "cellMetadata": {
      "byteLimit": 2048000,
      "rowLimit": 10000
     },
     "inputWidgets": {},
     "nuid": "c57a77f2-5d12-4a64-abf5-11ba7cc69ccd",
     "showTitle": false,
     "tableResultSettingsMap": {},
     "title": ""
    }
   },
   "outputs": [],
   "source": [
    "from pyspark.sql import SparkSession\n",
    "from pyspark.sql.functions import col, when, lag, year, month, dayofmonth\n",
    "from pyspark.sql.window import Window\n",
    "from pyspark.sql.types import *\n",
    "\n",
    "spark = SparkSession.builder.appName(\"RetailTransactions\").getOrCreate()"
   ]
  },
  {
   "cell_type": "markdown",
   "metadata": {
    "application/vnd.databricks.v1+cell": {
     "cellMetadata": {},
     "inputWidgets": {},
     "nuid": "2b725fd1-ca62-40c0-8dc2-5a03428d5ad4",
     "showTitle": false,
     "tableResultSettingsMap": {},
     "title": ""
    }
   },
   "source": [
    "Basics"
   ]
  },
  {
   "cell_type": "markdown",
   "metadata": {
    "application/vnd.databricks.v1+cell": {
     "cellMetadata": {},
     "inputWidgets": {},
     "nuid": "5982dd55-e881-4824-a33b-2d2b63b8a91f",
     "showTitle": false,
     "tableResultSettingsMap": {},
     "title": ""
    }
   },
   "source": [
    "1. Load retail_data.csv into a PySpark DataFrame and display schema."
   ]
  },
  {
   "cell_type": "code",
   "execution_count": 0,
   "metadata": {
    "application/vnd.databricks.v1+cell": {
     "cellMetadata": {
      "byteLimit": 2048000,
      "rowLimit": 10000
     },
     "inputWidgets": {},
     "nuid": "803ba937-bf28-4ddc-8793-eb947b9da2d7",
     "showTitle": false,
     "tableResultSettingsMap": {},
     "title": ""
    }
   },
   "outputs": [
    {
     "output_type": "stream",
     "name": "stdout",
     "output_type": "stream",
     "text": [
      "root\n |-- TransactionID: string (nullable = true)\n |-- Customer: string (nullable = true)\n |-- City: string (nullable = true)\n |-- Product: string (nullable = true)\n |-- Category: string (nullable = true)\n |-- Quantity: integer (nullable = true)\n |-- UnitPrice: integer (nullable = true)\n |-- TotalPrice: integer (nullable = true)\n |-- TransactionDa: date (nullable = true)\n\n"
     ]
    }
   ],
   "source": [
    "df = spark.read.option(\"header\", True).option(\"inferSchema\", True).csv(\"file:/Workspace/Shared/retail_data.csv\")\n",
    "df.printSchema()"
   ]
  },
  {
   "cell_type": "markdown",
   "metadata": {
    "application/vnd.databricks.v1+cell": {
     "cellMetadata": {},
     "inputWidgets": {},
     "nuid": "55fe23f6-215a-4033-a8a2-cb0f3038a9a1",
     "showTitle": false,
     "tableResultSettingsMap": {},
     "title": ""
    }
   },
   "source": [
    "2. Infer schema as False — then manually cast columns."
   ]
  },
  {
   "cell_type": "code",
   "execution_count": 0,
   "metadata": {
    "application/vnd.databricks.v1+cell": {
     "cellMetadata": {
      "byteLimit": 2048000,
      "rowLimit": 10000
     },
     "inputWidgets": {},
     "nuid": "48e480f9-6acb-42f4-8552-0339702f3de3",
     "showTitle": false,
     "tableResultSettingsMap": {},
     "title": ""
    }
   },
   "outputs": [],
   "source": [
    "df_manual = spark.read.option(\"header\", True).option(\"inferSchema\", False).csv(\"file:/Workspace/Shared/retail_data.csv\")\n",
    "\n",
    "df_casted = df_manual.select(\n",
    "    col(\"TransactionID\"),\n",
    "    col(\"Customer\"),\n",
    "    col(\"City\"),\n",
    "    col(\"Product\"),\n",
    "    col(\"Category\"),\n",
    "    col(\"Quantity\").cast(\"int\"),\n",
    "    col(\"UnitPrice\").cast(\"double\"),\n",
    "    col(\"TotalPrice\").cast(\"double\"),\n",
    "    col(\"TransactionDate\").cast(\"date\"),\n",
    "    col(\"PaymentMode\")\n",
    "    )"
   ]
  },
  {
   "cell_type": "markdown",
   "metadata": {
    "application/vnd.databricks.v1+cell": {
     "cellMetadata": {},
     "inputWidgets": {},
     "nuid": "d374fbaa-35c8-4a1f-859f-ee70a5d402d8",
     "showTitle": false,
     "tableResultSettingsMap": {},
     "title": ""
    }
   },
   "source": [
    "Data Exploration & Filtering"
   ]
  },
  {
   "cell_type": "markdown",
   "metadata": {
    "application/vnd.databricks.v1+cell": {
     "cellMetadata": {},
     "inputWidgets": {},
     "nuid": "d28b25f3-0bdd-428f-ab4d-5daa1a6c8bd1",
     "showTitle": false,
     "tableResultSettingsMap": {},
     "title": ""
    }
   },
   "source": [
    "3. Filter transactions where TotalPrice > 40000 ."
   ]
  },
  {
   "cell_type": "code",
   "execution_count": 0,
   "metadata": {
    "application/vnd.databricks.v1+cell": {
     "cellMetadata": {
      "byteLimit": 2048000,
      "rowLimit": 10000
     },
     "inputWidgets": {},
     "nuid": "3305403a-5e0b-4bc9-9946-a0e16a7cbed6",
     "showTitle": false,
     "tableResultSettingsMap": {},
     "title": ""
    }
   },
   "outputs": [
    {
     "output_type": "stream",
     "name": "stdout",
     "output_type": "stream",
     "text": [
      "+-------------+--------+---------+-------+-----------+--------+---------+----------+-------------+\n|TransactionID|Customer|     City|Product|   Category|Quantity|UnitPrice|TotalPrice|TransactionDa|\n+-------------+--------+---------+-------+-----------+--------+---------+----------+-------------+\n|        T1001|     Ali|   Mumbai| Laptop|Electronics|       1|  70000.0|   70000.0|   2024-01-15|\n|        T1002|    Neha|Bangalore| Tablet|Electronics|       2|  30000.0|   60000.0|   2024-01-20|\n|        T1005|   Karan|   Mumbai|  Phone|Electronics|       1|  50000.0|   50000.0|   2024-02-15|\n+-------------+--------+---------+-------+-----------+--------+---------+----------+-------------+\n\n"
     ]
    }
   ],
   "source": [
    "df_casted.filter(col(\"TotalPrice\") > 40000).show()"
   ]
  },
  {
   "cell_type": "markdown",
   "metadata": {
    "application/vnd.databricks.v1+cell": {
     "cellMetadata": {},
     "inputWidgets": {},
     "nuid": "d73dbc83-5ded-4faa-9a81-68a15c5ceff3",
     "showTitle": false,
     "tableResultSettingsMap": {},
     "title": ""
    }
   },
   "source": [
    "4. Get unique cities from the dataset."
   ]
  },
  {
   "cell_type": "code",
   "execution_count": 0,
   "metadata": {
    "application/vnd.databricks.v1+cell": {
     "cellMetadata": {
      "byteLimit": 2048000,
      "rowLimit": 10000
     },
     "inputWidgets": {},
     "nuid": "8b449ebd-fed7-4d93-b071-05557fe5d519",
     "showTitle": false,
     "tableResultSettingsMap": {},
     "title": ""
    }
   },
   "outputs": [
    {
     "output_type": "stream",
     "name": "stdout",
     "output_type": "stream",
     "text": [
      "+---------+\n|     City|\n+---------+\n|Bangalore|\n|   Mumbai|\n|    Delhi|\n|Hyderabad|\n+---------+\n\n"
     ]
    }
   ],
   "source": [
    "df_casted.select(\"City\").distinct().show()"
   ]
  },
  {
   "cell_type": "markdown",
   "metadata": {
    "application/vnd.databricks.v1+cell": {
     "cellMetadata": {},
     "inputWidgets": {},
     "nuid": "399ff75c-d4bd-45cc-9f97-cd681ee408af",
     "showTitle": false,
     "tableResultSettingsMap": {},
     "title": ""
    }
   },
   "source": [
    "5. Find all transactions from \"Delhi\" using .filter() and .where()"
   ]
  },
  {
   "cell_type": "code",
   "execution_count": 0,
   "metadata": {
    "application/vnd.databricks.v1+cell": {
     "cellMetadata": {
      "byteLimit": 2048000,
      "rowLimit": 10000
     },
     "inputWidgets": {},
     "nuid": "d69f0baa-ec30-42b2-834f-21ce1c899eaf",
     "showTitle": false,
     "tableResultSettingsMap": {},
     "title": ""
    }
   },
   "outputs": [
    {
     "output_type": "stream",
     "name": "stdout",
     "output_type": "stream",
     "text": [
      "+-------------+--------+-----+-------+-----------+--------+---------+----------+-------------+\n|TransactionID|Customer| City|Product|   Category|Quantity|UnitPrice|TotalPrice|TransactionDa|\n+-------------+--------+-----+-------+-----------+--------+---------+----------+-------------+\n|        T1004|    Zoya|Delhi|  Chair|  Furniture|       4|   5000.0|   20000.0|   2024-02-12|\n|        T1006|   Farah|Delhi|  Mouse|Electronics|       3|   1000.0|    3000.0|   2024-02-18|\n+-------------+--------+-----+-------+-----------+--------+---------+----------+-------------+\n\n+-------------+--------+-----+-------+-----------+--------+---------+----------+-------------+\n|TransactionID|Customer| City|Product|   Category|Quantity|UnitPrice|TotalPrice|TransactionDa|\n+-------------+--------+-----+-------+-----------+--------+---------+----------+-------------+\n|        T1004|    Zoya|Delhi|  Chair|  Furniture|       4|   5000.0|   20000.0|   2024-02-12|\n|        T1006|   Farah|Delhi|  Mouse|Electronics|       3|   1000.0|    3000.0|   2024-02-18|\n+-------------+--------+-----+-------+-----------+--------+---------+----------+-------------+\n\n"
     ]
    }
   ],
   "source": [
    "df_casted.filter(col(\"City\") == \"Delhi\").show()\n",
    "df_casted.where(col(\"City\") == \"Delhi\").show()"
   ]
  },
  {
   "cell_type": "markdown",
   "metadata": {
    "application/vnd.databricks.v1+cell": {
     "cellMetadata": {},
     "inputWidgets": {},
     "nuid": "791fc6f8-2a0e-406c-a4ae-13e68645770c",
     "showTitle": false,
     "tableResultSettingsMap": {},
     "title": ""
    }
   },
   "source": [
    "Data Manipulation"
   ]
  },
  {
   "cell_type": "markdown",
   "metadata": {
    "application/vnd.databricks.v1+cell": {
     "cellMetadata": {},
     "inputWidgets": {},
     "nuid": "6f8d69b6-8d37-4588-a304-856ec8f934a1",
     "showTitle": false,
     "tableResultSettingsMap": {},
     "title": ""
    }
   },
   "source": [
    "6. Add a column DiscountedPrice = TotalPrice - 10%."
   ]
  },
  {
   "cell_type": "code",
   "execution_count": 0,
   "metadata": {
    "application/vnd.databricks.v1+cell": {
     "cellMetadata": {
      "byteLimit": 2048000,
      "rowLimit": 10000
     },
     "inputWidgets": {},
     "nuid": "4ea5e3da-5a61-4e51-a668-1477b7b2033b",
     "showTitle": false,
     "tableResultSettingsMap": {},
     "title": ""
    }
   },
   "outputs": [],
   "source": [
    "df_discounted = df_casted.withColumn(\"DiscountedPrice\", col(\"TotalPrice\") * 0.9)"
   ]
  },
  {
   "cell_type": "markdown",
   "metadata": {
    "application/vnd.databricks.v1+cell": {
     "cellMetadata": {},
     "inputWidgets": {},
     "nuid": "70357870-1c89-42dd-ae4c-b3c9fca8c1e0",
     "showTitle": false,
     "tableResultSettingsMap": {},
     "title": ""
    }
   },
   "source": [
    "7. Rename TransactionDate to TxnDate ."
   ]
  },
  {
   "cell_type": "code",
   "execution_count": 0,
   "metadata": {
    "application/vnd.databricks.v1+cell": {
     "cellMetadata": {
      "byteLimit": 2048000,
      "rowLimit": 10000
     },
     "inputWidgets": {},
     "nuid": "b93181d1-9358-40af-a62e-b6b3efd9b0a9",
     "showTitle": false,
     "tableResultSettingsMap": {},
     "title": ""
    }
   },
   "outputs": [],
   "source": [
    "df_renamed = df_discounted.withColumnRenamed(\"TransactionDate\", \"TxnDate\")"
   ]
  },
  {
   "cell_type": "markdown",
   "metadata": {
    "application/vnd.databricks.v1+cell": {
     "cellMetadata": {},
     "inputWidgets": {},
     "nuid": "a5436938-0ffb-4209-b577-0900ff20f842",
     "showTitle": false,
     "tableResultSettingsMap": {},
     "title": ""
    }
   },
   "source": [
    "8. Drop the column UnitPrice ."
   ]
  },
  {
   "cell_type": "code",
   "execution_count": 0,
   "metadata": {
    "application/vnd.databricks.v1+cell": {
     "cellMetadata": {
      "byteLimit": 2048000,
      "rowLimit": 10000
     },
     "inputWidgets": {},
     "nuid": "e0dd2a5c-a0d3-44ee-be08-eba58fccef9e",
     "showTitle": false,
     "tableResultSettingsMap": {},
     "title": ""
    }
   },
   "outputs": [],
   "source": [
    "df_dropped = df_renamed.drop(\"UnitPrice\")"
   ]
  },
  {
   "cell_type": "markdown",
   "metadata": {
    "application/vnd.databricks.v1+cell": {
     "cellMetadata": {},
     "inputWidgets": {},
     "nuid": "e1767dfc-9baa-4985-9693-03493415d6d4",
     "showTitle": false,
     "tableResultSettingsMap": {},
     "title": ""
    }
   },
   "source": [
    "Aggregations"
   ]
  },
  {
   "cell_type": "markdown",
   "metadata": {
    "application/vnd.databricks.v1+cell": {
     "cellMetadata": {},
     "inputWidgets": {},
     "nuid": "e111ba4a-6de6-4689-b166-5f7bdba1ca2c",
     "showTitle": false,
     "tableResultSettingsMap": {},
     "title": ""
    }
   },
   "source": [
    "9. Get total sales by city."
   ]
  },
  {
   "cell_type": "code",
   "execution_count": 0,
   "metadata": {
    "application/vnd.databricks.v1+cell": {
     "cellMetadata": {
      "byteLimit": 2048000,
      "rowLimit": 10000
     },
     "inputWidgets": {},
     "nuid": "2d50ba5b-06e0-4b1d-92a0-285ec610e0b7",
     "showTitle": false,
     "tableResultSettingsMap": {},
     "title": ""
    }
   },
   "outputs": [
    {
     "output_type": "stream",
     "name": "stdout",
     "output_type": "stream",
     "text": [
      "+---------+----------+\n|     City|TotalSales|\n+---------+----------+\n|Bangalore|   60000.0|\n|   Mumbai|  120000.0|\n|    Delhi|   23000.0|\n|Hyderabad|   15000.0|\n+---------+----------+\n\n"
     ]
    }
   ],
   "source": [
    "df_dropped.groupBy(\"City\").sum(\"TotalPrice\").withColumnRenamed(\"sum(TotalPrice)\", \"TotalSales\").show()"
   ]
  },
  {
   "cell_type": "markdown",
   "metadata": {
    "application/vnd.databricks.v1+cell": {
     "cellMetadata": {},
     "inputWidgets": {},
     "nuid": "94337320-dde9-4f9b-baf8-339ec30bfd93",
     "showTitle": false,
     "tableResultSettingsMap": {},
     "title": ""
    }
   },
   "source": [
    "10. Get average unit price by category."
   ]
  },
  {
   "cell_type": "code",
   "execution_count": 0,
   "metadata": {
    "application/vnd.databricks.v1+cell": {
     "cellMetadata": {
      "byteLimit": 2048000,
      "rowLimit": 10000
     },
     "inputWidgets": {},
     "nuid": "c342a16a-2be3-4c01-9916-988eb74999ef",
     "showTitle": false,
     "tableResultSettingsMap": {},
     "title": ""
    }
   },
   "outputs": [
    {
     "output_type": "stream",
     "name": "stdout",
     "output_type": "stream",
     "text": [
      "+-----------+------------+\n|   Category|AvgUnitPrice|\n+-----------+------------+\n|Electronics|     37750.0|\n|  Furniture|     10000.0|\n+-----------+------------+\n\n"
     ]
    }
   ],
   "source": [
    "df_casted.groupBy(\"Category\").avg(\"UnitPrice\").withColumnRenamed(\"avg(UnitPrice)\", \"AvgUnitPrice\").show()"
   ]
  },
  {
   "cell_type": "markdown",
   "metadata": {
    "application/vnd.databricks.v1+cell": {
     "cellMetadata": {},
     "inputWidgets": {},
     "nuid": "3b570aa7-b605-4b64-89ad-7bc03a915bad",
     "showTitle": false,
     "tableResultSettingsMap": {},
     "title": ""
    }
   },
   "source": [
    "11. Count of transactions grouped by PaymentMode."
   ]
  },
  {
   "cell_type": "code",
   "execution_count": 0,
   "metadata": {
    "application/vnd.databricks.v1+cell": {
     "cellMetadata": {
      "byteLimit": 2048000,
      "rowLimit": 10000
     },
     "inputWidgets": {},
     "nuid": "0dedde2d-ed58-4665-a04e-4c9c3a9339aa",
     "showTitle": false,
     "tableResultSettingsMap": {},
     "title": ""
    }
   },
   "outputs": [
    {
     "output_type": "stream",
     "name": "stdout",
     "output_type": "stream",
     "text": [
      "+-----------+-----+\n|PaymentMode|count|\n+-----------+-----+\n|Net Banking|    1|\n|       Card|    3|\n|       Cash|    1|\n|        UPI|    1|\n+-----------+-----+\n\n"
     ]
    }
   ],
   "source": [
    "df_casted.groupBy(\"PaymentMode\").count().show()"
   ]
  },
  {
   "cell_type": "markdown",
   "metadata": {
    "application/vnd.databricks.v1+cell": {
     "cellMetadata": {},
     "inputWidgets": {},
     "nuid": "96b5fe57-30f7-4ee2-b8c3-fc1195988278",
     "showTitle": false,
     "tableResultSettingsMap": {},
     "title": ""
    }
   },
   "source": [
    "Window Functions"
   ]
  },
  {
   "cell_type": "markdown",
   "metadata": {
    "application/vnd.databricks.v1+cell": {
     "cellMetadata": {},
     "inputWidgets": {},
     "nuid": "180e2993-c9bd-4266-b911-d1f9b23d5e6e",
     "showTitle": false,
     "tableResultSettingsMap": {},
     "title": ""
    }
   },
   "source": [
    "12. Use a window partitioned by City to rank transactions by TotalPrice ."
   ]
  },
  {
   "cell_type": "code",
   "execution_count": 0,
   "metadata": {
    "application/vnd.databricks.v1+cell": {
     "cellMetadata": {
      "byteLimit": 2048000,
      "rowLimit": 10000
     },
     "inputWidgets": {},
     "nuid": "d5a5c3f5-41ce-4e2b-8ea5-bfe74cc4d3f6",
     "showTitle": false,
     "tableResultSettingsMap": {},
     "title": ""
    }
   },
   "outputs": [],
   "source": [
    "from pyspark.sql.functions import col, rank\n",
    "from pyspark.sql.window import Window\n",
    "\n",
    "window_spec = Window.partitionBy(\"City\").orderBy(col(\"TotalPrice\").desc())\n",
    "df_casted.withColumn(\"Rank\", rank().over(window_spec)).show()"
   ]
  },
  {
   "cell_type": "markdown",
   "metadata": {
    "application/vnd.databricks.v1+cell": {
     "cellMetadata": {},
     "inputWidgets": {},
     "nuid": "9ffacf54-6d47-4cdb-9254-7307b32c57b0",
     "showTitle": false,
     "tableResultSettingsMap": {},
     "title": ""
    }
   },
   "source": [
    "13. Use lag function to get previous transaction amount per city."
   ]
  },
  {
   "cell_type": "code",
   "execution_count": 0,
   "metadata": {
    "application/vnd.databricks.v1+cell": {
     "cellMetadata": {
      "byteLimit": 2048000,
      "rowLimit": 10000
     },
     "inputWidgets": {},
     "nuid": "904c3968-5cd1-4f67-9f26-d831cc1fa7ff",
     "showTitle": false,
     "tableResultSettingsMap": {},
     "title": ""
    }
   },
   "outputs": [],
   "source": [
    "from pyspark.sql.functions import lag\n",
    "from pyspark.sql.window import Window\n",
    "\n",
    "window_spec = Window.partitionBy(\"City\").orderBy(\"TotalPrice\")\n",
    "\n",
    "df_with_lag = df_casted.withColumn(\"PrevTransaction\", lag(\"TotalPrice\", 1).over(window_spec))\n",
    "\n",
    "df_with_lag.select(\"TransactionID\", \"City\", \"TotalPrice\", \"PrevTransaction\").show()\n"
   ]
  },
  {
   "cell_type": "markdown",
   "metadata": {
    "application/vnd.databricks.v1+cell": {
     "cellMetadata": {},
     "inputWidgets": {},
     "nuid": "5fa8b40b-ce4a-468f-8af8-18fe9f7d06a6",
     "showTitle": false,
     "tableResultSettingsMap": {},
     "title": ""
    }
   },
   "source": [
    "Joins"
   ]
  },
  {
   "cell_type": "markdown",
   "metadata": {
    "application/vnd.databricks.v1+cell": {
     "cellMetadata": {},
     "inputWidgets": {},
     "nuid": "a706fec5-54a4-4d37-90cd-87b481040d7f",
     "showTitle": false,
     "tableResultSettingsMap": {},
     "title": ""
    }
   },
   "source": [
    "14. Create a second DataFrame city_region"
   ]
  },
  {
   "cell_type": "code",
   "execution_count": 0,
   "metadata": {
    "application/vnd.databricks.v1+cell": {
     "cellMetadata": {
      "byteLimit": 2048000,
      "rowLimit": 10000
     },
     "inputWidgets": {},
     "nuid": "5d52ebc4-ad3d-4fbe-8fd1-481b83fa0c8f",
     "showTitle": false,
     "tableResultSettingsMap": {},
     "title": ""
    }
   },
   "outputs": [],
   "source": [
    "data = [(\"Mumbai\", \"West\"), (\"Delhi\", \"North\"), (\"Bangalore\", \"South\"), (\"Hyderabad\", \"South\")]\n",
    "columns = [\"City\", \"Region\"]\n",
    "city_region = spark.createDataFrame(data, columns)"
   ]
  },
  {
   "cell_type": "markdown",
   "metadata": {
    "application/vnd.databricks.v1+cell": {
     "cellMetadata": {},
     "inputWidgets": {},
     "nuid": "1b32ed6a-a33f-47f9-94d4-10249eface69",
     "showTitle": false,
     "tableResultSettingsMap": {},
     "title": ""
    }
   },
   "source": [
    "15. Join with main DataFrame and group total sales by Region."
   ]
  },
  {
   "cell_type": "code",
   "execution_count": 0,
   "metadata": {
    "application/vnd.databricks.v1+cell": {
     "cellMetadata": {
      "byteLimit": 2048000,
      "rowLimit": 10000
     },
     "inputWidgets": {},
     "nuid": "7e521394-811f-46ef-85b2-7299e4883207",
     "showTitle": false,
     "tableResultSettingsMap": {},
     "title": ""
    }
   },
   "outputs": [],
   "source": [
    "joined_df = df_casted.join(city_region, on=\"City\", how=\"left\")\n",
    "joined_df.groupBy(\"Region\").sum(\"TotalPrice\").withColumnRenamed(\"sum(TotalPrice)\", \"TotalSales\").show()"
   ]
  },
  {
   "cell_type": "markdown",
   "metadata": {
    "application/vnd.databricks.v1+cell": {
     "cellMetadata": {},
     "inputWidgets": {},
     "nuid": "632b0653-1938-43e3-8739-db959148a088",
     "showTitle": false,
     "tableResultSettingsMap": {},
     "title": ""
    }
   },
   "source": [
    "Nulls and Data Cleaning"
   ]
  },
  {
   "cell_type": "markdown",
   "metadata": {
    "application/vnd.databricks.v1+cell": {
     "cellMetadata": {},
     "inputWidgets": {},
     "nuid": "4a1c556f-3126-48e0-bcd0-f9a3b4341696",
     "showTitle": false,
     "tableResultSettingsMap": {},
     "title": ""
    }
   },
   "source": [
    "16. Introduce some nulls and replace them with default values."
   ]
  },
  {
   "cell_type": "code",
   "execution_count": 0,
   "metadata": {
    "application/vnd.databricks.v1+cell": {
     "cellMetadata": {
      "byteLimit": 2048000,
      "rowLimit": 10000
     },
     "inputWidgets": {},
     "nuid": "23384d76-2c81-4ff5-8d99-67242afd59a7",
     "showTitle": false,
     "tableResultSettingsMap": {},
     "title": ""
    }
   },
   "outputs": [],
   "source": [
    "df_nulls = df_casted.withColumn(\"Quantity\", when(col(\"TransactionID\") == \"T1003\", None).otherwise(col(\"Quantity\")))\n",
    "df_filled = df_nulls.fillna({\"Quantity\": 0})\n",
    "df_filled.show()"
   ]
  },
  {
   "cell_type": "markdown",
   "metadata": {
    "application/vnd.databricks.v1+cell": {
     "cellMetadata": {},
     "inputWidgets": {},
     "nuid": "864e00f7-ece5-41b7-bb2c-45123a8c7387",
     "showTitle": false,
     "tableResultSettingsMap": {},
     "title": ""
    }
   },
   "source": [
    "17. Drop rows where Quantity is null."
   ]
  },
  {
   "cell_type": "code",
   "execution_count": 0,
   "metadata": {
    "application/vnd.databricks.v1+cell": {
     "cellMetadata": {
      "byteLimit": 2048000,
      "rowLimit": 10000
     },
     "inputWidgets": {},
     "nuid": "1ad6e942-76a5-4bf1-97e2-99594879490f",
     "showTitle": false,
     "tableResultSettingsMap": {},
     "title": ""
    }
   },
   "outputs": [],
   "source": [
    "df_casted.dropna(subset=[\"Quantity\"]).show()"
   ]
  },
  {
   "cell_type": "markdown",
   "metadata": {
    "application/vnd.databricks.v1+cell": {
     "cellMetadata": {},
     "inputWidgets": {},
     "nuid": "45ecfaf1-10a3-46a7-ac4e-1f19b8bdc8da",
     "showTitle": false,
     "tableResultSettingsMap": {},
     "title": ""
    }
   },
   "source": [
    "18. Fill null PaymentMode with \"Unknown\"."
   ]
  },
  {
   "cell_type": "code",
   "execution_count": 0,
   "metadata": {
    "application/vnd.databricks.v1+cell": {
     "cellMetadata": {
      "byteLimit": 2048000,
      "rowLimit": 10000
     },
     "inputWidgets": {},
     "nuid": "d60b76c7-263f-4fe1-a090-79a59e4dd9fd",
     "showTitle": false,
     "tableResultSettingsMap": {},
     "title": ""
    }
   },
   "outputs": [],
   "source": [
    "df_filled_pm = df_casted.fillna({\"PaymentMode\": \"Unknown\"})"
   ]
  },
  {
   "cell_type": "markdown",
   "metadata": {
    "application/vnd.databricks.v1+cell": {
     "cellMetadata": {},
     "inputWidgets": {},
     "nuid": "c1286b71-72e3-4374-8783-dd37151c1702",
     "showTitle": false,
     "tableResultSettingsMap": {},
     "title": ""
    }
   },
   "source": [
    "Custom Functions"
   ]
  },
  {
   "cell_type": "markdown",
   "metadata": {
    "application/vnd.databricks.v1+cell": {
     "cellMetadata": {},
     "inputWidgets": {},
     "nuid": "47fdfda2-ca84-412b-8052-cf5cd893a3ad",
     "showTitle": false,
     "tableResultSettingsMap": {},
     "title": ""
    }
   },
   "source": [
    "19. Write a UDF to label orders"
   ]
  },
  {
   "cell_type": "code",
   "execution_count": 0,
   "metadata": {
    "application/vnd.databricks.v1+cell": {
     "cellMetadata": {
      "byteLimit": 2048000,
      "rowLimit": 10000
     },
     "inputWidgets": {},
     "nuid": "c5a9f7a0-e54b-483a-80a6-1912c6853231",
     "showTitle": false,
     "tableResultSettingsMap": {},
     "title": ""
    }
   },
   "outputs": [],
   "source": [
    "from pyspark.sql.functions import udf\n",
    "from pyspark.sql.types import StringType\n",
    "\n",
    "def label_order(amount):\n",
    "    if amount > 50000:\n",
    "        return \"High\"\n",
    "    elif amount >= 30000:\n",
    "        return \"Medium\"\n",
    "    else:\n",
    "        return \"Low\"\n",
    "\n",
    "label_udf = udf(label_order, StringType())\n",
    "\n",
    "df_labeled = df_casted.withColumn(\"OrderLabel\", label_udf(col(\"TotalPrice\")))\n",
    "df_labeled.select(\"TransactionID\", \"TotalPrice\", \"OrderLabel\").show()"
   ]
  },
  {
   "cell_type": "markdown",
   "metadata": {
    "application/vnd.databricks.v1+cell": {
     "cellMetadata": {},
     "inputWidgets": {},
     "nuid": "2f01e1d5-80ba-4ce7-b390-b9be07135dfa",
     "showTitle": false,
     "tableResultSettingsMap": {},
     "title": ""
    }
   },
   "source": [
    "Date & Time"
   ]
  },
  {
   "cell_type": "markdown",
   "metadata": {
    "application/vnd.databricks.v1+cell": {
     "cellMetadata": {},
     "inputWidgets": {},
     "nuid": "a98906f3-9302-45f0-a07d-2a42b385c180",
     "showTitle": false,
     "tableResultSettingsMap": {},
     "title": ""
    }
   },
   "source": [
    "20. Extract year, month, and day from TxnDate ."
   ]
  },
  {
   "cell_type": "code",
   "execution_count": 0,
   "metadata": {
    "application/vnd.databricks.v1+cell": {
     "cellMetadata": {
      "byteLimit": 2048000,
      "rowLimit": 10000
     },
     "inputWidgets": {},
     "nuid": "69c50fe4-53ae-4adb-8d0c-30ccb4d1a115",
     "showTitle": false,
     "tableResultSettingsMap": {},
     "title": ""
    }
   },
   "outputs": [],
   "source": [
    "df_casted.withColumn(\"Year\", year(\"TransactionDate\")) \\\n",
    "         .withColumn(\"Month\", month(\"TransactionDate\")) \\\n",
    "         .withColumn(\"Day\", dayofmonth(\"TransactionDate\")) \\\n",
    "         .show()"
   ]
  },
  {
   "cell_type": "markdown",
   "metadata": {
    "application/vnd.databricks.v1+cell": {
     "cellMetadata": {},
     "inputWidgets": {},
     "nuid": "13e75f13-de55-4418-8621-2b5a33f5cc33",
     "showTitle": false,
     "tableResultSettingsMap": {},
     "title": ""
    }
   },
   "source": [
    "21. Filter transactions that happened in February."
   ]
  },
  {
   "cell_type": "code",
   "execution_count": 0,
   "metadata": {
    "application/vnd.databricks.v1+cell": {
     "cellMetadata": {
      "byteLimit": 2048000,
      "rowLimit": 10000
     },
     "inputWidgets": {},
     "nuid": "e659fc6c-2094-4d61-82a9-e8903c84fd88",
     "showTitle": false,
     "tableResultSettingsMap": {},
     "title": ""
    }
   },
   "outputs": [],
   "source": [
    "df_casted.filter(month(\"TransactionDate\") == 2).show()"
   ]
  },
  {
   "cell_type": "markdown",
   "metadata": {
    "application/vnd.databricks.v1+cell": {
     "cellMetadata": {},
     "inputWidgets": {},
     "nuid": "44913377-ee8f-4bd2-96f8-ce21de692718",
     "showTitle": false,
     "tableResultSettingsMap": {},
     "title": ""
    }
   },
   "source": [
    "Union & Duplicate Handling"
   ]
  },
  {
   "cell_type": "markdown",
   "metadata": {
    "application/vnd.databricks.v1+cell": {
     "cellMetadata": {},
     "inputWidgets": {},
     "nuid": "8690afdb-a632-4bdf-b5e2-f26466e8829b",
     "showTitle": false,
     "tableResultSettingsMap": {},
     "title": ""
    }
   },
   "source": [
    "22. Duplicate the DataFrame using union() and remove duplicates."
   ]
  },
  {
   "cell_type": "code",
   "execution_count": 0,
   "metadata": {
    "application/vnd.databricks.v1+cell": {
     "cellMetadata": {
      "byteLimit": 2048000,
      "rowLimit": 10000
     },
     "inputWidgets": {},
     "nuid": "dc2a01db-3084-43cb-8e7c-a6b4722e01db",
     "showTitle": false,
     "tableResultSettingsMap": {},
     "title": ""
    }
   },
   "outputs": [],
   "source": [
    "df_union = df_casted.union(df_casted)\n",
    "df_unique = df_union.dropDuplicates()\n",
    "df_unique.show()"
   ]
  }
 ],
 "metadata": {
  "application/vnd.databricks.v1+notebook": {
   "computePreferences": null,
   "dashboards": [],
   "environmentMetadata": {
    "base_environment": "",
    "environment_version": "2"
   },
   "inputWidgetPreferences": null,
   "language": "python",
   "notebookMetadata": {
    "pythonIndentUnit": 4
   },
   "notebookName": "Assignment 2",
   "widgets": {}
  },
  "language_info": {
   "name": "python"
  }
 },
 "nbformat": 4,
 "nbformat_minor": 0
}