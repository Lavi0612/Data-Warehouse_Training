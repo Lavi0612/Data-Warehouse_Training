{
 "cells": [
  {
   "cell_type": "code",
   "execution_count": 0,
   "metadata": {
    "application/vnd.databricks.v1+cell": {
     "cellMetadata": {
      "byteLimit": 2048000,
      "rowLimit": 10000
     },
     "inputWidgets": {},
     "nuid": "226f7fec-75a7-419a-afb3-e015639a9cdf",
     "showTitle": false,
     "tableResultSettingsMap": {},
     "title": ""
    }
   },
   "outputs": [],
   "source": [
    "from pyspark.sql import SparkSession\n",
    "spark = SparkSession.builder \\\n",
    "    .appName(\"Customer Order Insights\") \\\n",
    "    .getOrCreate()\n"
   ]
  },
  {
   "cell_type": "markdown",
   "metadata": {
    "application/vnd.databricks.v1+cell": {
     "cellMetadata": {},
     "inputWidgets": {},
     "nuid": "9bbe5fe6-37ae-499a-8473-f8282b492d7e",
     "showTitle": false,
     "tableResultSettingsMap": {},
     "title": ""
    }
   },
   "source": [
    " Load cleaned order data into Databricks"
   ]
  },
  {
   "cell_type": "code",
   "execution_count": 0,
   "metadata": {
    "application/vnd.databricks.v1+cell": {
     "cellMetadata": {
      "byteLimit": 2048000,
      "rowLimit": 10000
     },
     "inputWidgets": {},
     "nuid": "e628c8a0-d019-4e81-807b-7feecaa90f8f",
     "showTitle": false,
     "tableResultSettingsMap": {},
     "title": ""
    }
   },
   "outputs": [],
   "source": [
    "orders_df = spark.read.option(\"header\", True) \\\n",
    "                      .option(\"sep\", \",\") \\\n",
    "                      .option(\"inferSchema\", True) \\\n",
    "                      .csv(\"file:///Workspace/Shared/orders.csv\")\n"
   ]
  },
  {
   "cell_type": "code",
   "execution_count": 0,
   "metadata": {
    "application/vnd.databricks.v1+cell": {
     "cellMetadata": {
      "byteLimit": 2048000,
      "rowLimit": 10000
     },
     "inputWidgets": {},
     "nuid": "dcd23b7a-bb89-44ee-aafb-43e5d39c6091",
     "showTitle": false,
     "tableResultSettingsMap": {},
     "title": ""
    }
   },
   "outputs": [],
   "source": [
    "customers_df = spark.read.option(\"header\", True) \\\n",
    "                         .option(\"sep\", \"\\t\") \\\n",
    "                         .option(\"inferSchema\", True) \\\n",
    "                         .csv(\"file:///Workspace/Shared/customers.csv\")\n"
   ]
  },
  {
   "cell_type": "code",
   "execution_count": 0,
   "metadata": {
    "application/vnd.databricks.v1+cell": {
     "cellMetadata": {
      "byteLimit": 2048000,
      "rowLimit": 10000
     },
     "inputWidgets": {},
     "nuid": "e1f511a4-fb52-4480-acf3-5ffe766db3ae",
     "showTitle": false,
     "tableResultSettingsMap": {},
     "title": ""
    }
   },
   "outputs": [],
   "source": [
    "delivery_df = spark.read.option(\"header\", True) \\\n",
    "                        .option(\"sep\", \",\") \\\n",
    "                        .option(\"inferSchema\", True) \\\n",
    "                        .csv(\"file:///Workspace/Shared/delivery_status.csv\")\n"
   ]
  },
  {
   "cell_type": "code",
   "execution_count": 0,
   "metadata": {
    "application/vnd.databricks.v1+cell": {
     "cellMetadata": {
      "byteLimit": 2048000,
      "rowLimit": 10000
     },
     "inputWidgets": {},
     "nuid": "4e485825-9892-4876-a047-cd21e3f5fe24",
     "showTitle": false,
     "tableResultSettingsMap": {},
     "title": ""
    }
   },
   "outputs": [],
   "source": [
    "from pyspark.sql.functions import trim, col\n",
    "\n",
    "# Trim column names and values\n",
    "orders_df = orders_df.select([trim(col(c)).alias(c.strip()) for c in orders_df.columns])\n",
    "customers_df = customers_df.select([trim(col(c)).alias(c.strip()) for c in customers_df.columns])\n",
    "delivery_df = delivery_df.select([trim(col(c)).alias(c.strip()) for c in delivery_df.columns])\n"
   ]
  },
  {
   "cell_type": "code",
   "execution_count": 0,
   "metadata": {
    "application/vnd.databricks.v1+cell": {
     "cellMetadata": {
      "byteLimit": 2048000,
      "rowLimit": 10000
     },
     "inputWidgets": {},
     "nuid": "bf82c035-383c-4ba3-acfa-d31866b488db",
     "showTitle": false,
     "tableResultSettingsMap": {},
     "title": ""
    }
   },
   "outputs": [],
   "source": [
    "from pyspark.sql.functions import to_date\n",
    "\n",
    "# Orders\n",
    "orders_df = orders_df.withColumn(\"order_id\", col(\"order_id\").cast(\"int\")) \\\n",
    "                     .withColumn(\"customer_id\", col(\"customer_id\").cast(\"int\")) \\\n",
    "                     .withColumn(\"order_date\", to_date(col(\"order_date\"), \"dd-MM-yyyy\")) \\\n",
    "                     .withColumn(\"delivery_date\", to_date(col(\"delivery_date\"), \"dd-MM-yyyy\"))\n",
    "\n",
    "# Customers\n",
    "customers_df = customers_df.withColumn(\"customer_id\", col(\"customer_id\").cast(\"int\"))\n",
    "\n",
    "# Delivery\n",
    "delivery_df = delivery_df.withColumn(\"order_id\", col(\"order_id\").cast(\"int\")) \\\n",
    "                         .withColumn(\"status_id\", col(\"status_id\").cast(\"int\"))\n"
   ]
  },
  {
   "cell_type": "code",
   "execution_count": 0,
   "metadata": {
    "application/vnd.databricks.v1+cell": {
     "cellMetadata": {
      "byteLimit": 2048000,
      "rowLimit": 10000
     },
     "inputWidgets": {},
     "nuid": "1214cfa2-24f5-4c46-9307-874c57a5c133",
     "showTitle": false,
     "tableResultSettingsMap": {},
     "title": ""
    }
   },
   "outputs": [
    {
     "output_type": "stream",
     "name": "stdout",
     "output_type": "stream",
     "text": [
      "root\n |-- order_id: integer (nullable = true)\n |-- customer_id: integer (nullable = true)\n |-- order_date: date (nullable = true)\n |-- delivery_date: date (nullable = true)\n\nroot\n |-- customer_id: integer (nullable = true)\n |-- name: string (nullable = true)\n |-- email: string (nullable = true)\n |-- phone: string (nullable = true)\n\nroot\n |-- status_id: integer (nullable = true)\n |-- order_id: integer (nullable = true)\n |-- status: string (nullable = true)\n |-- issue: string (nullable = true)\n\n+--------+-----------+----------+-------------+\n|order_id|customer_id|order_date|delivery_date|\n+--------+-----------+----------+-------------+\n|    NULL|       NULL|      NULL|         NULL|\n|    NULL|       NULL|      NULL|         NULL|\n|    NULL|       NULL|      NULL|         NULL|\n|    NULL|       NULL|      NULL|         NULL|\n|    NULL|       NULL|      NULL|         NULL|\n+--------+-----------+----------+-------------+\nonly showing top 5 rows\n\n+-----------+----------------+--------------------+------------------+\n|customer_id|            name|               email|             phone|\n+-----------+----------------+--------------------+------------------+\n|          1|    Kelsey Miles|    tlee@hotmail.com|      294-152-8285|\n|          2| David Jefferson|collinsjeffrey@ya...|328-278-4174x60816|\n|          3|Nathaniel Wagner|justin75@downs-on...|        3349555545|\n|          4|     Julie Hurst|carlsonsydney@bry...|  430-599-8022x194|\n|          5| Robert Anderson|richardsoncathy@y...|      148.311.9228|\n+-----------+----------------+--------------------+------------------+\nonly showing top 5 rows\n\n+---------+--------+----------+--------------------+\n|status_id|order_id|    status|               issue|\n+---------+--------+----------+--------------------+\n|        1|       1|In Transit|                NULL|\n|        2|       2|   Delayed|                NULL|\n|        3|       3|   Delayed|                NULL|\n|        4|       4|   Delayed|   Incorrect address|\n|        5|       5|In Transit|Delayed due to we...|\n+---------+--------+----------+--------------------+\nonly showing top 5 rows\n\n"
     ]
    }
   ],
   "source": [
    "orders_df.printSchema()\n",
    "customers_df.printSchema()\n",
    "delivery_df.printSchema()\n",
    "\n",
    "orders_df.show(5)\n",
    "customers_df.show(5)\n",
    "delivery_df.show(5)\n"
   ]
  },
  {
   "cell_type": "code",
   "execution_count": 0,
   "metadata": {
    "application/vnd.databricks.v1+cell": {
     "cellMetadata": {
      "byteLimit": 2048000,
      "rowLimit": 10000
     },
     "inputWidgets": {},
     "nuid": "63e84240-b900-4627-aef7-37d2a68fb6ee",
     "showTitle": false,
     "tableResultSettingsMap": {},
     "title": ""
    }
   },
   "outputs": [],
   "source": [
    "orders_customers_df = orders_df.join(customers_df, on=\"customer_id\", how=\"inner\")\n",
    "full_df = orders_customers_df.join(delivery_df, on=\"order_id\", how=\"left\")\n"
   ]
  },
  {
   "cell_type": "markdown",
   "metadata": {
    "application/vnd.databricks.v1+cell": {
     "cellMetadata": {},
     "inputWidgets": {},
     "nuid": "ff9102e0-0016-4e14-bffd-1292b13289b4",
     "showTitle": false,
     "tableResultSettingsMap": {},
     "title": ""
    }
   },
   "source": [
    " Create a pipeline to update latest delivery status"
   ]
  },
  {
   "cell_type": "code",
   "execution_count": 0,
   "metadata": {
    "application/vnd.databricks.v1+cell": {
     "cellMetadata": {
      "byteLimit": 2048000,
      "rowLimit": 10000
     },
     "inputWidgets": {},
     "nuid": "28912fa9-cba3-4bc1-8ba7-c318ecf06f9d",
     "showTitle": false,
     "tableResultSettingsMap": {},
     "title": ""
    }
   },
   "outputs": [],
   "source": [
    "from pyspark.sql.window import Window\n",
    "from pyspark.sql.functions import row_number, desc\n",
    "\n",
    "# Keep only latest delivery status per order_id\n",
    "window_spec = Window.partitionBy(\"order_id\").orderBy(desc(\"status_id\"))\n",
    "latest_status_df = delivery_df.withColumn(\"rank\", row_number().over(window_spec)) \\\n",
    "    .filter(\"rank = 1\").drop(\"rank\")\n",
    "\n",
    "# Join again to get only latest status\n",
    "final_df = orders_customers_df.join(latest_status_df, on=\"order_id\", how=\"left\")\n",
    "\n"
   ]
  },
  {
   "cell_type": "markdown",
   "metadata": {
    "application/vnd.databricks.v1+cell": {
     "cellMetadata": {},
     "inputWidgets": {},
     "nuid": "2c29e3a9-06f4-4385-a2b2-70d3b271d795",
     "showTitle": false,
     "tableResultSettingsMap": {},
     "title": ""
    }
   },
   "source": [
    "Save the results as Delta or CSV"
   ]
  },
  {
   "cell_type": "code",
   "execution_count": 0,
   "metadata": {
    "application/vnd.databricks.v1+cell": {
     "cellMetadata": {
      "byteLimit": 2048000,
      "rowLimit": 10000
     },
     "inputWidgets": {},
     "nuid": "e4cb0128-f4c6-47cd-92dc-7d38bb0cecd1",
     "showTitle": false,
     "tableResultSettingsMap": {},
     "title": ""
    }
   },
   "outputs": [],
   "source": [
    "final_df.write.format(\"delta\").mode(\"overwrite\").save(\"/delta/orders_with_status\")\n"
   ]
  },
  {
   "cell_type": "code",
   "execution_count": 0,
   "metadata": {
    "application/vnd.databricks.v1+cell": {
     "cellMetadata": {
      "byteLimit": 2048000,
      "rowLimit": 10000
     },
     "inputWidgets": {},
     "nuid": "2ce3690b-77b8-4b10-b908-b313e885ace9",
     "showTitle": false,
     "tableResultSettingsMap": {},
     "title": ""
    }
   },
   "outputs": [],
   "source": [
    "final_df.write.option(\"header\", True).mode(\"overwrite\").csv(\"dbfs:/FileStore/output/orders_with_status.csv\")\n"
   ]
  },
  {
   "cell_type": "markdown",
   "metadata": {
    "application/vnd.databricks.v1+cell": {
     "cellMetadata": {},
     "inputWidgets": {},
     "nuid": "0e316cbf-89c0-43f8-9368-8c026a1c51d5",
     "showTitle": false,
     "tableResultSettingsMap": {},
     "title": ""
    }
   },
   "source": [
    " run a SQL query to show top 5 delayed customers"
   ]
  },
  {
   "cell_type": "code",
   "execution_count": 0,
   "metadata": {
    "application/vnd.databricks.v1+cell": {
     "cellMetadata": {
      "byteLimit": 2048000,
      "rowLimit": 10000
     },
     "inputWidgets": {},
     "nuid": "e139188b-5366-4242-99b4-7d8fb25d8322",
     "showTitle": false,
     "tableResultSettingsMap": {},
     "title": ""
    }
   },
   "outputs": [],
   "source": [
    "final_df.createOrReplaceTempView(\"orders_status_view\")"
   ]
  },
  {
   "cell_type": "code",
   "execution_count": 0,
   "metadata": {
    "application/vnd.databricks.v1+cell": {
     "cellMetadata": {},
     "inputWidgets": {},
     "nuid": "88a56bda-473c-4d5f-b101-731fbfd6b355",
     "showTitle": false,
     "tableResultSettingsMap": {},
     "title": ""
    }
   },
   "outputs": [],
   "source": [
    "%sql\n",
    "SELECT customer_id, name, COUNT(*) AS delayed_orders\n",
    "FROM orders_status_view\n",
    "WHERE status = 'Delayed'\n",
    "GROUP BY customer_id, name\n",
    "ORDER BY delayed_orders DESC\n",
    "LIMIT 5;\n"
   ]
  }
 ],
 "metadata": {
  "application/vnd.databricks.v1+notebook": {
   "computePreferences": null,
   "dashboards": [],
   "environmentMetadata": {
    "base_environment": "",
    "environment_version": "2"
   },
   "inputWidgetPreferences": null,
   "language": "python",
   "notebookMetadata": {
    "mostRecentlyExecutedCommandWithImplicitDF": {
     "commandId": 7194492752124692,
     "dataframes": [
      "_sqldf"
     ]
    },
    "pythonIndentUnit": 4
   },
   "notebookName": "Week 4_Customer Insights",
   "widgets": {}
  },
  "language_info": {
   "name": "python"
  }
 },
 "nbformat": 4,
 "nbformat_minor": 0
}