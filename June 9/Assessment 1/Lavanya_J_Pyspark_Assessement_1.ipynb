{
  "nbformat": 4,
  "nbformat_minor": 0,
  "metadata": {
    "colab": {
      "provenance": []
    },
    "kernelspec": {
      "name": "python3",
      "display_name": "Python 3"
    },
    "language_info": {
      "name": "python"
    }
  },
  "cells": [
    {
      "cell_type": "markdown",
      "source": [
        "1. Data Ingestion & Exploration"
      ],
      "metadata": {
        "id": "9vNr1dH2JqYA"
      }
    },
    {
      "cell_type": "code",
      "execution_count": 1,
      "metadata": {
        "colab": {
          "base_uri": "https://localhost:8080/"
        },
        "id": "6I4EhhJ_HSOx",
        "outputId": "9c0a1c6c-3cfe-45dd-de34-03b812fccd2b"
      },
      "outputs": [
        {
          "output_type": "stream",
          "name": "stdout",
          "text": [
            "Mounted at /content/drive\n"
          ]
        }
      ],
      "source": [
        "from google.colab import drive\n",
        "drive.mount('/content/drive')\n"
      ]
    },
    {
      "cell_type": "markdown",
      "source": [
        "Load both CSV files with schema inference."
      ],
      "metadata": {
        "id": "JlPVWE78Jutn"
      }
    },
    {
      "cell_type": "code",
      "source": [
        "from pyspark.sql import SparkSession\n",
        "\n",
        "spark = SparkSession.builder.appName(\"DataIngestionExploration\").getOrCreate()\n",
        "\n",
        "customers_path = \"/content/drive/MyDrive/Customers.csv\"\n",
        "orders_path = \"/content/drive/MyDrive/Orders.csv\"\n",
        "\n",
        "customers_df = spark.read.option(\"header\", True).option(\"inferSchema\", True).csv(customers_path)\n",
        "orders_df = spark.read.option(\"header\", True).option(\"inferSchema\", True).csv(orders_path)\n"
      ],
      "metadata": {
        "id": "nKdkkA0vJx8K"
      },
      "execution_count": 7,
      "outputs": []
    },
    {
      "cell_type": "markdown",
      "source": [
        "List all columns and data types."
      ],
      "metadata": {
        "id": "kiUcq0ioKAJU"
      }
    },
    {
      "cell_type": "code",
      "source": [
        "print(\"Customers Schema:\")\n",
        "customers_df.printSchema()\n",
        "\n",
        "print(\"Orders Schema:\")\n",
        "orders_df.printSchema()\n"
      ],
      "metadata": {
        "colab": {
          "base_uri": "https://localhost:8080/"
        },
        "id": "nOC3tX9tKCjF",
        "outputId": "bb2316dc-c508-486e-c93e-4bdbb8cb1a99"
      },
      "execution_count": 8,
      "outputs": [
        {
          "output_type": "stream",
          "name": "stdout",
          "text": [
            "Customers Schema:\n",
            "root\n",
            " |-- CustomerID: integer (nullable = true)\n",
            " |-- Name: string (nullable = true)\n",
            " |-- Email: string (nullable = true)\n",
            " |-- City: string (nullable = true)\n",
            " |-- SignupDate: date (nullable = true)\n",
            "\n",
            "Orders Schema:\n",
            "root\n",
            " |-- OrderID: integer (nullable = true)\n",
            " |-- CustomerID: integer (nullable = true)\n",
            " |-- Product: string (nullable = true)\n",
            " |-- Category: string (nullable = true)\n",
            " |-- Quantity: integer (nullable = true)\n",
            " |-- Price: double (nullable = true)\n",
            " |-- OrderDate: date (nullable = true)\n",
            "\n"
          ]
        }
      ]
    },
    {
      "cell_type": "markdown",
      "source": [
        "Count the total number of customers and orders."
      ],
      "metadata": {
        "id": "fTVe3m9PKFxp"
      }
    },
    {
      "cell_type": "code",
      "source": [
        "print(\"Total Customers:\", customers_df.count())\n",
        "print(\"Total Orders:\", orders_df.count())"
      ],
      "metadata": {
        "colab": {
          "base_uri": "https://localhost:8080/"
        },
        "id": "s_iaXyZEKIfE",
        "outputId": "02887bea-a20c-41ff-c046-06c2303c7612"
      },
      "execution_count": 9,
      "outputs": [
        {
          "output_type": "stream",
          "name": "stdout",
          "text": [
            "Total Customers: 5\n",
            "Total Orders: 7\n"
          ]
        }
      ]
    },
    {
      "cell_type": "markdown",
      "source": [
        "Show distinct cities."
      ],
      "metadata": {
        "id": "bjN4SMCwKL20"
      }
    },
    {
      "cell_type": "code",
      "source": [
        "customers_df.select(\"City\").distinct().show()"
      ],
      "metadata": {
        "colab": {
          "base_uri": "https://localhost:8080/"
        },
        "id": "nHlyuBOrKOI3",
        "outputId": "bbe3885c-7693-464c-ad54-edef9f3f3d30"
      },
      "execution_count": 10,
      "outputs": [
        {
          "output_type": "stream",
          "name": "stdout",
          "text": [
            "+---------+\n",
            "|     City|\n",
            "+---------+\n",
            "|Bangalore|\n",
            "|  Chennai|\n",
            "|   Mumbai|\n",
            "|    Delhi|\n",
            "|Hyderabad|\n",
            "+---------+\n",
            "\n"
          ]
        }
      ]
    },
    {
      "cell_type": "markdown",
      "source": [
        "2. DataFrame Transformations"
      ],
      "metadata": {
        "id": "1AcPxYjRKUKe"
      }
    },
    {
      "cell_type": "markdown",
      "source": [
        "Add a column TotalAmount = Price * Quantity ."
      ],
      "metadata": {
        "id": "bjBDzlGXKUu8"
      }
    },
    {
      "cell_type": "code",
      "source": [
        "from pyspark.sql.functions import col\n",
        "\n",
        "orders_df = orders_df.withColumn(\"TotalAmount\", col(\"Price\") * col(\"Quantity\"))\n",
        "orders_df.select(\"OrderID\", \"Product\", \"Quantity\", \"Price\", \"TotalAmount\").show()"
      ],
      "metadata": {
        "colab": {
          "base_uri": "https://localhost:8080/"
        },
        "id": "R55K9ZX1KXPi",
        "outputId": "7e494f8c-4fac-402c-9837-fc1f3d8da65d"
      },
      "execution_count": 11,
      "outputs": [
        {
          "output_type": "stream",
          "name": "stdout",
          "text": [
            "+-------+---------+--------+-------+-----------+\n",
            "|OrderID|  Product|Quantity|  Price|TotalAmount|\n",
            "+-------+---------+--------+-------+-----------+\n",
            "|      1|   Laptop|       2|50000.0|   100000.0|\n",
            "|      2|    Mouse|       1| 1200.0|     1200.0|\n",
            "|      3|   Tablet|       1|20000.0|    20000.0|\n",
            "|      4|Bookshelf|       1| 3500.0|     3500.0|\n",
            "|      5|    Mixer|       1| 5000.0|     5000.0|\n",
            "|      6| Notebook|       5|  500.0|     2500.0|\n",
            "|      7|    Phone|       1|30000.0|    30000.0|\n",
            "+-------+---------+--------+-------+-----------+\n",
            "\n"
          ]
        }
      ]
    },
    {
      "cell_type": "markdown",
      "source": [
        "Create a new column OrderYear from OrderDate ."
      ],
      "metadata": {
        "id": "gyfoaUoFK3wx"
      }
    },
    {
      "cell_type": "code",
      "source": [
        "from pyspark.sql.functions import year, to_date\n",
        "\n",
        "orders_df = orders_df.withColumn(\"OrderDate\", to_date(col(\"OrderDate\")))\n",
        "\n",
        "orders_df = orders_df.withColumn(\"OrderYear\", year(col(\"OrderDate\")))\n",
        "orders_df.select(\"OrderID\", \"OrderDate\", \"OrderYear\").show()"
      ],
      "metadata": {
        "colab": {
          "base_uri": "https://localhost:8080/"
        },
        "id": "CFhSFcv9K6dq",
        "outputId": "943191bd-728f-453d-a49c-82f5ddb7191d"
      },
      "execution_count": 12,
      "outputs": [
        {
          "output_type": "stream",
          "name": "stdout",
          "text": [
            "+-------+----------+---------+\n",
            "|OrderID| OrderDate|OrderYear|\n",
            "+-------+----------+---------+\n",
            "|      1|2024-01-10|     2024|\n",
            "|      2|2024-01-15|     2024|\n",
            "|      3|2024-02-01|     2024|\n",
            "|      4|2024-02-10|     2024|\n",
            "|      5|2024-02-15|     2024|\n",
            "|      6|2024-03-01|     2024|\n",
            "|      7|2024-03-02|     2024|\n",
            "+-------+----------+---------+\n",
            "\n"
          ]
        }
      ]
    },
    {
      "cell_type": "markdown",
      "source": [
        "Filter orders with TotalAmount > 10,000 ."
      ],
      "metadata": {
        "id": "w8cmE8AbLBPW"
      }
    },
    {
      "cell_type": "code",
      "source": [
        "high_value_orders = orders_df.filter(col(\"TotalAmount\") > 10000)\n",
        "high_value_orders.select(\"OrderID\", \"Product\", \"TotalAmount\").show()"
      ],
      "metadata": {
        "colab": {
          "base_uri": "https://localhost:8080/"
        },
        "id": "oDFHE868LBvU",
        "outputId": "57b63b1b-fab1-43bf-d10e-5adf40f7ffb1"
      },
      "execution_count": 13,
      "outputs": [
        {
          "output_type": "stream",
          "name": "stdout",
          "text": [
            "+-------+-------+-----------+\n",
            "|OrderID|Product|TotalAmount|\n",
            "+-------+-------+-----------+\n",
            "|      1| Laptop|   100000.0|\n",
            "|      3| Tablet|    20000.0|\n",
            "|      7|  Phone|    30000.0|\n",
            "+-------+-------+-----------+\n",
            "\n"
          ]
        }
      ]
    },
    {
      "cell_type": "markdown",
      "source": [
        "Drop the Email column from customers."
      ],
      "metadata": {
        "id": "7a7m1ZAuLFJx"
      }
    },
    {
      "cell_type": "code",
      "source": [
        "customers_df = customers_df.drop(\"Email\")\n",
        "customers_df.show()"
      ],
      "metadata": {
        "colab": {
          "base_uri": "https://localhost:8080/"
        },
        "id": "T0fdXJ4rLLET",
        "outputId": "b22bc6df-e631-4be0-f7f1-68a5a018f041"
      },
      "execution_count": 14,
      "outputs": [
        {
          "output_type": "stream",
          "name": "stdout",
          "text": [
            "+----------+-----+---------+----------+\n",
            "|CustomerID| Name|     City|SignupDate|\n",
            "+----------+-----+---------+----------+\n",
            "|       101|  Ali|   Mumbai|2022-05-10|\n",
            "|       102| Neha|    Delhi|2023-01-15|\n",
            "|       103| Ravi|Bangalore|2021-11-01|\n",
            "|       104|Sneha|Hyderabad|2020-07-22|\n",
            "|       105| Amit|  Chennai|2023-03-10|\n",
            "+----------+-----+---------+----------+\n",
            "\n"
          ]
        }
      ]
    },
    {
      "cell_type": "markdown",
      "source": [
        "3. Handling Nulls & Conditionals"
      ],
      "metadata": {
        "id": "41cfRPNfLUsH"
      }
    },
    {
      "cell_type": "markdown",
      "source": [
        "Simulate a null in City and fill it with “Unknown”."
      ],
      "metadata": {
        "id": "c5nJnFX-LVgU"
      }
    },
    {
      "cell_type": "code",
      "source": [
        "from pyspark.sql.functions import when\n",
        "\n",
        "customers_df = customers_df.withColumn(\n",
        "    \"City\", when(col(\"CustomerID\") == 105, None).otherwise(col(\"City\"))\n",
        ")\n",
        "\n",
        "customers_df = customers_df.fillna({\"City\": \"Unknown\"})\n",
        "customers_df.select(\"CustomerID\", \"Name\", \"City\").show()"
      ],
      "metadata": {
        "colab": {
          "base_uri": "https://localhost:8080/"
        },
        "id": "NHt2Vu3eLXlo",
        "outputId": "0705d776-27a1-428f-bed6-b54169c92576"
      },
      "execution_count": 15,
      "outputs": [
        {
          "output_type": "stream",
          "name": "stdout",
          "text": [
            "+----------+-----+---------+\n",
            "|CustomerID| Name|     City|\n",
            "+----------+-----+---------+\n",
            "|       101|  Ali|   Mumbai|\n",
            "|       102| Neha|    Delhi|\n",
            "|       103| Ravi|Bangalore|\n",
            "|       104|Sneha|Hyderabad|\n",
            "|       105| Amit|  Unknown|\n",
            "+----------+-----+---------+\n",
            "\n"
          ]
        }
      ]
    },
    {
      "cell_type": "markdown",
      "source": [
        "Label customers as “Loyal” if SignupDate is before 2022, else “New”."
      ],
      "metadata": {
        "id": "iv2wiq5_LeQi"
      }
    },
    {
      "cell_type": "code",
      "source": [
        "from pyspark.sql.functions import to_date\n",
        "\n",
        "customers_df = customers_df.withColumn(\"SignupDate\", to_date(\"SignupDate\"))\n",
        "\n",
        "customers_df = customers_df.withColumn(\n",
        "    \"CustomerType\",\n",
        "    when(col(\"SignupDate\") < \"2022-01-01\", \"Loyal\").otherwise(\"New\")\n",
        ")\n",
        "\n",
        "customers_df.select(\"CustomerID\", \"SignupDate\", \"CustomerType\").show()"
      ],
      "metadata": {
        "colab": {
          "base_uri": "https://localhost:8080/"
        },
        "id": "d-g-xjo8Le51",
        "outputId": "f4e5e3ea-dee9-4bcc-f0ea-19e773a7d4a5"
      },
      "execution_count": 16,
      "outputs": [
        {
          "output_type": "stream",
          "name": "stdout",
          "text": [
            "+----------+----------+------------+\n",
            "|CustomerID|SignupDate|CustomerType|\n",
            "+----------+----------+------------+\n",
            "|       101|2022-05-10|         New|\n",
            "|       102|2023-01-15|         New|\n",
            "|       103|2021-11-01|       Loyal|\n",
            "|       104|2020-07-22|       Loyal|\n",
            "|       105|2023-03-10|         New|\n",
            "+----------+----------+------------+\n",
            "\n"
          ]
        }
      ]
    },
    {
      "cell_type": "markdown",
      "source": [
        "Create OrderType column: \"Low\" if <5,000, \"High\" if ≥5,000."
      ],
      "metadata": {
        "id": "VqEepm4VLjkC"
      }
    },
    {
      "cell_type": "code",
      "source": [
        "orders_df = orders_df.withColumn(\n",
        "    \"OrderType\",\n",
        "    when(col(\"TotalAmount\") < 5000, \"Low\").otherwise(\"High\")\n",
        ")\n",
        "\n",
        "orders_df.select(\"OrderID\", \"Product\", \"TotalAmount\", \"OrderType\").show()"
      ],
      "metadata": {
        "colab": {
          "base_uri": "https://localhost:8080/"
        },
        "id": "2FGHkG-MLsVE",
        "outputId": "b39a0c03-c0bd-483b-add3-073f81a53546"
      },
      "execution_count": 17,
      "outputs": [
        {
          "output_type": "stream",
          "name": "stdout",
          "text": [
            "+-------+---------+-----------+---------+\n",
            "|OrderID|  Product|TotalAmount|OrderType|\n",
            "+-------+---------+-----------+---------+\n",
            "|      1|   Laptop|   100000.0|     High|\n",
            "|      2|    Mouse|     1200.0|      Low|\n",
            "|      3|   Tablet|    20000.0|     High|\n",
            "|      4|Bookshelf|     3500.0|      Low|\n",
            "|      5|    Mixer|     5000.0|     High|\n",
            "|      6| Notebook|     2500.0|      Low|\n",
            "|      7|    Phone|    30000.0|     High|\n",
            "+-------+---------+-----------+---------+\n",
            "\n"
          ]
        }
      ]
    },
    {
      "cell_type": "markdown",
      "source": [
        "Joins & Aggregations"
      ],
      "metadata": {
        "id": "HHCC0MF3Lv5P"
      }
    },
    {
      "cell_type": "markdown",
      "source": [
        "Join customers and orders on CustomerID ."
      ],
      "metadata": {
        "id": "T80otHSyL13-"
      }
    },
    {
      "cell_type": "code",
      "source": [
        "joined_df = orders_df.join(customers_df, on=\"CustomerID\", how=\"inner\")\n",
        "joined_df.select(\"OrderID\", \"Name\", \"City\", \"Product\", \"TotalAmount\").show()"
      ],
      "metadata": {
        "colab": {
          "base_uri": "https://localhost:8080/"
        },
        "id": "5ZsRWQcDL3_r",
        "outputId": "7039e8ac-5815-4ddc-82ec-371b88f9a9bb"
      },
      "execution_count": 18,
      "outputs": [
        {
          "output_type": "stream",
          "name": "stdout",
          "text": [
            "+-------+-----+---------+---------+-----------+\n",
            "|OrderID| Name|     City|  Product|TotalAmount|\n",
            "+-------+-----+---------+---------+-----------+\n",
            "|      1|  Ali|   Mumbai|   Laptop|   100000.0|\n",
            "|      2|  Ali|   Mumbai|    Mouse|     1200.0|\n",
            "|      3| Neha|    Delhi|   Tablet|    20000.0|\n",
            "|      4| Ravi|Bangalore|Bookshelf|     3500.0|\n",
            "|      5|Sneha|Hyderabad|    Mixer|     5000.0|\n",
            "|      6| Amit|  Unknown| Notebook|     2500.0|\n",
            "|      7| Neha|    Delhi|    Phone|    30000.0|\n",
            "+-------+-----+---------+---------+-----------+\n",
            "\n"
          ]
        }
      ]
    },
    {
      "cell_type": "markdown",
      "source": [
        "Get total orders and revenue per city."
      ],
      "metadata": {
        "id": "S0VZOHu6L9Da"
      }
    },
    {
      "cell_type": "code",
      "source": [
        "from pyspark.sql.functions import count, sum\n",
        "\n",
        "city_agg_df = joined_df.groupBy(\"City\") \\\n",
        "    .agg(\n",
        "        count(\"OrderID\").alias(\"TotalOrders\"),\n",
        "        sum(\"TotalAmount\").alias(\"TotalRevenue\")\n",
        "    )\n",
        "city_agg_df.show()"
      ],
      "metadata": {
        "colab": {
          "base_uri": "https://localhost:8080/"
        },
        "id": "hr7GjRC2L_mm",
        "outputId": "829867e2-d6e6-4e24-8d91-041cad118ec0"
      },
      "execution_count": 19,
      "outputs": [
        {
          "output_type": "stream",
          "name": "stdout",
          "text": [
            "+---------+-----------+------------+\n",
            "|     City|TotalOrders|TotalRevenue|\n",
            "+---------+-----------+------------+\n",
            "|Bangalore|          1|      3500.0|\n",
            "|   Mumbai|          2|    101200.0|\n",
            "|  Unknown|          1|      2500.0|\n",
            "|    Delhi|          2|     50000.0|\n",
            "|Hyderabad|          1|      5000.0|\n",
            "+---------+-----------+------------+\n",
            "\n"
          ]
        }
      ]
    },
    {
      "cell_type": "markdown",
      "source": [
        "Show top 3 customers by total spend."
      ],
      "metadata": {
        "id": "3oSLqKwTMHUg"
      }
    },
    {
      "cell_type": "code",
      "source": [
        "customer_spend_df = joined_df.groupBy(\"CustomerID\", \"Name\") \\\n",
        "    .agg(sum(\"TotalAmount\").alias(\"TotalSpend\")) \\\n",
        "    .orderBy(col(\"TotalSpend\").desc()) \\\n",
        "    .limit(3)\n",
        "\n",
        "customer_spend_df.show()"
      ],
      "metadata": {
        "colab": {
          "base_uri": "https://localhost:8080/"
        },
        "id": "teZNvzPmMLhN",
        "outputId": "7a784b44-b9b6-4ff5-e2bd-b21a96845b63"
      },
      "execution_count": 20,
      "outputs": [
        {
          "output_type": "stream",
          "name": "stdout",
          "text": [
            "+----------+-----+----------+\n",
            "|CustomerID| Name|TotalSpend|\n",
            "+----------+-----+----------+\n",
            "|       101|  Ali|  101200.0|\n",
            "|       102| Neha|   50000.0|\n",
            "|       104|Sneha|    5000.0|\n",
            "+----------+-----+----------+\n",
            "\n"
          ]
        }
      ]
    },
    {
      "cell_type": "markdown",
      "source": [
        "Count how many products each category has sold."
      ],
      "metadata": {
        "id": "VGO-KAUyMQa_"
      }
    },
    {
      "cell_type": "code",
      "source": [
        "category_sales_df = orders_df.groupBy(\"Category\") \\\n",
        "    .agg(sum(\"Quantity\").alias(\"TotalQuantitySold\"))\n",
        "\n",
        "category_sales_df.show()"
      ],
      "metadata": {
        "colab": {
          "base_uri": "https://localhost:8080/"
        },
        "id": "gE4XTwryMQ8O",
        "outputId": "f2dac1a7-f1ab-46b2-9726-a5e9c0ee640a"
      },
      "execution_count": 21,
      "outputs": [
        {
          "output_type": "stream",
          "name": "stdout",
          "text": [
            "+-----------+-----------------+\n",
            "|   Category|TotalQuantitySold|\n",
            "+-----------+-----------------+\n",
            "| Stationery|                5|\n",
            "|Electronics|                5|\n",
            "|  Furniture|                1|\n",
            "| Appliances|                1|\n",
            "+-----------+-----------------+\n",
            "\n"
          ]
        }
      ]
    },
    {
      "cell_type": "markdown",
      "source": [
        "5. Spark SQL Tasks"
      ],
      "metadata": {
        "id": "kcD6y_dmMUFk"
      }
    },
    {
      "cell_type": "markdown",
      "source": [
        "Create database sales and switch to it."
      ],
      "metadata": {
        "id": "mB4nPIYHMWAp"
      }
    },
    {
      "cell_type": "code",
      "source": [
        "spark.sql(\"CREATE DATABASE IF NOT EXISTS sales\")\n",
        "spark.sql(\"USE sales\")"
      ],
      "metadata": {
        "colab": {
          "base_uri": "https://localhost:8080/"
        },
        "id": "wzcpPpwLMaxu",
        "outputId": "e1b99329-2c2d-45e1-89ca-c743a4c3d7d9"
      },
      "execution_count": 22,
      "outputs": [
        {
          "output_type": "execute_result",
          "data": {
            "text/plain": [
              "DataFrame[]"
            ]
          },
          "metadata": {},
          "execution_count": 22
        }
      ]
    },
    {
      "cell_type": "markdown",
      "source": [
        "Save both datasets as tables in the sales database."
      ],
      "metadata": {
        "id": "yVHPRLBVMf0L"
      }
    },
    {
      "cell_type": "code",
      "source": [
        "customers_df.createOrReplaceTempView(\"customers_view\")\n",
        "orders_df.createOrReplaceTempView(\"orders_view\")\n",
        "\n",
        "customers_df.write.mode(\"overwrite\").saveAsTable(\"sales.customers\")\n",
        "orders_df.write.mode(\"overwrite\").saveAsTable(\"sales.orders\")"
      ],
      "metadata": {
        "id": "OUagFPLGMiLz"
      },
      "execution_count": 23,
      "outputs": []
    },
    {
      "cell_type": "markdown",
      "source": [
        "SQL: List all orders by customers from “Delhi”"
      ],
      "metadata": {
        "id": "5ktVoQ2gMqF6"
      }
    },
    {
      "cell_type": "code",
      "source": [
        "spark.sql(\"\"\"\n",
        "    SELECT o.*\n",
        "    FROM sales.orders o\n",
        "    JOIN sales.customers c ON o.CustomerID = c.CustomerID\n",
        "    WHERE c.City = 'Delhi'\n",
        "\"\"\").show()"
      ],
      "metadata": {
        "colab": {
          "base_uri": "https://localhost:8080/"
        },
        "id": "90Bs9pymMs4O",
        "outputId": "63733286-f391-4802-c999-c0c691308d56"
      },
      "execution_count": 24,
      "outputs": [
        {
          "output_type": "stream",
          "name": "stdout",
          "text": [
            "+-------+----------+-------+-----------+--------+-------+----------+-----------+---------+---------+\n",
            "|OrderID|CustomerID|Product|   Category|Quantity|  Price| OrderDate|TotalAmount|OrderYear|OrderType|\n",
            "+-------+----------+-------+-----------+--------+-------+----------+-----------+---------+---------+\n",
            "|      3|       102| Tablet|Electronics|       1|20000.0|2024-02-01|    20000.0|     2024|     High|\n",
            "|      7|       102|  Phone|Electronics|       1|30000.0|2024-03-02|    30000.0|     2024|     High|\n",
            "+-------+----------+-------+-----------+--------+-------+----------+-----------+---------+---------+\n",
            "\n"
          ]
        }
      ]
    },
    {
      "cell_type": "markdown",
      "source": [
        "SQL: Find average order value in each category"
      ],
      "metadata": {
        "id": "Exl1GlL9Mvk-"
      }
    },
    {
      "cell_type": "code",
      "source": [
        "spark.sql(\"\"\"\n",
        "    SELECT Category, AVG(Price * Quantity) AS AvgOrderValue\n",
        "    FROM sales.orders\n",
        "    GROUP BY Category\n",
        "\"\"\").show()"
      ],
      "metadata": {
        "colab": {
          "base_uri": "https://localhost:8080/"
        },
        "id": "bMZE6A4HMyQa",
        "outputId": "59b1278f-9932-42b4-f8d8-94a5495a0f66"
      },
      "execution_count": 25,
      "outputs": [
        {
          "output_type": "stream",
          "name": "stdout",
          "text": [
            "+-----------+-------------+\n",
            "|   Category|AvgOrderValue|\n",
            "+-----------+-------------+\n",
            "| Stationery|       2500.0|\n",
            "|Electronics|      37800.0|\n",
            "|  Furniture|       3500.0|\n",
            "| Appliances|       5000.0|\n",
            "+-----------+-------------+\n",
            "\n"
          ]
        }
      ]
    },
    {
      "cell_type": "markdown",
      "source": [
        " Create a view monthly_orders with month-wise total amount"
      ],
      "metadata": {
        "id": "EeIXuy27M0te"
      }
    },
    {
      "cell_type": "code",
      "source": [
        "spark.sql(\"DROP VIEW IF EXISTS monthly_orders\")\n",
        "\n",
        "spark.sql(\"\"\"\n",
        "    CREATE OR REPLACE TEMP VIEW monthly_orders AS\n",
        "    SELECT\n",
        "        DATE_FORMAT(OrderDate, 'yyyy-MM') AS OrderMonth,\n",
        "        SUM(Price * Quantity) AS TotalMonthlyAmount\n",
        "    FROM sales.orders\n",
        "    GROUP BY DATE_FORMAT(OrderDate, 'yyyy-MM')\n",
        "\"\"\")\n",
        "\n",
        "spark.sql(\"SELECT * FROM monthly_orders ORDER BY OrderMonth\").show()"
      ],
      "metadata": {
        "colab": {
          "base_uri": "https://localhost:8080/"
        },
        "id": "jKbqYzplM228",
        "outputId": "3ffe3254-5ba3-42e9-e1f9-90196bd3b4e2"
      },
      "execution_count": 26,
      "outputs": [
        {
          "output_type": "stream",
          "name": "stdout",
          "text": [
            "+----------+------------------+\n",
            "|OrderMonth|TotalMonthlyAmount|\n",
            "+----------+------------------+\n",
            "|   2024-01|          101200.0|\n",
            "|   2024-02|           28500.0|\n",
            "|   2024-03|           32500.0|\n",
            "+----------+------------------+\n",
            "\n"
          ]
        }
      ]
    },
    {
      "cell_type": "markdown",
      "source": [
        "6. String & Date Functions"
      ],
      "metadata": {
        "id": "tp4kg0jCNA2w"
      }
    },
    {
      "cell_type": "markdown",
      "source": [
        "Mask emails using regex"
      ],
      "metadata": {
        "id": "GCjoX_4iND2z"
      }
    },
    {
      "cell_type": "code",
      "source": [
        "from pyspark.sql.functions import regexp_replace\n",
        "\n",
        "from pyspark.sql.functions import expr\n",
        "\n",
        "customers_with_email = customers_df.withColumn(\"Email\", expr(\"\"\"\n",
        "  CASE CustomerID\n",
        "    WHEN 101 THEN 'ali@gmail.com'\n",
        "    WHEN 102 THEN 'neha@yahoo.com'\n",
        "    WHEN 103 THEN 'ravi@hotmail.com'\n",
        "    WHEN 104 THEN 'sneha@outlook.com'\n",
        "    WHEN 105 THEN 'amit@gmail.com'\n",
        "  END\n",
        "\"\"\"))\n",
        "masked_email_df = customers_with_email.withColumn(\n",
        "    \"MaskedEmail\",\n",
        "    regexp_replace(\"Email\", r\"(^.).*?(@.*$)\", r\"\\1***\\2\")\n",
        ")\n",
        "\n",
        "masked_email_df.select(\"CustomerID\", \"Email\", \"MaskedEmail\").show()"
      ],
      "metadata": {
        "colab": {
          "base_uri": "https://localhost:8080/"
        },
        "id": "zhq2fZCYNBWF",
        "outputId": "bc13bd9c-68b4-44d0-f13e-d1a67d1a605a"
      },
      "execution_count": 27,
      "outputs": [
        {
          "output_type": "stream",
          "name": "stdout",
          "text": [
            "+----------+-----------------+-----------+\n",
            "|CustomerID|            Email|MaskedEmail|\n",
            "+----------+-----------------+-----------+\n",
            "|       101|    ali@gmail.com|      1***2|\n",
            "|       102|   neha@yahoo.com|      1***2|\n",
            "|       103| ravi@hotmail.com|      1***2|\n",
            "|       104|sneha@outlook.com|      1***2|\n",
            "|       105|   amit@gmail.com|      1***2|\n",
            "+----------+-----------------+-----------+\n",
            "\n"
          ]
        }
      ]
    },
    {
      "cell_type": "markdown",
      "source": [
        "Concatenate Name and City as “Name from City”."
      ],
      "metadata": {
        "id": "iWsuomaaNLKL"
      }
    },
    {
      "cell_type": "code",
      "source": [
        "from pyspark.sql.functions import concat_ws\n",
        "\n",
        "customers_labeled_df = customers_df.withColumn(\n",
        "    \"NameCity\",\n",
        "    concat_ws(\" from \", col(\"Name\"), col(\"City\"))\n",
        ")\n",
        "customers_labeled_df.select(\"CustomerID\", \"NameCity\").show()"
      ],
      "metadata": {
        "colab": {
          "base_uri": "https://localhost:8080/"
        },
        "id": "PgFpvDIbNNGV",
        "outputId": "7df52ba9-a943-4387-9c7f-d3d266f3ef85"
      },
      "execution_count": 28,
      "outputs": [
        {
          "output_type": "stream",
          "name": "stdout",
          "text": [
            "+----------+--------------------+\n",
            "|CustomerID|            NameCity|\n",
            "+----------+--------------------+\n",
            "|       101|     Ali from Mumbai|\n",
            "|       102|     Neha from Delhi|\n",
            "|       103| Ravi from Bangalore|\n",
            "|       104|Sneha from Hyderabad|\n",
            "|       105|   Amit from Unknown|\n",
            "+----------+--------------------+\n",
            "\n"
          ]
        }
      ]
    },
    {
      "cell_type": "markdown",
      "source": [
        "Use datediff() to calculate customer age in days."
      ],
      "metadata": {
        "id": "Cj0vnrp7NRFV"
      }
    },
    {
      "cell_type": "code",
      "source": [
        "from pyspark.sql.functions import current_date, datediff\n",
        "\n",
        "customers_df = customers_df.withColumn(\"SignupDate\", to_date(\"SignupDate\"))\n",
        "customers_df = customers_df.withColumn(\n",
        "    \"CustomerAgeInDays\",\n",
        "    datediff(current_date(), col(\"SignupDate\"))\n",
        ")\n",
        "customers_df.select(\"CustomerID\", \"SignupDate\", \"CustomerAgeInDays\").show()"
      ],
      "metadata": {
        "colab": {
          "base_uri": "https://localhost:8080/"
        },
        "id": "NoyDa8ewNUDx",
        "outputId": "c0f00284-61de-4ac8-ce90-5c49820ac194"
      },
      "execution_count": 29,
      "outputs": [
        {
          "output_type": "stream",
          "name": "stdout",
          "text": [
            "+----------+----------+-----------------+\n",
            "|CustomerID|SignupDate|CustomerAgeInDays|\n",
            "+----------+----------+-----------------+\n",
            "|       101|2022-05-10|             1126|\n",
            "|       102|2023-01-15|              876|\n",
            "|       103|2021-11-01|             1316|\n",
            "|       104|2020-07-22|             1783|\n",
            "|       105|2023-03-10|              822|\n",
            "+----------+----------+-----------------+\n",
            "\n"
          ]
        }
      ]
    },
    {
      "cell_type": "markdown",
      "source": [
        "Extract month name from OrderDate ."
      ],
      "metadata": {
        "id": "zQ_rMh9wNYc2"
      }
    },
    {
      "cell_type": "code",
      "source": [
        "from pyspark.sql.functions import date_format\n",
        "\n",
        "orders_df = orders_df.withColumn(\"OrderMonthName\", date_format(\"OrderDate\", \"MMMM\"))\n",
        "orders_df.select(\"OrderID\", \"OrderDate\", \"OrderMonthName\").show()"
      ],
      "metadata": {
        "colab": {
          "base_uri": "https://localhost:8080/"
        },
        "id": "7euGuV5ZNY4R",
        "outputId": "bf558046-2967-41d7-a40a-9976f6903f20"
      },
      "execution_count": 30,
      "outputs": [
        {
          "output_type": "stream",
          "name": "stdout",
          "text": [
            "+-------+----------+--------------+\n",
            "|OrderID| OrderDate|OrderMonthName|\n",
            "+-------+----------+--------------+\n",
            "|      1|2024-01-10|       January|\n",
            "|      2|2024-01-15|       January|\n",
            "|      3|2024-02-01|      February|\n",
            "|      4|2024-02-10|      February|\n",
            "|      5|2024-02-15|      February|\n",
            "|      6|2024-03-01|         March|\n",
            "|      7|2024-03-02|         March|\n",
            "+-------+----------+--------------+\n",
            "\n"
          ]
        }
      ]
    },
    {
      "cell_type": "markdown",
      "source": [
        "7. UDFs and Complex Logic"
      ],
      "metadata": {
        "id": "nTDIprjMNblL"
      }
    },
    {
      "cell_type": "markdown",
      "source": [
        "Write a UDF to tag customers."
      ],
      "metadata": {
        "id": "7RgILih4NfEH"
      }
    },
    {
      "cell_type": "code",
      "source": [
        "from pyspark.sql.functions import sum\n",
        "\n",
        "customer_spend = orders_df.groupBy(\"CustomerID\") \\\n",
        "    .agg(sum(\"TotalAmount\").alias(\"TotalSpend\"))"
      ],
      "metadata": {
        "id": "67WzGMneNl6T"
      },
      "execution_count": 31,
      "outputs": []
    },
    {
      "cell_type": "code",
      "source": [
        "from pyspark.sql.functions import udf\n",
        "from pyspark.sql.types import StringType\n",
        "\n",
        "def tag_customer(spend):\n",
        "    if spend > 50000:\n",
        "        return \"Gold\"\n",
        "    elif spend >= 10000:\n",
        "        return \"Silver\"\n",
        "    else:\n",
        "        return \"Bronze\"\n",
        "\n",
        "tag_udf = udf(tag_customer, StringType())"
      ],
      "metadata": {
        "id": "_s69-MwDNv3G"
      },
      "execution_count": 32,
      "outputs": []
    },
    {
      "cell_type": "code",
      "source": [
        "customer_spend = customer_spend.withColumn(\"CustomerTag\", tag_udf(col(\"TotalSpend\")))\n",
        "customer_spend.show()"
      ],
      "metadata": {
        "colab": {
          "base_uri": "https://localhost:8080/"
        },
        "id": "XAq_8-5QNxMw",
        "outputId": "65224ccc-88b9-4051-d50c-775de6c654d0"
      },
      "execution_count": 33,
      "outputs": [
        {
          "output_type": "stream",
          "name": "stdout",
          "text": [
            "+----------+----------+-----------+\n",
            "|CustomerID|TotalSpend|CustomerTag|\n",
            "+----------+----------+-----------+\n",
            "|       101|  101200.0|       Gold|\n",
            "|       103|    3500.0|     Bronze|\n",
            "|       102|   50000.0|     Silver|\n",
            "|       105|    2500.0|     Bronze|\n",
            "|       104|    5000.0|     Bronze|\n",
            "+----------+----------+-----------+\n",
            "\n"
          ]
        }
      ]
    },
    {
      "cell_type": "markdown",
      "source": [
        "Write a UDF to shorten product names"
      ],
      "metadata": {
        "id": "P1RGCQuzN09Z"
      }
    },
    {
      "cell_type": "code",
      "source": [
        "def shorten_product(name):\n",
        "    if name and len(name) > 3:\n",
        "        return name[:3] + \"...\"\n",
        "    return name\n",
        "\n",
        "shorten_udf = udf(shorten_product, StringType())\n",
        "\n",
        "orders_short_df = orders_df.withColumn(\"ShortProduct\", shorten_udf(col(\"Product\")))\n",
        "orders_short_df.select(\"Product\", \"ShortProduct\").show()"
      ],
      "metadata": {
        "colab": {
          "base_uri": "https://localhost:8080/"
        },
        "id": "No4R1wKsN4HG",
        "outputId": "01634733-a9c7-4618-8bbd-463d0328f00b"
      },
      "execution_count": 34,
      "outputs": [
        {
          "output_type": "stream",
          "name": "stdout",
          "text": [
            "+---------+------------+\n",
            "|  Product|ShortProduct|\n",
            "+---------+------------+\n",
            "|   Laptop|      Lap...|\n",
            "|    Mouse|      Mou...|\n",
            "|   Tablet|      Tab...|\n",
            "|Bookshelf|      Boo...|\n",
            "|    Mixer|      Mix...|\n",
            "| Notebook|      Not...|\n",
            "|    Phone|      Pho...|\n",
            "+---------+------------+\n",
            "\n"
          ]
        }
      ]
    },
    {
      "cell_type": "markdown",
      "source": [
        "8. Parquet & Views"
      ],
      "metadata": {
        "id": "ZXFYwf8vOEoK"
      }
    },
    {
      "cell_type": "markdown",
      "source": [
        "Save the joined result as a Parquet file."
      ],
      "metadata": {
        "id": "xHuo_c32OHRi"
      }
    },
    {
      "cell_type": "code",
      "source": [
        "parquet_path = \"/tmp/joined_customers_orders.parquet\"\n",
        "\n",
        "joined_df.write.mode(\"overwrite\").parquet(parquet_path)"
      ],
      "metadata": {
        "id": "vGJ3XfR6OEAx"
      },
      "execution_count": 35,
      "outputs": []
    },
    {
      "cell_type": "markdown",
      "source": [
        "Read it back and verify schema."
      ],
      "metadata": {
        "id": "fmoIu0FPOMVG"
      }
    },
    {
      "cell_type": "code",
      "source": [
        "parquet_df = spark.read.parquet(parquet_path)\n",
        "parquet_df.printSchema()\n",
        "parquet_df.show(5)"
      ],
      "metadata": {
        "colab": {
          "base_uri": "https://localhost:8080/"
        },
        "id": "vWpyD5JsOO9l",
        "outputId": "f1919a4e-9a0d-45fa-da99-a812156823c3"
      },
      "execution_count": 36,
      "outputs": [
        {
          "output_type": "stream",
          "name": "stdout",
          "text": [
            "root\n",
            " |-- CustomerID: integer (nullable = true)\n",
            " |-- OrderID: integer (nullable = true)\n",
            " |-- Product: string (nullable = true)\n",
            " |-- Category: string (nullable = true)\n",
            " |-- Quantity: integer (nullable = true)\n",
            " |-- Price: double (nullable = true)\n",
            " |-- OrderDate: date (nullable = true)\n",
            " |-- TotalAmount: double (nullable = true)\n",
            " |-- OrderYear: integer (nullable = true)\n",
            " |-- OrderType: string (nullable = true)\n",
            " |-- Name: string (nullable = true)\n",
            " |-- City: string (nullable = true)\n",
            " |-- SignupDate: date (nullable = true)\n",
            " |-- CustomerType: string (nullable = true)\n",
            "\n",
            "+----------+-------+---------+-----------+--------+-------+----------+-----------+---------+---------+-----+---------+----------+------------+\n",
            "|CustomerID|OrderID|  Product|   Category|Quantity|  Price| OrderDate|TotalAmount|OrderYear|OrderType| Name|     City|SignupDate|CustomerType|\n",
            "+----------+-------+---------+-----------+--------+-------+----------+-----------+---------+---------+-----+---------+----------+------------+\n",
            "|       101|      1|   Laptop|Electronics|       2|50000.0|2024-01-10|   100000.0|     2024|     High|  Ali|   Mumbai|2022-05-10|         New|\n",
            "|       101|      2|    Mouse|Electronics|       1| 1200.0|2024-01-15|     1200.0|     2024|      Low|  Ali|   Mumbai|2022-05-10|         New|\n",
            "|       102|      3|   Tablet|Electronics|       1|20000.0|2024-02-01|    20000.0|     2024|     High| Neha|    Delhi|2023-01-15|         New|\n",
            "|       103|      4|Bookshelf|  Furniture|       1| 3500.0|2024-02-10|     3500.0|     2024|      Low| Ravi|Bangalore|2021-11-01|       Loyal|\n",
            "|       104|      5|    Mixer| Appliances|       1| 5000.0|2024-02-15|     5000.0|     2024|     High|Sneha|Hyderabad|2020-07-22|       Loyal|\n",
            "+----------+-------+---------+-----------+--------+-------+----------+-----------+---------+---------+-----+---------+----------+------------+\n",
            "only showing top 5 rows\n",
            "\n"
          ]
        }
      ]
    },
    {
      "cell_type": "markdown",
      "source": [
        "Create and query a global temp view."
      ],
      "metadata": {
        "id": "-GS6LKUJOSJ0"
      }
    },
    {
      "cell_type": "code",
      "source": [
        "parquet_df.createGlobalTempView(\"global_joined_view\")\n",
        "\n",
        "spark.sql(\"SELECT * FROM global_temp.global_joined_view LIMIT 5\").show()"
      ],
      "metadata": {
        "colab": {
          "base_uri": "https://localhost:8080/"
        },
        "id": "iRaIqD_ZOUvV",
        "outputId": "f747849e-f2ab-48fa-a4b5-08552764184a"
      },
      "execution_count": 37,
      "outputs": [
        {
          "output_type": "stream",
          "name": "stdout",
          "text": [
            "+----------+-------+---------+-----------+--------+-------+----------+-----------+---------+---------+-----+---------+----------+------------+\n",
            "|CustomerID|OrderID|  Product|   Category|Quantity|  Price| OrderDate|TotalAmount|OrderYear|OrderType| Name|     City|SignupDate|CustomerType|\n",
            "+----------+-------+---------+-----------+--------+-------+----------+-----------+---------+---------+-----+---------+----------+------------+\n",
            "|       101|      1|   Laptop|Electronics|       2|50000.0|2024-01-10|   100000.0|     2024|     High|  Ali|   Mumbai|2022-05-10|         New|\n",
            "|       101|      2|    Mouse|Electronics|       1| 1200.0|2024-01-15|     1200.0|     2024|      Low|  Ali|   Mumbai|2022-05-10|         New|\n",
            "|       102|      3|   Tablet|Electronics|       1|20000.0|2024-02-01|    20000.0|     2024|     High| Neha|    Delhi|2023-01-15|         New|\n",
            "|       103|      4|Bookshelf|  Furniture|       1| 3500.0|2024-02-10|     3500.0|     2024|      Low| Ravi|Bangalore|2021-11-01|       Loyal|\n",
            "|       104|      5|    Mixer| Appliances|       1| 5000.0|2024-02-15|     5000.0|     2024|     High|Sneha|Hyderabad|2020-07-22|       Loyal|\n",
            "+----------+-------+---------+-----------+--------+-------+----------+-----------+---------+---------+-----+---------+----------+------------+\n",
            "\n"
          ]
        }
      ]
    },
    {
      "cell_type": "markdown",
      "source": [
        "Compare performance between CSV read and Parquet read."
      ],
      "metadata": {
        "id": "vjj-_v1lOYc_"
      }
    },
    {
      "cell_type": "code",
      "source": [
        "import time\n",
        "\n",
        "start_csv = time.time()\n",
        "csv_df = spark.read.option(\"header\", True).option(\"inferSchema\", True).csv(customers_path)\n",
        "csv_df.count()\n",
        "end_csv = time.time()\n",
        "print(f\"CSV read time: {end_csv - start_csv:.3f} seconds\")\n",
        "\n",
        "start_parquet = time.time()\n",
        "parquet_df = spark.read.parquet(parquet_path)\n",
        "parquet_df.count()\n",
        "end_parquet = time.time()\n",
        "print(f\"Parquet read time: {end_parquet - start_parquet:.3f} seconds\")"
      ],
      "metadata": {
        "colab": {
          "base_uri": "https://localhost:8080/"
        },
        "id": "8JdyGxoFOa5e",
        "outputId": "1c08d1a6-621e-45f8-dd93-2959fa3718c7"
      },
      "execution_count": 38,
      "outputs": [
        {
          "output_type": "stream",
          "name": "stdout",
          "text": [
            "CSV read time: 1.504 seconds\n",
            "Parquet read time: 0.593 seconds\n"
          ]
        }
      ]
    }
  ]
}