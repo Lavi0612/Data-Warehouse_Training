{
  "nbformat": 4,
  "nbformat_minor": 0,
  "metadata": {
    "colab": {
      "provenance": []
    },
    "kernelspec": {
      "name": "python3",
      "display_name": "Python 3"
    },
    "language_info": {
      "name": "python"
    }
  },
  "cells": [
    {
      "cell_type": "code",
      "execution_count": null,
      "metadata": {
        "colab": {
          "base_uri": "https://localhost:8080/"
        },
        "id": "hren3BH6RiAM",
        "outputId": "bad01aa0-ba7f-4cc3-b7fa-77bb521aaedf"
      },
      "outputs": [
        {
          "output_type": "stream",
          "name": "stdout",
          "text": [
            "Requirement already satisfied: pyspark in /usr/local/lib/python3.11/dist-packages (3.5.1)\n",
            "Requirement already satisfied: py4j==0.10.9.7 in /usr/local/lib/python3.11/dist-packages (from pyspark) (0.10.9.7)\n",
            "Mounted at /content/drive\n"
          ]
        }
      ],
      "source": [
        "!pip install pyspark\n",
        "\n",
        "# Mount Google Drive\n",
        "from google.colab import drive\n",
        "drive.mount('/content/drive')"
      ]
    },
    {
      "cell_type": "code",
      "source": [
        "from pyspark.sql import SparkSession\n",
        "\n",
        "spark = SparkSession.builder \\\n",
        "    .appName(\"Employee Dataset Analysis\") \\\n",
        "    .getOrCreate()\n"
      ],
      "metadata": {
        "id": "_o9kv7p5SHaF"
      },
      "execution_count": null,
      "outputs": []
    },
    {
      "cell_type": "code",
      "source": [
        "file_path = \"/content/drive/MyDrive/large_employee_dataset.csv\"\n",
        "\n",
        "df = spark.read.csv(file_path, header=True, inferSchema=True)\n",
        "df.show(5)\n"
      ],
      "metadata": {
        "colab": {
          "base_uri": "https://localhost:8080/"
        },
        "id": "gkiYuBL4SSxU",
        "outputId": "817e3bc2-e3f4-4b63-d7f3-e43bb8ec253d"
      },
      "execution_count": null,
      "outputs": [
        {
          "output_type": "stream",
          "name": "stdout",
          "text": [
            "+----------+-------------------+---+----------+------+-----------+--------+------------+\n",
            "|EmployeeID|               Name|Age|Department|Salary|JoiningDate|  Status|        City|\n",
            "+----------+-------------------+---+----------+------+-----------+--------+------------+\n",
            "|      4128|    Charles Johnson| 52|        HR| 64039| 2018-07-07|Resigned|   Allentown|\n",
            "|      6094|      Dylan Camacho| 57| Marketing| 34686| 2015-08-25|  Active| Anthonyfort|\n",
            "|      5883|Mr. Ryan Bowman Jr.| 29|   Finance| 64541| 2025-03-11|On Leave|   Gilesstad|\n",
            "|      9146|         Brian Ball| 24|     Sales| 87831| 2015-10-01|Resigned|Jenniferfurt|\n",
            "|      1918|      Angela Hooper| 26|   Finance|108773| 2019-08-14|On Leave|Lake Amystad|\n",
            "+----------+-------------------+---+----------+------+-----------+--------+------------+\n",
            "only showing top 5 rows\n",
            "\n"
          ]
        }
      ]
    },
    {
      "cell_type": "markdown",
      "source": [
        "1. Show top 10 rows"
      ],
      "metadata": {
        "id": "UiLUK-_DVyKy"
      }
    },
    {
      "cell_type": "code",
      "source": [
        "df.show(10)\n"
      ],
      "metadata": {
        "colab": {
          "base_uri": "https://localhost:8080/"
        },
        "id": "juNwMBD7Vzwo",
        "outputId": "6998218b-bb53-4cbb-c5df-36e24bad9db7"
      },
      "execution_count": null,
      "outputs": [
        {
          "output_type": "stream",
          "name": "stdout",
          "text": [
            "+----------+--------------------+---+----------+------+-----------+--------+------------+\n",
            "|EmployeeID|                Name|Age|Department|Salary|JoiningDate|  Status|        City|\n",
            "+----------+--------------------+---+----------+------+-----------+--------+------------+\n",
            "|      4128|     Charles Johnson| 52|        HR| 64039| 2018-07-07|Resigned|   Allentown|\n",
            "|      6094|       Dylan Camacho| 57| Marketing| 34686| 2015-08-25|  Active| Anthonyfort|\n",
            "|      5883| Mr. Ryan Bowman Jr.| 29|   Finance| 64541| 2025-03-11|On Leave|   Gilesstad|\n",
            "|      9146|          Brian Ball| 24|     Sales| 87831| 2015-10-01|Resigned|Jenniferfurt|\n",
            "|      1918|       Angela Hooper| 26|   Finance|108773| 2019-08-14|On Leave|Lake Amystad|\n",
            "|      4600|Alexander Johnson...| 45|     Sales| 75671| 2016-04-21|On Leave|  Russohaven|\n",
            "|      6253|         Steven Lane| 47|   Finance| 64982| 2021-07-25|  Active| East Robert|\n",
            "|      8278|       Riley Johnson| 49|        HR| 43449| 2015-08-03|Resigned|  New Thomas|\n",
            "|      8520|    Emily Washington| 43|   Finance| 33851| 2021-11-30|Resigned| West Ashley|\n",
            "|      1298|     Valerie Fleming| 42| Marketing| 70137| 2019-12-08|Resigned| Caseborough|\n",
            "+----------+--------------------+---+----------+------+-----------+--------+------------+\n",
            "only showing top 10 rows\n",
            "\n"
          ]
        }
      ]
    },
    {
      "cell_type": "markdown",
      "source": [
        "2. Count total employees\n"
      ],
      "metadata": {
        "id": "nEasOUOjV7kA"
      }
    },
    {
      "cell_type": "code",
      "source": [
        "print(\"Total employees:\", df.count())\n"
      ],
      "metadata": {
        "colab": {
          "base_uri": "https://localhost:8080/"
        },
        "id": "PHZGDHzxV8xA",
        "outputId": "8dd3941b-ba67-4582-829d-cc404e2325e1"
      },
      "execution_count": null,
      "outputs": [
        {
          "output_type": "stream",
          "name": "stdout",
          "text": [
            "Total employees: 500\n"
          ]
        }
      ]
    },
    {
      "cell_type": "markdown",
      "source": [
        "3. Unique departments"
      ],
      "metadata": {
        "id": "8Fk941awWB3p"
      }
    },
    {
      "cell_type": "code",
      "source": [
        "df.select(\"Department\").distinct().show()\n"
      ],
      "metadata": {
        "colab": {
          "base_uri": "https://localhost:8080/"
        },
        "id": "e2UpluWzWQmk",
        "outputId": "892bc4b4-b554-4933-a5bd-fd8729736941"
      },
      "execution_count": null,
      "outputs": [
        {
          "output_type": "stream",
          "name": "stdout",
          "text": [
            "+----------+\n",
            "|Department|\n",
            "+----------+\n",
            "|     Sales|\n",
            "|        HR|\n",
            "|   Finance|\n",
            "| Marketing|\n",
            "|        IT|\n",
            "+----------+\n",
            "\n"
          ]
        }
      ]
    },
    {
      "cell_type": "markdown",
      "source": [
        "4. Employees in IT department"
      ],
      "metadata": {
        "id": "aAFS9SMwWY2F"
      }
    },
    {
      "cell_type": "code",
      "source": [
        "df.filter(df.Department == \"IT\").show()\n"
      ],
      "metadata": {
        "colab": {
          "base_uri": "https://localhost:8080/"
        },
        "id": "mk16iVSdWZda",
        "outputId": "e149f124-dee4-4f57-b0e7-24a5e702fb00"
      },
      "execution_count": null,
      "outputs": [
        {
          "output_type": "stream",
          "name": "stdout",
          "text": [
            "+----------+-------------------+---+----------+------+-----------+--------+------------------+\n",
            "|EmployeeID|               Name|Age|Department|Salary|JoiningDate|  Status|              City|\n",
            "+----------+-------------------+---+----------+------+-----------+--------+------------------+\n",
            "|      6598|        Mary Henson| 58|        IT| 63951| 2021-08-25|  Active|       Port Tricia|\n",
            "|      8518|   Elizabeth Abbott| 22|        IT| 91732| 2022-11-05|  Active|       Douglasside|\n",
            "|      9506|        Thomas Dunn| 45|        IT| 90340| 2020-07-12|On Leave|    Lindseychester|\n",
            "|      9663|        Glenn Mason| 43|        IT|109189| 2020-03-27|On Leave|      Katelynburgh|\n",
            "|      2106|     Richard Bailey| 45|        IT| 30950| 2021-06-29|Resigned|        North John|\n",
            "|      8212|      Jacob Jackson| 35|        IT| 54812| 2020-09-18|On Leave|South Veronicastad|\n",
            "|      6354|     Nicole Gilmore| 35|        IT|104202| 2018-05-04|  Active|       East Joseph|\n",
            "|      5716|         David Wang| 49|        IT| 94317| 2016-03-12|Resigned|          Linmouth|\n",
            "|      1181|       Joseph Clark| 33|        IT|117142| 2016-05-31|On Leave|        Carlosfurt|\n",
            "|      8302|      Debra Swanson| 47|        IT| 35236| 2023-10-25|Resigned|     Maciasborough|\n",
            "|      9542|      Jeffrey Frank| 34|        IT| 57182| 2024-01-28|On Leave|          Paulside|\n",
            "|      4100|Christopher Jimenez| 25|        IT| 65524| 2017-03-13|  Active|      North Tamara|\n",
            "|      5780|     Kevin Harrison| 26|        IT| 77259| 2024-03-28|  Active|    New Laurietown|\n",
            "|      5572|    Andrew Harrison| 42|        IT|118992| 2021-12-08|  Active|      West Matthew|\n",
            "|      6388|        Melissa Lee| 49|        IT| 74933| 2016-05-10|  Active|       Barbermouth|\n",
            "|      7984|         Paige Hall| 28|        IT| 67290| 2017-01-29|On Leave|         Jamesfort|\n",
            "|      6043|        Casey Olson| 37|        IT| 80199| 2022-01-27|  Active|         Brianland|\n",
            "|      2817|      Tony Mcdonald| 28|        IT| 92665| 2018-06-21|On Leave|       East Ashley|\n",
            "|      1982|     Jackie Herring| 37|        IT| 65014| 2023-11-13|On Leave|       Michaeltown|\n",
            "|      9259|       Shelly James| 35|        IT|106417| 2018-04-13|On Leave|  Port Laurieburgh|\n",
            "+----------+-------------------+---+----------+------+-----------+--------+------------------+\n",
            "only showing top 20 rows\n",
            "\n"
          ]
        }
      ]
    },
    {
      "cell_type": "markdown",
      "source": [
        "5. Employees aged between 30 and 40"
      ],
      "metadata": {
        "id": "DMUmDRITWeW9"
      }
    },
    {
      "cell_type": "code",
      "source": [
        "df.filter((df.Age >= 30) & (df.Age <= 40)).show()\n"
      ],
      "metadata": {
        "colab": {
          "base_uri": "https://localhost:8080/"
        },
        "id": "-7-syeLPWhIq",
        "outputId": "bf381514-d7b7-4746-b7e1-d13d78b62b77"
      },
      "execution_count": null,
      "outputs": [
        {
          "output_type": "stream",
          "name": "stdout",
          "text": [
            "+----------+------------------+---+----------+------+-----------+--------+-------------------+\n",
            "|EmployeeID|              Name|Age|Department|Salary|JoiningDate|  Status|               City|\n",
            "+----------+------------------+---+----------+------+-----------+--------+-------------------+\n",
            "|      4676|Christopher Fuller| 30|        HR| 63042| 2021-04-30|Resigned|   South Donnaville|\n",
            "|      4136|     Jerome Torres| 30|   Finance| 68213| 2024-11-30|  Active|North Justinborough|\n",
            "|      1588|       Edwin Burns| 34|     Sales|108208| 2015-09-14|Resigned|        South David|\n",
            "|      8074|       Fred Brewer| 30|        HR|100736| 2021-06-06|On Leave|    Port Wendyville|\n",
            "|      3841|       April Allen| 36|        HR| 98845| 2020-05-20|  Active|      Rachelchester|\n",
            "|      8212|     Jacob Jackson| 35|        IT| 54812| 2020-09-18|On Leave| South Veronicastad|\n",
            "|      3325|       Brian Huynh| 40|   Finance| 59924| 2017-01-02|On Leave|           Johnside|\n",
            "|      6180|     Robert Cortez| 35| Marketing| 76109| 2023-12-31|Resigned|    Port Katiemouth|\n",
            "|      6354|    Nicole Gilmore| 35|        IT|104202| 2018-05-04|  Active|        East Joseph|\n",
            "|      6364|       James Hogan| 33|        HR| 79932| 2023-12-05|  Active|     Rodriguezshire|\n",
            "|      6913|   Dustin Williams| 34|   Finance| 91947| 2023-10-16|On Leave|      North Stephen|\n",
            "|      3115|   Benjamin Turner| 38|        HR| 99949| 2018-03-20|Resigned|     West Hollybury|\n",
            "|      7527|      Bobby Henson| 34|   Finance| 47038| 2022-11-24|On Leave|           Dianaton|\n",
            "|      5620|  Christina Reeves| 34|   Finance| 37858| 2024-01-16|On Leave|        Hannahhaven|\n",
            "|      9939|      Karen Hansen| 37|        HR|112082| 2021-07-30|Resigned|           New Tara|\n",
            "|      6509|     Joann Frazier| 38|   Finance| 87736| 2024-01-11|Resigned|  South Sabrinaview|\n",
            "|      6340|     Kenneth Smith| 38|     Sales|115731| 2018-12-29|Resigned|        Lake Sheila|\n",
            "|      1181|      Joseph Clark| 33|        IT|117142| 2016-05-31|On Leave|         Carlosfurt|\n",
            "|      7098|     Hayley Reeves| 38|        HR|115326| 2022-03-26|  Active|          Whiteview|\n",
            "|      9542|     Jeffrey Frank| 34|        IT| 57182| 2024-01-28|On Leave|           Paulside|\n",
            "+----------+------------------+---+----------+------+-----------+--------+-------------------+\n",
            "only showing top 20 rows\n",
            "\n"
          ]
        }
      ]
    },
    {
      "cell_type": "markdown",
      "source": [
        "6. Sort by Salary descending"
      ],
      "metadata": {
        "id": "QuGTnK9ZWlEf"
      }
    },
    {
      "cell_type": "code",
      "source": [
        "df.orderBy(df.Salary.desc()).show()\n"
      ],
      "metadata": {
        "colab": {
          "base_uri": "https://localhost:8080/"
        },
        "id": "VUElliPaWl-P",
        "outputId": "5e7a8fc8-faa6-4bd0-cef8-4dad52010b80"
      },
      "execution_count": null,
      "outputs": [
        {
          "output_type": "stream",
          "name": "stdout",
          "text": [
            "+----------+--------------------+---+----------+------+-----------+--------+-------------------+\n",
            "|EmployeeID|                Name|Age|Department|Salary|JoiningDate|  Status|               City|\n",
            "+----------+--------------------+---+----------+------+-----------+--------+-------------------+\n",
            "|      8860|       Cody Williams| 30|        IT|119978| 2019-03-16|Resigned|         Susanville|\n",
            "|      4585|      Sandra Webster| 30|        HR|119940| 2022-10-21|On Leave|       Thompsonport|\n",
            "|      4667|         Ronald Hunt| 58|     Sales|119677| 2019-08-29|Resigned|    Griffithchester|\n",
            "|      1602|    Deborah Williams| 25|        HR|119397| 2023-09-26|On Leave|    Port Terrimouth|\n",
            "|      3374|        Amanda Green| 41|        HR|119316| 2021-04-08|Resigned|    West Shelleyton|\n",
            "|      6329|       Heidi Shaffer| 36|        HR|119165| 2020-01-14|Resigned|          New Alexa|\n",
            "|      2428|        Mary Stevens| 55|     Sales|119137| 2022-03-06|On Leave|         Travisport|\n",
            "|      1545|Brittany Christensen| 57|   Finance|119038| 2020-10-25|Resigned|        Matthewside|\n",
            "|      2581|    Alexandria Jones| 34|        IT|119009| 2017-01-22|On Leave|           Toniside|\n",
            "|      5572|     Andrew Harrison| 42|        IT|118992| 2021-12-08|  Active|       West Matthew|\n",
            "|      7459|    Abigail Robinson| 23|     Sales|118959| 2021-09-23|  Active|        Leslieville|\n",
            "|      7431|    Richard Mccarthy| 41|        IT|118682| 2025-02-12|On Leave|          Welchview|\n",
            "|      5998|       Bruce Serrano| 36|        HR|118641| 2019-02-02|  Active|    South Elizabeth|\n",
            "|      9714|          Kevin Reid| 37| Marketing|118584| 2015-10-03|  Active|     New Howardfort|\n",
            "|      1143|     Stacey Schwartz| 55|   Finance|118504| 2022-01-24|  Active|Lake Michaelchester|\n",
            "|      3580|         Jamie Baker| 34| Marketing|118225| 2017-07-20|  Active|        Michaelstad|\n",
            "|      9485|        Dennis Rivas| 43| Marketing|118187| 2019-05-26|On Leave|         South Mark|\n",
            "|      1943|          Roy Willis| 41|        HR|118172| 2016-03-05|  Active|     East Daisystad|\n",
            "|      5755|        Erika Ortega| 42|        IT|117517| 2023-04-16|On Leave|          Kellyfort|\n",
            "|      7350|         Jenna Patel| 50| Marketing|117237| 2016-04-11|On Leave|         Port Brian|\n",
            "+----------+--------------------+---+----------+------+-----------+--------+-------------------+\n",
            "only showing top 20 rows\n",
            "\n"
          ]
        }
      ]
    },
    {
      "cell_type": "markdown",
      "source": [
        "Average salary by department\n",
        "\n"
      ],
      "metadata": {
        "id": "uW1frNn6Wpo7"
      }
    },
    {
      "cell_type": "code",
      "source": [
        "df.groupBy(\"Department\").avg(\"Salary\").show()\n"
      ],
      "metadata": {
        "colab": {
          "base_uri": "https://localhost:8080/"
        },
        "id": "MXA4nVjSWtPk",
        "outputId": "1a0f8866-b354-4600-ed88-5946a6fdcfd0"
      },
      "execution_count": null,
      "outputs": [
        {
          "output_type": "stream",
          "name": "stdout",
          "text": [
            "+----------+-----------------+\n",
            "|Department|      avg(Salary)|\n",
            "+----------+-----------------+\n",
            "|     Sales|77488.54545454546|\n",
            "|        HR|76091.27450980392|\n",
            "|   Finance|72834.75630252101|\n",
            "| Marketing| 71958.1888888889|\n",
            "|        IT|73116.25555555556|\n",
            "+----------+-----------------+\n",
            "\n"
          ]
        }
      ]
    },
    {
      "cell_type": "markdown",
      "source": [
        "8. Count of employees by Status"
      ],
      "metadata": {
        "id": "Rwelt_A8Wv9M"
      }
    },
    {
      "cell_type": "code",
      "source": [
        "df.groupBy(\"Status\").count().show()\n"
      ],
      "metadata": {
        "colab": {
          "base_uri": "https://localhost:8080/"
        },
        "id": "vu2GY_jhW4Om",
        "outputId": "454d1b55-d383-41c2-a95c-dccb68688d96"
      },
      "execution_count": null,
      "outputs": [
        {
          "output_type": "stream",
          "name": "stdout",
          "text": [
            "+--------+-----+\n",
            "|  Status|count|\n",
            "+--------+-----+\n",
            "|Resigned|  159|\n",
            "|  Active|  172|\n",
            "|On Leave|  169|\n",
            "+--------+-----+\n",
            "\n"
          ]
        }
      ]
    },
    {
      "cell_type": "markdown",
      "source": [
        "9. Highest salary in each city"
      ],
      "metadata": {
        "id": "Wtootg_SW867"
      }
    },
    {
      "cell_type": "code",
      "source": [
        "from pyspark.sql.functions import max\n",
        "\n",
        "df.groupBy(\"City\").agg(max(\"Salary\").alias(\"MaxSalary\")).show()\n"
      ],
      "metadata": {
        "colab": {
          "base_uri": "https://localhost:8080/"
        },
        "id": "2bx0_qk7XAS7",
        "outputId": "eb9c0c6a-f318-4364-dc09-0a1296ac1976"
      },
      "execution_count": null,
      "outputs": [
        {
          "output_type": "stream",
          "name": "stdout",
          "text": [
            "+----------------+---------+\n",
            "|            City|MaxSalary|\n",
            "+----------------+---------+\n",
            "|   Wilsonchester|    67025|\n",
            "|     Bradshawton|   111116|\n",
            "|       Steventon|    32009|\n",
            "|     Lake Alyssa|    84903|\n",
            "|      North Lisa|    57898|\n",
            "|    North Marvin|    66252|\n",
            "|     Jenniferton|    39907|\n",
            "|     Buckleyview|    50109|\n",
            "|     Burtonville|    98492|\n",
            "|    Johnsonmouth|    48799|\n",
            "|    South Joseph|    52456|\n",
            "|  Lindseychester|    90340|\n",
            "|   North Stephen|    91947|\n",
            "|Port Nicoleshire|    57537|\n",
            "|    Jerrychester|    53374|\n",
            "|  North Jennifer|    82486|\n",
            "|      Laurenstad|    44608|\n",
            "|West Brendanbury|    90698|\n",
            "|       Juliaberg|    50170|\n",
            "|       New James|    54378|\n",
            "+----------------+---------+\n",
            "only showing top 20 rows\n",
            "\n"
          ]
        }
      ]
    },
    {
      "cell_type": "markdown",
      "source": [
        "10. Number of employees who joined each year"
      ],
      "metadata": {
        "id": "16ML1z0xXElH"
      }
    },
    {
      "cell_type": "code",
      "source": [
        "from pyspark.sql.functions import year\n",
        "\n",
        "df.withColumn(\"JoiningYear\", year(\"JoiningDate\")) \\\n",
        "  .groupBy(\"JoiningYear\") \\\n",
        "  .count().show()\n"
      ],
      "metadata": {
        "colab": {
          "base_uri": "https://localhost:8080/"
        },
        "id": "2tsxzOsDXG1V",
        "outputId": "f02374fd-107c-4f51-d440-f46bbac6566f"
      },
      "execution_count": null,
      "outputs": [
        {
          "output_type": "stream",
          "name": "stdout",
          "text": [
            "+-----------+-----+\n",
            "|JoiningYear|count|\n",
            "+-----------+-----+\n",
            "|       2025|   27|\n",
            "|       2018|   52|\n",
            "|       2015|   37|\n",
            "|       2023|   47|\n",
            "|       2022|   49|\n",
            "|       2019|   52|\n",
            "|       2020|   56|\n",
            "|       2016|   49|\n",
            "|       2024|   38|\n",
            "|       2017|   44|\n",
            "|       2021|   49|\n",
            "+-----------+-----+\n",
            "\n"
          ]
        }
      ]
    },
    {
      "cell_type": "markdown",
      "source": [
        "11. Active employees per department\n",
        "\n"
      ],
      "metadata": {
        "id": "K0ICP4kOXIAP"
      }
    },
    {
      "cell_type": "code",
      "source": [
        "df.filter(df.Status == \"Active\") \\\n",
        "  .groupBy(\"Department\") \\\n",
        "  .count().show()\n"
      ],
      "metadata": {
        "colab": {
          "base_uri": "https://localhost:8080/"
        },
        "id": "yc-4xFpkXLF1",
        "outputId": "04c0263f-16d1-4518-a314-b12f5e44b3cb"
      },
      "execution_count": null,
      "outputs": [
        {
          "output_type": "stream",
          "name": "stdout",
          "text": [
            "+----------+-----+\n",
            "|Department|count|\n",
            "+----------+-----+\n",
            "|     Sales|   32|\n",
            "|        HR|   37|\n",
            "|   Finance|   45|\n",
            "| Marketing|   32|\n",
            "|        IT|   26|\n",
            "+----------+-----+\n",
            "\n"
          ]
        }
      ]
    },
    {
      "cell_type": "markdown",
      "source": [
        "12. Average age per department"
      ],
      "metadata": {
        "id": "FNCic-WUXNGS"
      }
    },
    {
      "cell_type": "code",
      "source": [
        "df.groupBy(\"Department\").avg(\"Age\").show()\n"
      ],
      "metadata": {
        "colab": {
          "base_uri": "https://localhost:8080/"
        },
        "id": "6mY-5yaQXPRL",
        "outputId": "960465dd-9b9c-4786-8229-e6a8e7187f27"
      },
      "execution_count": null,
      "outputs": [
        {
          "output_type": "stream",
          "name": "stdout",
          "text": [
            "+----------+------------------+\n",
            "|Department|          avg(Age)|\n",
            "+----------+------------------+\n",
            "|     Sales|40.535353535353536|\n",
            "|        HR| 41.46078431372549|\n",
            "|   Finance| 39.21008403361345|\n",
            "| Marketing| 41.82222222222222|\n",
            "|        IT| 38.68888888888889|\n",
            "+----------+------------------+\n",
            "\n"
          ]
        }
      ]
    },
    {
      "cell_type": "markdown",
      "source": [
        "13.City-Region dataset and join"
      ],
      "metadata": {
        "id": "wroY5KAwXUOG"
      }
    },
    {
      "cell_type": "code",
      "source": [
        "from pyspark.sql import Row\n",
        "\n",
        "city_region_data = [\n",
        "    Row(City=\"New York\", Region=\"East\"),\n",
        "    Row(City=\"San Francisco\", Region=\"West\"),\n",
        "    Row(City=\"Chicago\", Region=\"Central\"),\n",
        "    Row(City=\"Austin\", Region=\"South\"),\n",
        "]\n",
        "\n",
        "region_df = spark.createDataFrame(city_region_data)\n",
        "\n",
        "\n",
        "df_joined = df.join(region_df, on=\"City\", how=\"left\")\n",
        "df_joined.show()\n"
      ],
      "metadata": {
        "colab": {
          "base_uri": "https://localhost:8080/"
        },
        "id": "OM7Hs27uXWAM",
        "outputId": "768241ce-c390-49d0-d252-89a0db30931f"
      },
      "execution_count": null,
      "outputs": [
        {
          "output_type": "stream",
          "name": "stdout",
          "text": [
            "+-------------------+----------+--------------------+---+----------+------+-----------+--------+------+\n",
            "|               City|EmployeeID|                Name|Age|Department|Salary|JoiningDate|  Status|Region|\n",
            "+-------------------+----------+--------------------+---+----------+------+-----------+--------+------+\n",
            "|        East Robert|      6253|         Steven Lane| 47|   Finance| 64982| 2021-07-25|  Active|  NULL|\n",
            "|          Allentown|      4128|     Charles Johnson| 52|        HR| 64039| 2018-07-07|Resigned|  NULL|\n",
            "|         Tonyamouth|      6406|       Patrick Chung| 27|        HR|116423| 2024-07-05|  Active|  NULL|\n",
            "|       Jenniferfurt|      9146|          Brian Ball| 24|     Sales| 87831| 2015-10-01|Resigned|  NULL|\n",
            "|     North Brittany|      8989|       Scott Burnett| 48|     Sales| 93690| 2016-04-25|Resigned|  NULL|\n",
            "|          Gilesstad|      5883| Mr. Ryan Bowman Jr.| 29|   Finance| 64541| 2025-03-11|On Leave|  NULL|\n",
            "|          Port Mark|      3326|       Michael Brown| 28|        HR| 85122| 2023-10-21|Resigned|  NULL|\n",
            "|        West Ashley|      8520|    Emily Washington| 43|   Finance| 33851| 2021-11-30|Resigned|  NULL|\n",
            "|   South Donnaville|      4676|  Christopher Fuller| 30|        HR| 63042| 2021-04-30|Resigned|  NULL|\n",
            "|           Jillport|      7403|    Johnathan Harmon| 50|        HR| 97666| 2021-03-09|On Leave|  NULL|\n",
            "|     Jimenezborough|      1515|        Micheal Wade| 26|        HR| 41771| 2024-03-29|  Active|  NULL|\n",
            "|       Lake Amystad|      1918|       Angela Hooper| 26|   Finance|108773| 2019-08-14|On Leave|  NULL|\n",
            "|        Anthonyfort|      6094|       Dylan Camacho| 57| Marketing| 34686| 2015-08-25|  Active|  NULL|\n",
            "|        Bennettstad|      2758|       Brittany Kerr| 58|     Sales| 71105| 2019-03-24|  Active|  NULL|\n",
            "|       Mcgeechester|      6640|     Isaiah Martinez| 51| Marketing| 72596| 2021-07-26|On Leave|  NULL|\n",
            "|        Caseborough|      1298|     Valerie Fleming| 42| Marketing| 70137| 2019-12-08|Resigned|  NULL|\n",
            "|North Justinborough|      4136|       Jerome Torres| 30|   Finance| 68213| 2024-11-30|  Active|  NULL|\n",
            "|         Russohaven|      4600|Alexander Johnson...| 45|     Sales| 75671| 2016-04-21|On Leave|  NULL|\n",
            "|         New Thomas|      8278|       Riley Johnson| 49|        HR| 43449| 2015-08-03|Resigned|  NULL|\n",
            "|       West Phillip|      5157|     Tracy Hughes MD| 28|   Finance| 34381| 2020-06-01|  Active|  NULL|\n",
            "+-------------------+----------+--------------------+---+----------+------+-----------+--------+------+\n",
            "only showing top 20 rows\n",
            "\n"
          ]
        }
      ]
    },
    {
      "cell_type": "markdown",
      "source": [
        "14. Group salaries by Region"
      ],
      "metadata": {
        "id": "Qt2EH8OfXZ4F"
      }
    },
    {
      "cell_type": "code",
      "source": [
        "df_joined.groupBy(\"Region\").avg(\"Salary\").show()\n"
      ],
      "metadata": {
        "colab": {
          "base_uri": "https://localhost:8080/"
        },
        "id": "qVW2vVF7XeAl",
        "outputId": "63d4d172-5953-46b2-d27a-40eb7feb8250"
      },
      "execution_count": null,
      "outputs": [
        {
          "output_type": "stream",
          "name": "stdout",
          "text": [
            "+------+-----------+\n",
            "|Region|avg(Salary)|\n",
            "+------+-----------+\n",
            "|  NULL|  74313.424|\n",
            "+------+-----------+\n",
            "\n"
          ]
        }
      ]
    },
    {
      "cell_type": "markdown",
      "source": [
        "15.years of experience\n",
        "\n"
      ],
      "metadata": {
        "id": "8lwq_mBFXjbW"
      }
    },
    {
      "cell_type": "code",
      "source": [
        "from pyspark.sql.functions import current_date, datediff, round\n",
        "\n",
        "df_exp = df.withColumn(\"ExperienceYears\", round(datediff(current_date(), df.JoiningDate) / 365, 2))\n",
        "df_exp.select(\"Name\", \"JoiningDate\", \"ExperienceYears\").show()\n"
      ],
      "metadata": {
        "colab": {
          "base_uri": "https://localhost:8080/"
        },
        "id": "S6RJZBvjXoRm",
        "outputId": "586b0ea7-1155-4971-9fa7-1af974165d00"
      },
      "execution_count": null,
      "outputs": [
        {
          "output_type": "stream",
          "name": "stdout",
          "text": [
            "+--------------------+-----------+---------------+\n",
            "|                Name|JoiningDate|ExperienceYears|\n",
            "+--------------------+-----------+---------------+\n",
            "|     Charles Johnson| 2018-07-07|           6.91|\n",
            "|       Dylan Camacho| 2015-08-25|           9.78|\n",
            "| Mr. Ryan Bowman Jr.| 2025-03-11|           0.23|\n",
            "|          Brian Ball| 2015-10-01|           9.68|\n",
            "|       Angela Hooper| 2019-08-14|           5.81|\n",
            "|Alexander Johnson...| 2016-04-21|           9.12|\n",
            "|         Steven Lane| 2021-07-25|           3.86|\n",
            "|       Riley Johnson| 2015-08-03|           9.84|\n",
            "|    Emily Washington| 2021-11-30|           3.51|\n",
            "|     Valerie Fleming| 2019-12-08|           5.49|\n",
            "|     Tracy Hughes MD| 2020-06-01|           5.01|\n",
            "|    Johnathan Harmon| 2021-03-09|           4.24|\n",
            "|       Michael Brown| 2023-10-21|           1.62|\n",
            "|       Scott Burnett| 2016-04-25|           9.11|\n",
            "|  Christopher Fuller| 2021-04-30|            4.1|\n",
            "|         Mary Henson| 2021-08-25|           3.78|\n",
            "|       Jerome Torres| 2024-11-30|           0.51|\n",
            "|     Isaiah Martinez| 2021-07-26|           3.86|\n",
            "|       Patrick Chung| 2024-07-05|           0.91|\n",
            "|        Micheal Wade| 2024-03-29|           1.18|\n",
            "+--------------------+-----------+---------------+\n",
            "only showing top 20 rows\n",
            "\n"
          ]
        }
      ]
    },
    {
      "cell_type": "markdown",
      "source": [
        "16. Employees with more than 5 years of experience"
      ],
      "metadata": {
        "id": "C6dcwWdnXrly"
      }
    },
    {
      "cell_type": "code",
      "source": [
        "df_exp.filter(df_exp.ExperienceYears > 5).select(\"Name\", \"ExperienceYears\").show()\n"
      ],
      "metadata": {
        "id": "NM07Iek4XuJF",
        "outputId": "4cec256e-e934-44ef-de1d-f17db0dba169",
        "colab": {
          "base_uri": "https://localhost:8080/"
        }
      },
      "execution_count": null,
      "outputs": [
        {
          "output_type": "stream",
          "name": "stdout",
          "text": [
            "+--------------------+---------------+\n",
            "|                Name|ExperienceYears|\n",
            "+--------------------+---------------+\n",
            "|     Charles Johnson|           6.91|\n",
            "|       Dylan Camacho|           9.78|\n",
            "|          Brian Ball|           9.68|\n",
            "|       Angela Hooper|           5.81|\n",
            "|Alexander Johnson...|           9.12|\n",
            "|       Riley Johnson|           9.84|\n",
            "|     Valerie Fleming|           5.49|\n",
            "|     Tracy Hughes MD|           5.01|\n",
            "|       Scott Burnett|           9.11|\n",
            "|       Brittany Kerr|            6.2|\n",
            "|         Edwin Burns|           9.73|\n",
            "|       Mary Reynolds|           6.93|\n",
            "|           Erin Berg|           7.11|\n",
            "|         Jason Hines|           9.52|\n",
            "|Christopher Mcdaniel|          10.01|\n",
            "|         April Allen|           5.04|\n",
            "|         Glenn Mason|           5.19|\n",
            "|      Victoria Kelly|           7.68|\n",
            "|     Michael Trevino|           5.06|\n",
            "|      Heather Nelson|          10.01|\n",
            "+--------------------+---------------+\n",
            "only showing top 20 rows\n",
            "\n"
          ]
        }
      ]
    }
  ]
}