{
  "nbformat": 4,
  "nbformat_minor": 0,
  "metadata": {
    "colab": {
      "provenance": []
    },
    "kernelspec": {
      "name": "python3",
      "display_name": "Python 3"
    },
    "language_info": {
      "name": "python"
    }
  },
  "cells": [
    {
      "cell_type": "markdown",
      "source": [
        "1. DataFrame Creation and Inspection"
      ],
      "metadata": {
        "id": "ECRuXqaNIZTS"
      }
    },
    {
      "cell_type": "code",
      "execution_count": 1,
      "metadata": {
        "colab": {
          "base_uri": "https://localhost:8080/"
        },
        "id": "Eua7vRaBD5_C",
        "outputId": "34893e64-d6cd-4dd8-b6d2-2ebc7df0be6c"
      },
      "outputs": [
        {
          "output_type": "stream",
          "name": "stdout",
          "text": [
            "Mounted at /content/drive\n"
          ]
        }
      ],
      "source": [
        "from google.colab import drive\n",
        "drive.mount('/content/drive')\n"
      ]
    },
    {
      "cell_type": "code",
      "source": [
        "file_path = \"/content/drive/MyDrive/Sales_Dataset__500_Records_.csv\"\n"
      ],
      "metadata": {
        "id": "DWSy1yM7Gihb"
      },
      "execution_count": 2,
      "outputs": []
    },
    {
      "cell_type": "markdown",
      "source": [
        "Pandas"
      ],
      "metadata": {
        "id": "z9KRD_YFGqPL"
      }
    },
    {
      "cell_type": "code",
      "source": [
        "import pandas as pd\n",
        "\n",
        "pdf = pd.read_csv(file_path)\n",
        "\n",
        "print(\"Pandas - First 5 rows:\")\n",
        "print(pdf.head())\n",
        "\n",
        "print(\"\\nPandas - Last 5 rows:\")\n",
        "print(pdf.tail())\n",
        "\n",
        "print(\"\\nPandas - Data Types:\")\n",
        "print(pdf.dtypes)\n"
      ],
      "metadata": {
        "colab": {
          "base_uri": "https://localhost:8080/"
        },
        "id": "IHvBBCKSGk3x",
        "outputId": "bd11898b-bdf7-448d-b2fc-b151f0791b6a"
      },
      "execution_count": 3,
      "outputs": [
        {
          "output_type": "stream",
          "name": "stdout",
          "text": [
            "Pandas - First 5 rows:\n",
            "   OrderID    CustomerName ProductCategory  Amount   OrderDate DeliveryStatus  \\\n",
            "0     2824   Donald Walker           Books  783.04  2024-12-26       Returned   \n",
            "1     7912    Brandon Hall       Groceries  905.00  2024-09-12      Cancelled   \n",
            "2     4611    Donald Booth         Fashion  657.96  2025-01-12       Returned   \n",
            "3     3547  Phillip Garcia         Fashion  606.89  2024-03-24       Returned   \n",
            "4     8527    Valerie Gray            Toys   77.87  2024-08-04      Delivered   \n",
            "\n",
            "   Discount              City  PaymentMode CustomerSince  \n",
            "0      0.15      Lake Joyside  Credit Card    2020-10-15  \n",
            "1      0.03     New Jamesside       Wallet    2022-03-15  \n",
            "2      0.01      Lake Roberto       Wallet    2021-08-07  \n",
            "3      0.15  West Melanieview       Wallet    2020-08-08  \n",
            "4      0.17         Mariastad         Cash    2022-11-15  \n",
            "\n",
            "Pandas - Last 5 rows:\n",
            "     OrderID     CustomerName ProductCategory  Amount   OrderDate  \\\n",
            "495     2930     Jaime Harris         Fashion  680.00  2025-02-16   \n",
            "496     7980       Dawn Wyatt         Fashion  285.32  2024-04-26   \n",
            "497     7770    Kristin White       Groceries  792.11  2024-08-10   \n",
            "498     6641  Jennifer Taylor            Toys  578.49  2025-04-03   \n",
            "499     4513      Rachel Owen     Electronics  904.97  2024-09-21   \n",
            "\n",
            "    DeliveryStatus  Discount             City PaymentMode CustomerSince  \n",
            "495       Returned      0.20      Robertville        Cash    2021-01-28  \n",
            "496      Cancelled      0.06       Cherylfurt         UPI    2021-04-14  \n",
            "497       Returned      0.07         Kingport         UPI    2022-11-16  \n",
            "498      Delivered      0.10  Lake Jerryburgh        Cash    2020-11-04  \n",
            "499      Delivered      0.12    East Paultown        Cash    2020-10-21  \n",
            "\n",
            "Pandas - Data Types:\n",
            "OrderID              int64\n",
            "CustomerName        object\n",
            "ProductCategory     object\n",
            "Amount             float64\n",
            "OrderDate           object\n",
            "DeliveryStatus      object\n",
            "Discount           float64\n",
            "City                object\n",
            "PaymentMode         object\n",
            "CustomerSince       object\n",
            "dtype: object\n"
          ]
        }
      ]
    },
    {
      "cell_type": "markdown",
      "source": [
        "Pyspark"
      ],
      "metadata": {
        "id": "NrNT2PdxHBiI"
      }
    },
    {
      "cell_type": "code",
      "source": [
        "from pyspark.sql import SparkSession\n",
        "\n",
        "spark = SparkSession.builder.appName(\"SalesDataset\").getOrCreate()\n",
        "\n",
        "sdf = spark.read.csv(file_path, header=True, inferSchema=True)\n",
        "\n",
        "print(\"PySpark - First 5 rows:\")\n",
        "sdf.show(5)\n",
        "\n",
        "print(\"\\nPySpark - Last 5 rows (approx):\")\n",
        "sdf.tail(5)\n",
        "\n",
        "print(\"\\nPySpark - Schema:\")\n",
        "sdf.printSchema()\n"
      ],
      "metadata": {
        "colab": {
          "base_uri": "https://localhost:8080/"
        },
        "id": "hvt0SqD_HZml",
        "outputId": "c8892f77-3067-40ed-db74-02f1c7858a0c"
      },
      "execution_count": 6,
      "outputs": [
        {
          "output_type": "stream",
          "name": "stdout",
          "text": [
            "PySpark - First 5 rows:\n",
            "+-------+--------------+---------------+------+----------+--------------+--------+----------------+-----------+-------------+\n",
            "|OrderID|  CustomerName|ProductCategory|Amount| OrderDate|DeliveryStatus|Discount|            City|PaymentMode|CustomerSince|\n",
            "+-------+--------------+---------------+------+----------+--------------+--------+----------------+-----------+-------------+\n",
            "|   2824| Donald Walker|          Books|783.04|2024-12-26|      Returned|    0.15|    Lake Joyside|Credit Card|   2020-10-15|\n",
            "|   7912|  Brandon Hall|      Groceries| 905.0|2024-09-12|     Cancelled|    0.03|   New Jamesside|     Wallet|   2022-03-15|\n",
            "|   4611|  Donald Booth|        Fashion|657.96|2025-01-12|      Returned|    0.01|    Lake Roberto|     Wallet|   2021-08-07|\n",
            "|   3547|Phillip Garcia|        Fashion|606.89|2024-03-24|      Returned|    0.15|West Melanieview|     Wallet|   2020-08-08|\n",
            "|   8527|  Valerie Gray|           Toys| 77.87|2024-08-04|     Delivered|    0.17|       Mariastad|       Cash|   2022-11-15|\n",
            "+-------+--------------+---------------+------+----------+--------------+--------+----------------+-----------+-------------+\n",
            "only showing top 5 rows\n",
            "\n",
            "\n",
            "PySpark - Last 5 rows (approx):\n",
            "\n",
            "PySpark - Schema:\n",
            "root\n",
            " |-- OrderID: integer (nullable = true)\n",
            " |-- CustomerName: string (nullable = true)\n",
            " |-- ProductCategory: string (nullable = true)\n",
            " |-- Amount: double (nullable = true)\n",
            " |-- OrderDate: date (nullable = true)\n",
            " |-- DeliveryStatus: string (nullable = true)\n",
            " |-- Discount: double (nullable = true)\n",
            " |-- City: string (nullable = true)\n",
            " |-- PaymentMode: string (nullable = true)\n",
            " |-- CustomerSince: date (nullable = true)\n",
            "\n"
          ]
        }
      ]
    },
    {
      "cell_type": "markdown",
      "source": [
        "Dask"
      ],
      "metadata": {
        "id": "U8HLEBv-H9Lu"
      }
    },
    {
      "cell_type": "code",
      "source": [
        "import dask.dataframe as dd\n",
        "\n",
        "ddf = dd.read_csv(file_path)\n",
        "\n",
        "print(\"Dask - First 5 rows:\")\n",
        "print(ddf.head(5))\n",
        "\n",
        "print(\"\\nDask - Last 5 rows:\")\n",
        "print(ddf.tail(5))\n",
        "\n",
        "print(\"\\nDask - Data Types:\")\n",
        "print(ddf.dtypes)\n"
      ],
      "metadata": {
        "colab": {
          "base_uri": "https://localhost:8080/"
        },
        "id": "YTh7WXpaH-QG",
        "outputId": "d845caeb-06c2-41df-da1a-4e8463661f61"
      },
      "execution_count": 7,
      "outputs": [
        {
          "output_type": "stream",
          "name": "stdout",
          "text": [
            "Dask - First 5 rows:\n",
            "   OrderID    CustomerName ProductCategory  Amount   OrderDate DeliveryStatus  \\\n",
            "0     2824   Donald Walker           Books  783.04  2024-12-26       Returned   \n",
            "1     7912    Brandon Hall       Groceries  905.00  2024-09-12      Cancelled   \n",
            "2     4611    Donald Booth         Fashion  657.96  2025-01-12       Returned   \n",
            "3     3547  Phillip Garcia         Fashion  606.89  2024-03-24       Returned   \n",
            "4     8527    Valerie Gray            Toys   77.87  2024-08-04      Delivered   \n",
            "\n",
            "   Discount              City  PaymentMode CustomerSince  \n",
            "0      0.15      Lake Joyside  Credit Card    2020-10-15  \n",
            "1      0.03     New Jamesside       Wallet    2022-03-15  \n",
            "2      0.01      Lake Roberto       Wallet    2021-08-07  \n",
            "3      0.15  West Melanieview       Wallet    2020-08-08  \n",
            "4      0.17         Mariastad         Cash    2022-11-15  \n",
            "\n",
            "Dask - Last 5 rows:\n",
            "     OrderID     CustomerName ProductCategory  Amount   OrderDate  \\\n",
            "495     2930     Jaime Harris         Fashion  680.00  2025-02-16   \n",
            "496     7980       Dawn Wyatt         Fashion  285.32  2024-04-26   \n",
            "497     7770    Kristin White       Groceries  792.11  2024-08-10   \n",
            "498     6641  Jennifer Taylor            Toys  578.49  2025-04-03   \n",
            "499     4513      Rachel Owen     Electronics  904.97  2024-09-21   \n",
            "\n",
            "    DeliveryStatus  Discount             City PaymentMode CustomerSince  \n",
            "495       Returned      0.20      Robertville        Cash    2021-01-28  \n",
            "496      Cancelled      0.06       Cherylfurt         UPI    2021-04-14  \n",
            "497       Returned      0.07         Kingport         UPI    2022-11-16  \n",
            "498      Delivered      0.10  Lake Jerryburgh        Cash    2020-11-04  \n",
            "499      Delivered      0.12    East Paultown        Cash    2020-10-21  \n",
            "\n",
            "Dask - Data Types:\n",
            "OrderID                      int64\n",
            "CustomerName       string[pyarrow]\n",
            "ProductCategory    string[pyarrow]\n",
            "Amount                     float64\n",
            "OrderDate          string[pyarrow]\n",
            "DeliveryStatus     string[pyarrow]\n",
            "Discount                   float64\n",
            "City               string[pyarrow]\n",
            "PaymentMode        string[pyarrow]\n",
            "CustomerSince      string[pyarrow]\n",
            "dtype: object\n"
          ]
        }
      ]
    },
    {
      "cell_type": "markdown",
      "source": [
        "2. Selection, Renaming, and Filtering"
      ],
      "metadata": {
        "id": "S9BVkEqeIkZ3"
      }
    },
    {
      "cell_type": "code",
      "source": [
        "from pyspark.sql.functions import col\n",
        "\n",
        "sdf_selected = sdf.select(\"OrderID\", \"CustomerName\", \"Amount\")\n",
        "\n",
        "sdf_renamed = sdf_selected.withColumnRenamed(\"Amount\", \"OrderAmount\")\n",
        "\n",
        "sdf_filtered_amount = sdf.filter(col(\"Amount\") > 500)\n",
        "\n",
        "sdf_filtered_city = sdf.filter(col(\"City\") == \"Lake Roberto\")"
      ],
      "metadata": {
        "id": "YxdXxLxzItOm"
      },
      "execution_count": 22,
      "outputs": []
    },
    {
      "cell_type": "code",
      "source": [
        "sdf_renamed.show(5)\n",
        "sdf_filtered_amount.show(5)\n",
        "sdf_filtered_city.show(5)"
      ],
      "metadata": {
        "colab": {
          "base_uri": "https://localhost:8080/"
        },
        "id": "QHRm7UR0KrG0",
        "outputId": "90d20b80-8101-4974-dde3-53072d6d8b45"
      },
      "execution_count": 23,
      "outputs": [
        {
          "output_type": "stream",
          "name": "stdout",
          "text": [
            "+-------+--------------+-----------+\n",
            "|OrderID|  CustomerName|OrderAmount|\n",
            "+-------+--------------+-----------+\n",
            "|   2824| Donald Walker|     783.04|\n",
            "|   7912|  Brandon Hall|      905.0|\n",
            "|   4611|  Donald Booth|     657.96|\n",
            "|   3547|Phillip Garcia|     606.89|\n",
            "|   8527|  Valerie Gray|      77.87|\n",
            "+-------+--------------+-----------+\n",
            "only showing top 5 rows\n",
            "\n",
            "+-------+------------------+---------------+------+----------+--------------+--------+----------------+-----------+-----------------+\n",
            "|OrderID|      CustomerName|ProductCategory|Amount| OrderDate|DeliveryStatus|Discount|            City|PaymentMode|      FinalAmount|\n",
            "+-------+------------------+---------------+------+----------+--------------+--------+----------------+-----------+-----------------+\n",
            "|   2824|     Donald Walker|          Books|783.04|2024-12-26|      Returned|    0.15|    Lake Joyside|Credit Card|          665.584|\n",
            "|   7912|      Brandon Hall|      Groceries| 905.0|2024-09-12|     Cancelled|    0.03|   New Jamesside|     Wallet|           877.85|\n",
            "|   4611|      Donald Booth|        Fashion|657.96|2025-01-12|      Returned|    0.01|    Lake Roberto|     Wallet|         651.3804|\n",
            "|   3547|    Phillip Garcia|        Fashion|606.89|2024-03-24|      Returned|    0.15|West Melanieview|     Wallet|         515.8565|\n",
            "|   6155|Jonathan Wilkerson|        Fashion|882.68|2024-10-14|     Cancelled|    0.27|      Thomasberg|       Cash|644.3563999999999|\n",
            "+-------+------------------+---------------+------+----------+--------------+--------+----------------+-----------+-----------------+\n",
            "only showing top 5 rows\n",
            "\n",
            "+-------+------------+---------------+------+----------+--------------+--------+------------+-----------+-----------+\n",
            "|OrderID|CustomerName|ProductCategory|Amount| OrderDate|DeliveryStatus|Discount|        City|PaymentMode|FinalAmount|\n",
            "+-------+------------+---------------+------+----------+--------------+--------+------------+-----------+-----------+\n",
            "|   4611|Donald Booth|        Fashion|657.96|2025-01-12|      Returned|    0.01|Lake Roberto|     Wallet|   651.3804|\n",
            "+-------+------------+---------------+------+----------+--------------+--------+------------+-----------+-----------+\n",
            "\n"
          ]
        }
      ]
    },
    {
      "cell_type": "markdown",
      "source": [
        "3. Data Manipulation"
      ],
      "metadata": {
        "id": "Dtt9jX5KJOuy"
      }
    },
    {
      "cell_type": "code",
      "source": [
        "from pyspark.sql.functions import col, expr\n",
        "\n",
        "sdf = sdf.drop(\"CustomerSince\")\n",
        "\n",
        "sdf = sdf.withColumn(\"FinalAmount\", col(\"Amount\") - (col(\"Amount\") * col(\"Discount\")))\n",
        "\n",
        "sdf_sorted = sdf.orderBy(col(\"FinalAmount\").desc())\n",
        "\n",
        "sdf_cleaned = sdf_sorted.withColumn(\n",
        "    \"DeliveryStatus\",\n",
        "    expr(\"CASE WHEN DeliveryStatus = 'Cancelled' THEN 'Order Cancelled' ELSE DeliveryStatus END\")\n",
        ")"
      ],
      "metadata": {
        "id": "oxnhxNQbJPd1"
      },
      "execution_count": 20,
      "outputs": []
    },
    {
      "cell_type": "code",
      "source": [
        "sdf_cleaned.select(\"OrderID\", \"Amount\", \"Discount\", \"FinalAmount\", \"DeliveryStatus\").show(5)"
      ],
      "metadata": {
        "colab": {
          "base_uri": "https://localhost:8080/"
        },
        "id": "ciBBbb3aKjGy",
        "outputId": "df8158d0-4d76-42f0-a26b-d9113a0f0e9e"
      },
      "execution_count": 21,
      "outputs": [
        {
          "output_type": "stream",
          "name": "stdout",
          "text": [
            "+-------+------+--------+-----------------+---------------+\n",
            "|OrderID|Amount|Discount|      FinalAmount| DeliveryStatus|\n",
            "+-------+------+--------+-----------------+---------------+\n",
            "|   5573|981.05|    0.02|          961.429|Order Cancelled|\n",
            "|   8474|968.91|    0.02|         949.5318|Order Cancelled|\n",
            "|   8889| 998.3|    0.06|938.4019999999999|Order Cancelled|\n",
            "|   2127|933.32|    0.01|         923.9868|       Returned|\n",
            "|   9806|993.17|    0.07|         923.6481|Order Cancelled|\n",
            "+-------+------+--------+-----------------+---------------+\n",
            "only showing top 5 rows\n",
            "\n"
          ]
        }
      ]
    },
    {
      "cell_type": "markdown",
      "source": [
        "4. Aggregations and GroupBy"
      ],
      "metadata": {
        "id": "hN4AtP1lJpcy"
      }
    },
    {
      "cell_type": "code",
      "source": [
        "from pyspark.sql.functions import avg, sum, count\n",
        "\n",
        "delivery_status_counts = sdf_cleaned.groupBy(\"DeliveryStatus\").agg(count(\"*\").alias(\"OrderCount\"))\n",
        "\n",
        "avg_amount_by_category = sdf_cleaned.groupBy(\"ProductCategory\").agg(avg(\"Amount\").alias(\"AvgAmount\"))\n",
        "\n",
        "total_sales_by_city = sdf_cleaned.groupBy(\"City\").agg(sum(\"Amount\").alias(\"TotalSales\"))"
      ],
      "metadata": {
        "id": "shYzI7yiJr0S"
      },
      "execution_count": 18,
      "outputs": []
    },
    {
      "cell_type": "code",
      "source": [
        "delivery_status_counts.show()\n",
        "avg_amount_by_category.show()\n",
        "total_sales_by_city.show()"
      ],
      "metadata": {
        "colab": {
          "base_uri": "https://localhost:8080/"
        },
        "id": "jBXPXV9vKXmY",
        "outputId": "5adaf4b2-8b8e-468a-c112-6359cedbb531"
      },
      "execution_count": 19,
      "outputs": [
        {
          "output_type": "stream",
          "name": "stdout",
          "text": [
            "+---------------+----------+\n",
            "| DeliveryStatus|OrderCount|\n",
            "+---------------+----------+\n",
            "|       Returned|       117|\n",
            "|      Delivered|       119|\n",
            "|Order Cancelled|       149|\n",
            "|        Pending|       115|\n",
            "+---------------+----------+\n",
            "\n",
            "+---------------+------------------+\n",
            "|ProductCategory|         AvgAmount|\n",
            "+---------------+------------------+\n",
            "|        Fashion|500.63082352941205|\n",
            "|      Groceries|459.51786407767014|\n",
            "|    Electronics| 551.7450000000002|\n",
            "|          Books| 568.6003773584907|\n",
            "|           Toys| 534.2837499999999|\n",
            "+---------------+------------------+\n",
            "\n",
            "+----------------+----------+\n",
            "|            City|TotalSales|\n",
            "+----------------+----------+\n",
            "|     Ramseymouth|    761.06|\n",
            "|East Edwardshire|    291.26|\n",
            "|    Lake Douglas|    975.09|\n",
            "|      Thomasberg|    882.68|\n",
            "| South Colinstad|    786.27|\n",
            "|     Laurenville|    383.26|\n",
            "|        Seanbury|    814.39|\n",
            "|      Gordonport|    514.99|\n",
            "|  West Dawnmouth|      12.8|\n",
            "|   Williamsmouth|     10.78|\n",
            "|     Sheilaville|    981.05|\n",
            "|       Mollybury|    222.02|\n",
            "|       Perezfort|    917.55|\n",
            "| Lake Jerrymouth|    404.01|\n",
            "|       Lisaville|     45.69|\n",
            "|     Port Willie|    788.13|\n",
            "|  South Samantha|    229.46|\n",
            "|Port Nicoleshire|    133.78|\n",
            "|Lake Rebeccabury|    891.66|\n",
            "|      Valdezberg|    424.96|\n",
            "+----------------+----------+\n",
            "only showing top 20 rows\n",
            "\n"
          ]
        }
      ]
    },
    {
      "cell_type": "markdown",
      "source": [
        "5. Null Handling & Update"
      ],
      "metadata": {
        "id": "C7tIsUoYJ60s"
      }
    },
    {
      "cell_type": "code",
      "source": [
        "from pyspark.sql.functions import when\n",
        "import random\n",
        "\n",
        "sdf_with_nulls = sdf_cleaned.withColumn(\n",
        "    \"City\",\n",
        "    when((col(\"City\").isNotNull()) & (col(\"Amount\") % 10 == 0), None).otherwise(col(\"City\"))\n",
        ")\n"
      ],
      "metadata": {
        "id": "a72b2sauJ-1F"
      },
      "execution_count": 13,
      "outputs": []
    },
    {
      "cell_type": "code",
      "source": [
        "sdf_fillna = sdf_with_nulls.fillna({\"City\": \"Unknown\"})\n",
        "\n",
        "sdf_dropna = sdf_with_nulls.dropna(subset=[\"City\"])\n"
      ],
      "metadata": {
        "id": "RBDcLR9FKJ49"
      },
      "execution_count": 14,
      "outputs": []
    },
    {
      "cell_type": "code",
      "source": [
        "from pyspark.sql.functions import when\n",
        "\n",
        "sdf_tagged = sdf_fillna.withColumn(\n",
        "    \"CustomerType\",\n",
        "    when(col(\"Amount\") > 800, \"High\").otherwise(\"Regular\")\n",
        ")\n"
      ],
      "metadata": {
        "id": "F-v9IT5WKQVz"
      },
      "execution_count": 15,
      "outputs": []
    },
    {
      "cell_type": "code",
      "source": [
        "sdf_tagged.select(\"OrderID\", \"Amount\", \"City\", \"CustomerType\").show(10)\n"
      ],
      "metadata": {
        "colab": {
          "base_uri": "https://localhost:8080/"
        },
        "id": "YbHf4YAoKUYV",
        "outputId": "4e70b305-f816-4d38-8c60-22aea3f1092b"
      },
      "execution_count": 16,
      "outputs": [
        {
          "output_type": "stream",
          "name": "stdout",
          "text": [
            "+-------+------+--------------+------------+\n",
            "|OrderID|Amount|          City|CustomerType|\n",
            "+-------+------+--------------+------------+\n",
            "|   5573|981.05|   Sheilaville|        High|\n",
            "|   8474|968.91|    Riverafort|        High|\n",
            "|   8889| 998.3|    Johnsonton|        High|\n",
            "|   2127|933.32|   Cherylhaven|        High|\n",
            "|   9806|993.17|  New Seanstad|        High|\n",
            "|   5593|961.35| Alexisborough|        High|\n",
            "|   2120|948.84|  Jenniferberg|        High|\n",
            "|   5949|918.14|East Scottfort|        High|\n",
            "|   1422| 973.2|    Alfredview|        High|\n",
            "|   2904|922.29|   Stokesmouth|        High|\n",
            "+-------+------+--------------+------------+\n",
            "only showing top 10 rows\n",
            "\n"
          ]
        }
      ]
    },
    {
      "cell_type": "markdown",
      "source": [
        "6. Date & Time Functions"
      ],
      "metadata": {
        "id": "uubkAjSZKznE"
      }
    },
    {
      "cell_type": "code",
      "source": [
        "sdf_original = spark.read.csv(file_path, header=True, inferSchema=True)\n",
        "\n",
        "from pyspark.sql.functions import to_date, year, month, current_date, months_between, round, col\n",
        "\n",
        "sdf_dates = sdf_original.withColumn(\"OrderDate\", to_date(col(\"OrderDate\"), \"yyyy-MM-dd\")) \\\n",
        "                        .withColumn(\"CustomerSince\", to_date(col(\"CustomerSince\"), \"yyyy-MM-dd\"))\n",
        "\n",
        "sdf_dates = sdf_dates.withColumn(\"OrderYear\", year(col(\"OrderDate\"))) \\\n",
        "                     .withColumn(\"OrderMonth\", month(col(\"OrderDate\")))\n",
        "\n",
        "sdf_dates = sdf_dates.withColumn(\n",
        "    \"LoyaltyYears\",\n",
        "    round(months_between(current_date(), col(\"CustomerSince\")) / 12, 1)\n",
        ")"
      ],
      "metadata": {
        "id": "YOINJh1RK5NN"
      },
      "execution_count": 25,
      "outputs": []
    },
    {
      "cell_type": "code",
      "source": [
        "sdf_dates.select(\"CustomerName\", \"OrderDate\", \"OrderYear\", \"OrderMonth\", \"CustomerSince\", \"LoyaltyYears\").show(10)"
      ],
      "metadata": {
        "colab": {
          "base_uri": "https://localhost:8080/"
        },
        "id": "MChtKn5jLgAd",
        "outputId": "91d71a3a-f808-4202-b864-7d1a5052a9fa"
      },
      "execution_count": 26,
      "outputs": [
        {
          "output_type": "stream",
          "name": "stdout",
          "text": [
            "+------------------+----------+---------+----------+-------------+------------+\n",
            "|      CustomerName| OrderDate|OrderYear|OrderMonth|CustomerSince|LoyaltyYears|\n",
            "+------------------+----------+---------+----------+-------------+------------+\n",
            "|     Donald Walker|2024-12-26|     2024|        12|   2020-10-15|         4.6|\n",
            "|      Brandon Hall|2024-09-12|     2024|         9|   2022-03-15|         3.2|\n",
            "|      Donald Booth|2025-01-12|     2025|         1|   2021-08-07|         3.8|\n",
            "|    Phillip Garcia|2024-03-24|     2024|         3|   2020-08-08|         4.8|\n",
            "|      Valerie Gray|2024-08-04|     2024|         8|   2022-11-15|         2.6|\n",
            "|       Amber Perez|2024-01-13|     2024|         1|   2022-01-13|         3.4|\n",
            "|        Roy Martin|2024-03-04|     2024|         3|   2023-04-29|         2.1|\n",
            "|    Carolyn Daniel|2023-10-07|     2023|        10|   2021-05-09|         4.1|\n",
            "|       Patty Perez|2023-06-27|     2023|         6|   2021-04-25|         4.1|\n",
            "|Jonathan Wilkerson|2024-10-14|     2024|        10|   2021-06-20|         4.0|\n",
            "+------------------+----------+---------+----------+-------------+------------+\n",
            "only showing top 10 rows\n",
            "\n"
          ]
        }
      ]
    },
    {
      "cell_type": "markdown",
      "source": [
        "7. Joins and Unions"
      ],
      "metadata": {
        "id": "cQWbEUdiLj1E"
      }
    },
    {
      "cell_type": "code",
      "source": [
        "from pyspark.sql import Row\n",
        "\n",
        "city_region_data = [\n",
        "    Row(City=\"New York\", Region=\"East\"),\n",
        "    Row(City=\"Los Angeles\", Region=\"West\"),\n",
        "    Row(City=\"Chicago\", Region=\"Midwest\"),\n",
        "    Row(City=\"Houston\", Region=\"South\"),\n",
        "    Row(City=\"Phoenix\", Region=\"West\")\n",
        "]\n",
        "\n",
        "city_region_df = spark.createDataFrame(city_region_data)\n",
        "city_region_df.show()\n"
      ],
      "metadata": {
        "colab": {
          "base_uri": "https://localhost:8080/"
        },
        "id": "zuBbeNtCLt8s",
        "outputId": "28dcda49-8e71-4481-c328-a188d65940d0"
      },
      "execution_count": 27,
      "outputs": [
        {
          "output_type": "stream",
          "name": "stdout",
          "text": [
            "+-----------+-------+\n",
            "|       City| Region|\n",
            "+-----------+-------+\n",
            "|   New York|   East|\n",
            "|Los Angeles|   West|\n",
            "|    Chicago|Midwest|\n",
            "|    Houston|  South|\n",
            "|    Phoenix|   West|\n",
            "+-----------+-------+\n",
            "\n"
          ]
        }
      ]
    },
    {
      "cell_type": "code",
      "source": [
        "inner_join_df = sdf_original.join(city_region_df, on=\"City\", how=\"inner\")\n",
        "print(\"Inner Join Result:\")\n",
        "inner_join_df.show(5)\n",
        "\n",
        "left_join_df = sdf_original.join(city_region_df, on=\"City\", how=\"left\")\n",
        "print(\"Left Join Result:\")\n",
        "left_join_df.show(5)\n"
      ],
      "metadata": {
        "colab": {
          "base_uri": "https://localhost:8080/"
        },
        "id": "z7RCLV5oLwsB",
        "outputId": "0fe9f65a-b178-4e65-e6df-e6ac8e2ec442"
      },
      "execution_count": 28,
      "outputs": [
        {
          "output_type": "stream",
          "name": "stdout",
          "text": [
            "Inner Join Result:\n",
            "+----+-------+------------+---------------+------+---------+--------------+--------+-----------+-------------+------+\n",
            "|City|OrderID|CustomerName|ProductCategory|Amount|OrderDate|DeliveryStatus|Discount|PaymentMode|CustomerSince|Region|\n",
            "+----+-------+------------+---------------+------+---------+--------------+--------+-----------+-------------+------+\n",
            "+----+-------+------------+---------------+------+---------+--------------+--------+-----------+-------------+------+\n",
            "\n",
            "Left Join Result:\n",
            "+----------------+-------+--------------+---------------+------+----------+--------------+--------+-----------+-------------+------+\n",
            "|            City|OrderID|  CustomerName|ProductCategory|Amount| OrderDate|DeliveryStatus|Discount|PaymentMode|CustomerSince|Region|\n",
            "+----------------+-------+--------------+---------------+------+----------+--------------+--------+-----------+-------------+------+\n",
            "| Port Jesseville|   4150|   Amber Perez|          Books|352.37|2024-01-13|     Cancelled|    0.24|       Cash|   2022-01-13|  NULL|\n",
            "|    Lake Joyside|   2824| Donald Walker|          Books|783.04|2024-12-26|      Returned|    0.15|Credit Card|   2020-10-15|  NULL|\n",
            "|    Lake Roberto|   4611|  Donald Booth|        Fashion|657.96|2025-01-12|      Returned|    0.01|     Wallet|   2021-08-07|  NULL|\n",
            "|West Melanieview|   3547|Phillip Garcia|        Fashion|606.89|2024-03-24|      Returned|    0.15|     Wallet|   2020-08-08|  NULL|\n",
            "|   New Jamesside|   7912|  Brandon Hall|      Groceries| 905.0|2024-09-12|     Cancelled|    0.03|     Wallet|   2022-03-15|  NULL|\n",
            "+----------------+-------+--------------+---------------+------+----------+--------------+--------+-----------+-------------+------+\n",
            "only showing top 5 rows\n",
            "\n"
          ]
        }
      ]
    },
    {
      "cell_type": "code",
      "source": [
        "from pyspark.sql.functions import year\n",
        "\n",
        "sdf_dates = sdf_original.withColumn(\"OrderDate\", to_date(col(\"OrderDate\"), \"yyyy-MM-dd\"))\n",
        "\n",
        "orders_2023 = sdf_dates.filter(year(col(\"OrderDate\")) == 2023)\n",
        "orders_2024 = sdf_dates.filter(year(col(\"OrderDate\")) == 2024)\n",
        "\n",
        "union_df = orders_2023.union(orders_2024)\n",
        "\n",
        "print(\"Union of 2023 and 2024 orders:\")\n",
        "union_df.show(5)\n"
      ],
      "metadata": {
        "colab": {
          "base_uri": "https://localhost:8080/"
        },
        "id": "XH2kMWH6L38F",
        "outputId": "9c10fbb3-f650-40fa-d6f8-ff4dab9be902"
      },
      "execution_count": 29,
      "outputs": [
        {
          "output_type": "stream",
          "name": "stdout",
          "text": [
            "Union of 2023 and 2024 orders:\n",
            "+-------+--------------+---------------+------+----------+--------------+--------+-----------------+-----------+-------------+\n",
            "|OrderID|  CustomerName|ProductCategory|Amount| OrderDate|DeliveryStatus|Discount|             City|PaymentMode|CustomerSince|\n",
            "+-------+--------------+---------------+------+----------+--------------+--------+-----------------+-----------+-------------+\n",
            "|   2169|Carolyn Daniel|    Electronics| 14.09|2023-10-07|     Delivered|    0.25|         Grayside|Credit Card|   2021-05-09|\n",
            "|   6313|   Patty Perez|      Groceries| 79.83|2023-06-27|     Cancelled|    0.12|      Richardland|Credit Card|   2021-04-25|\n",
            "|   2040| Kyle Mcdonald|           Toys|327.52|2023-12-15|      Returned|    0.06|Lake Jenniferside|     Wallet|   2021-07-21|\n",
            "|   6038| David Bradley|        Fashion|348.51|2023-08-03|      Returned|    0.23|    Lake Toddland|        UPI|   2022-09-07|\n",
            "|   3060|   John Pierce|           Toys|362.09|2023-12-25|      Returned|    0.03|       Brandtside|       Cash|   2023-05-09|\n",
            "+-------+--------------+---------------+------+----------+--------------+--------+-----------------+-----------+-------------+\n",
            "only showing top 5 rows\n",
            "\n"
          ]
        }
      ]
    },
    {
      "cell_type": "markdown",
      "source": [
        "8. Complex JSON Simulation (Advanced)\n"
      ],
      "metadata": {
        "id": "qH0_97eHMsE9"
      }
    },
    {
      "cell_type": "code",
      "source": [
        "from pyspark.sql.functions import to_json, struct\n",
        "\n",
        "json_df = sdf_original.withColumn(\n",
        "    \"json_str\",\n",
        "    to_json(struct([sdf_original[col] for col in sdf_original.columns]))\n",
        ")\n",
        "\n",
        "json_df.select(\"OrderID\", \"json_str\").show(3, truncate=False)\n"
      ],
      "metadata": {
        "colab": {
          "base_uri": "https://localhost:8080/"
        },
        "id": "7gI7EXmpMu-f",
        "outputId": "8e81fa01-837e-45f3-e302-0cf399c13d56"
      },
      "execution_count": 30,
      "outputs": [
        {
          "output_type": "stream",
          "name": "stdout",
          "text": [
            "+-------+---------------------------------------------------------------------------------------------------------------------------------------------------------------------------------------------------------------------------------------------+\n",
            "|OrderID|json_str                                                                                                                                                                                                                                     |\n",
            "+-------+---------------------------------------------------------------------------------------------------------------------------------------------------------------------------------------------------------------------------------------------+\n",
            "|2824   |{\"OrderID\":2824,\"CustomerName\":\"Donald Walker\",\"ProductCategory\":\"Books\",\"Amount\":783.04,\"OrderDate\":\"2024-12-26\",\"DeliveryStatus\":\"Returned\",\"Discount\":0.15,\"City\":\"Lake Joyside\",\"PaymentMode\":\"Credit Card\",\"CustomerSince\":\"2020-10-15\"}|\n",
            "|7912   |{\"OrderID\":7912,\"CustomerName\":\"Brandon Hall\",\"ProductCategory\":\"Groceries\",\"Amount\":905.0,\"OrderDate\":\"2024-09-12\",\"DeliveryStatus\":\"Cancelled\",\"Discount\":0.03,\"City\":\"New Jamesside\",\"PaymentMode\":\"Wallet\",\"CustomerSince\":\"2022-03-15\"} |\n",
            "|4611   |{\"OrderID\":4611,\"CustomerName\":\"Donald Booth\",\"ProductCategory\":\"Fashion\",\"Amount\":657.96,\"OrderDate\":\"2025-01-12\",\"DeliveryStatus\":\"Returned\",\"Discount\":0.01,\"City\":\"Lake Roberto\",\"PaymentMode\":\"Wallet\",\"CustomerSince\":\"2021-08-07\"}    |\n",
            "+-------+---------------------------------------------------------------------------------------------------------------------------------------------------------------------------------------------------------------------------------------------+\n",
            "only showing top 3 rows\n",
            "\n"
          ]
        }
      ]
    },
    {
      "cell_type": "code",
      "source": [
        "json_strings = json_df.select(\"json_str\")\n",
        "\n",
        "json_loaded_df = spark.read.json(json_strings.rdd.map(lambda r: r[0]))\n",
        "\n",
        "json_loaded_df.printSchema()\n",
        "json_loaded_df.show(3, truncate=False)\n"
      ],
      "metadata": {
        "colab": {
          "base_uri": "https://localhost:8080/"
        },
        "id": "MiONQEEKMzGX",
        "outputId": "b0d90939-477a-472f-d099-c8ff308300b0"
      },
      "execution_count": 31,
      "outputs": [
        {
          "output_type": "stream",
          "name": "stdout",
          "text": [
            "root\n",
            " |-- Amount: double (nullable = true)\n",
            " |-- City: string (nullable = true)\n",
            " |-- CustomerName: string (nullable = true)\n",
            " |-- CustomerSince: string (nullable = true)\n",
            " |-- DeliveryStatus: string (nullable = true)\n",
            " |-- Discount: double (nullable = true)\n",
            " |-- OrderDate: string (nullable = true)\n",
            " |-- OrderID: long (nullable = true)\n",
            " |-- PaymentMode: string (nullable = true)\n",
            " |-- ProductCategory: string (nullable = true)\n",
            "\n",
            "+------+-------------+-------------+-------------+--------------+--------+----------+-------+-----------+---------------+\n",
            "|Amount|City         |CustomerName |CustomerSince|DeliveryStatus|Discount|OrderDate |OrderID|PaymentMode|ProductCategory|\n",
            "+------+-------------+-------------+-------------+--------------+--------+----------+-------+-----------+---------------+\n",
            "|783.04|Lake Joyside |Donald Walker|2020-10-15   |Returned      |0.15    |2024-12-26|2824   |Credit Card|Books          |\n",
            "|905.0 |New Jamesside|Brandon Hall |2022-03-15   |Cancelled     |0.03    |2024-09-12|7912   |Wallet     |Groceries      |\n",
            "|657.96|Lake Roberto |Donald Booth |2021-08-07   |Returned      |0.01    |2025-01-12|4611   |Wallet     |Fashion        |\n",
            "+------+-------------+-------------+-------------+--------------+--------+----------+-------+-----------+---------------+\n",
            "only showing top 3 rows\n",
            "\n"
          ]
        }
      ]
    },
    {
      "cell_type": "code",
      "source": [
        "from pyspark.sql.functions import get_json_object\n",
        "\n",
        "json_df.select(\n",
        "    \"OrderID\",\n",
        "    get_json_object(\"json_str\", \"$.ProductCategory\").alias(\"ProductCategory\"),\n",
        "    get_json_object(\"json_str\", \"$.DeliveryStatus\").alias(\"DeliveryStatus\")\n",
        ").show(5)\n"
      ],
      "metadata": {
        "colab": {
          "base_uri": "https://localhost:8080/"
        },
        "id": "8ljJBJJJM1fg",
        "outputId": "5fbb408c-52a0-4d77-c7cb-8af504dd6b0b"
      },
      "execution_count": 32,
      "outputs": [
        {
          "output_type": "stream",
          "name": "stdout",
          "text": [
            "+-------+---------------+--------------+\n",
            "|OrderID|ProductCategory|DeliveryStatus|\n",
            "+-------+---------------+--------------+\n",
            "|   2824|          Books|      Returned|\n",
            "|   7912|      Groceries|     Cancelled|\n",
            "|   4611|        Fashion|      Returned|\n",
            "|   3547|        Fashion|      Returned|\n",
            "|   8527|           Toys|     Delivered|\n",
            "+-------+---------------+--------------+\n",
            "only showing top 5 rows\n",
            "\n"
          ]
        }
      ]
    },
    {
      "cell_type": "markdown",
      "source": [
        "9. Applying Functions"
      ],
      "metadata": {
        "id": "qJHYvqFUNLPU"
      }
    },
    {
      "cell_type": "code",
      "source": [
        "import pandas as pd\n",
        "\n",
        "pandas_df = pd.read_csv('/content/drive/MyDrive/Sales_Dataset__500_Records_.csv')\n",
        "\n",
        "def tag_order(amount):\n",
        "    if amount > 1000:\n",
        "        return \"Big\"\n",
        "    elif amount > 500:\n",
        "        return \"Medium\"\n",
        "    else:\n",
        "        return \"Small\"\n",
        "\n",
        "pandas_df['OrderTag'] = pandas_df['Amount'].apply(tag_order)\n",
        "\n",
        "pandas_df[['OrderID', 'Amount', 'OrderTag']].head(10)\n"
      ],
      "metadata": {
        "colab": {
          "base_uri": "https://localhost:8080/",
          "height": 363
        },
        "id": "UgV7zeTzNL7S",
        "outputId": "64c58797-0aa4-47f0-ecd2-171dac7c11ec"
      },
      "execution_count": 35,
      "outputs": [
        {
          "output_type": "execute_result",
          "data": {
            "text/plain": [
              "   OrderID  Amount OrderTag\n",
              "0     2824  783.04   Medium\n",
              "1     7912  905.00   Medium\n",
              "2     4611  657.96   Medium\n",
              "3     3547  606.89   Medium\n",
              "4     8527   77.87    Small\n",
              "5     4150  352.37    Small\n",
              "6     5554  148.33    Small\n",
              "7     2169   14.09    Small\n",
              "8     6313   79.83    Small\n",
              "9     6155  882.68   Medium"
            ],
            "text/html": [
              "\n",
              "  <div id=\"df-c749da56-17eb-4219-8c06-277405c57504\" class=\"colab-df-container\">\n",
              "    <div>\n",
              "<style scoped>\n",
              "    .dataframe tbody tr th:only-of-type {\n",
              "        vertical-align: middle;\n",
              "    }\n",
              "\n",
              "    .dataframe tbody tr th {\n",
              "        vertical-align: top;\n",
              "    }\n",
              "\n",
              "    .dataframe thead th {\n",
              "        text-align: right;\n",
              "    }\n",
              "</style>\n",
              "<table border=\"1\" class=\"dataframe\">\n",
              "  <thead>\n",
              "    <tr style=\"text-align: right;\">\n",
              "      <th></th>\n",
              "      <th>OrderID</th>\n",
              "      <th>Amount</th>\n",
              "      <th>OrderTag</th>\n",
              "    </tr>\n",
              "  </thead>\n",
              "  <tbody>\n",
              "    <tr>\n",
              "      <th>0</th>\n",
              "      <td>2824</td>\n",
              "      <td>783.04</td>\n",
              "      <td>Medium</td>\n",
              "    </tr>\n",
              "    <tr>\n",
              "      <th>1</th>\n",
              "      <td>7912</td>\n",
              "      <td>905.00</td>\n",
              "      <td>Medium</td>\n",
              "    </tr>\n",
              "    <tr>\n",
              "      <th>2</th>\n",
              "      <td>4611</td>\n",
              "      <td>657.96</td>\n",
              "      <td>Medium</td>\n",
              "    </tr>\n",
              "    <tr>\n",
              "      <th>3</th>\n",
              "      <td>3547</td>\n",
              "      <td>606.89</td>\n",
              "      <td>Medium</td>\n",
              "    </tr>\n",
              "    <tr>\n",
              "      <th>4</th>\n",
              "      <td>8527</td>\n",
              "      <td>77.87</td>\n",
              "      <td>Small</td>\n",
              "    </tr>\n",
              "    <tr>\n",
              "      <th>5</th>\n",
              "      <td>4150</td>\n",
              "      <td>352.37</td>\n",
              "      <td>Small</td>\n",
              "    </tr>\n",
              "    <tr>\n",
              "      <th>6</th>\n",
              "      <td>5554</td>\n",
              "      <td>148.33</td>\n",
              "      <td>Small</td>\n",
              "    </tr>\n",
              "    <tr>\n",
              "      <th>7</th>\n",
              "      <td>2169</td>\n",
              "      <td>14.09</td>\n",
              "      <td>Small</td>\n",
              "    </tr>\n",
              "    <tr>\n",
              "      <th>8</th>\n",
              "      <td>6313</td>\n",
              "      <td>79.83</td>\n",
              "      <td>Small</td>\n",
              "    </tr>\n",
              "    <tr>\n",
              "      <th>9</th>\n",
              "      <td>6155</td>\n",
              "      <td>882.68</td>\n",
              "      <td>Medium</td>\n",
              "    </tr>\n",
              "  </tbody>\n",
              "</table>\n",
              "</div>\n",
              "    <div class=\"colab-df-buttons\">\n",
              "\n",
              "  <div class=\"colab-df-container\">\n",
              "    <button class=\"colab-df-convert\" onclick=\"convertToInteractive('df-c749da56-17eb-4219-8c06-277405c57504')\"\n",
              "            title=\"Convert this dataframe to an interactive table.\"\n",
              "            style=\"display:none;\">\n",
              "\n",
              "  <svg xmlns=\"http://www.w3.org/2000/svg\" height=\"24px\" viewBox=\"0 -960 960 960\">\n",
              "    <path d=\"M120-120v-720h720v720H120Zm60-500h600v-160H180v160Zm220 220h160v-160H400v160Zm0 220h160v-160H400v160ZM180-400h160v-160H180v160Zm440 0h160v-160H620v160ZM180-180h160v-160H180v160Zm440 0h160v-160H620v160Z\"/>\n",
              "  </svg>\n",
              "    </button>\n",
              "\n",
              "  <style>\n",
              "    .colab-df-container {\n",
              "      display:flex;\n",
              "      gap: 12px;\n",
              "    }\n",
              "\n",
              "    .colab-df-convert {\n",
              "      background-color: #E8F0FE;\n",
              "      border: none;\n",
              "      border-radius: 50%;\n",
              "      cursor: pointer;\n",
              "      display: none;\n",
              "      fill: #1967D2;\n",
              "      height: 32px;\n",
              "      padding: 0 0 0 0;\n",
              "      width: 32px;\n",
              "    }\n",
              "\n",
              "    .colab-df-convert:hover {\n",
              "      background-color: #E2EBFA;\n",
              "      box-shadow: 0px 1px 2px rgba(60, 64, 67, 0.3), 0px 1px 3px 1px rgba(60, 64, 67, 0.15);\n",
              "      fill: #174EA6;\n",
              "    }\n",
              "\n",
              "    .colab-df-buttons div {\n",
              "      margin-bottom: 4px;\n",
              "    }\n",
              "\n",
              "    [theme=dark] .colab-df-convert {\n",
              "      background-color: #3B4455;\n",
              "      fill: #D2E3FC;\n",
              "    }\n",
              "\n",
              "    [theme=dark] .colab-df-convert:hover {\n",
              "      background-color: #434B5C;\n",
              "      box-shadow: 0px 1px 3px 1px rgba(0, 0, 0, 0.15);\n",
              "      filter: drop-shadow(0px 1px 2px rgba(0, 0, 0, 0.3));\n",
              "      fill: #FFFFFF;\n",
              "    }\n",
              "  </style>\n",
              "\n",
              "    <script>\n",
              "      const buttonEl =\n",
              "        document.querySelector('#df-c749da56-17eb-4219-8c06-277405c57504 button.colab-df-convert');\n",
              "      buttonEl.style.display =\n",
              "        google.colab.kernel.accessAllowed ? 'block' : 'none';\n",
              "\n",
              "      async function convertToInteractive(key) {\n",
              "        const element = document.querySelector('#df-c749da56-17eb-4219-8c06-277405c57504');\n",
              "        const dataTable =\n",
              "          await google.colab.kernel.invokeFunction('convertToInteractive',\n",
              "                                                    [key], {});\n",
              "        if (!dataTable) return;\n",
              "\n",
              "        const docLinkHtml = 'Like what you see? Visit the ' +\n",
              "          '<a target=\"_blank\" href=https://colab.research.google.com/notebooks/data_table.ipynb>data table notebook</a>'\n",
              "          + ' to learn more about interactive tables.';\n",
              "        element.innerHTML = '';\n",
              "        dataTable['output_type'] = 'display_data';\n",
              "        await google.colab.output.renderOutput(dataTable, element);\n",
              "        const docLink = document.createElement('div');\n",
              "        docLink.innerHTML = docLinkHtml;\n",
              "        element.appendChild(docLink);\n",
              "      }\n",
              "    </script>\n",
              "  </div>\n",
              "\n",
              "\n",
              "    <div id=\"df-9569359d-b1ab-434b-939c-cabe52625a7c\">\n",
              "      <button class=\"colab-df-quickchart\" onclick=\"quickchart('df-9569359d-b1ab-434b-939c-cabe52625a7c')\"\n",
              "                title=\"Suggest charts\"\n",
              "                style=\"display:none;\">\n",
              "\n",
              "<svg xmlns=\"http://www.w3.org/2000/svg\" height=\"24px\"viewBox=\"0 0 24 24\"\n",
              "     width=\"24px\">\n",
              "    <g>\n",
              "        <path d=\"M19 3H5c-1.1 0-2 .9-2 2v14c0 1.1.9 2 2 2h14c1.1 0 2-.9 2-2V5c0-1.1-.9-2-2-2zM9 17H7v-7h2v7zm4 0h-2V7h2v10zm4 0h-2v-4h2v4z\"/>\n",
              "    </g>\n",
              "</svg>\n",
              "      </button>\n",
              "\n",
              "<style>\n",
              "  .colab-df-quickchart {\n",
              "      --bg-color: #E8F0FE;\n",
              "      --fill-color: #1967D2;\n",
              "      --hover-bg-color: #E2EBFA;\n",
              "      --hover-fill-color: #174EA6;\n",
              "      --disabled-fill-color: #AAA;\n",
              "      --disabled-bg-color: #DDD;\n",
              "  }\n",
              "\n",
              "  [theme=dark] .colab-df-quickchart {\n",
              "      --bg-color: #3B4455;\n",
              "      --fill-color: #D2E3FC;\n",
              "      --hover-bg-color: #434B5C;\n",
              "      --hover-fill-color: #FFFFFF;\n",
              "      --disabled-bg-color: #3B4455;\n",
              "      --disabled-fill-color: #666;\n",
              "  }\n",
              "\n",
              "  .colab-df-quickchart {\n",
              "    background-color: var(--bg-color);\n",
              "    border: none;\n",
              "    border-radius: 50%;\n",
              "    cursor: pointer;\n",
              "    display: none;\n",
              "    fill: var(--fill-color);\n",
              "    height: 32px;\n",
              "    padding: 0;\n",
              "    width: 32px;\n",
              "  }\n",
              "\n",
              "  .colab-df-quickchart:hover {\n",
              "    background-color: var(--hover-bg-color);\n",
              "    box-shadow: 0 1px 2px rgba(60, 64, 67, 0.3), 0 1px 3px 1px rgba(60, 64, 67, 0.15);\n",
              "    fill: var(--button-hover-fill-color);\n",
              "  }\n",
              "\n",
              "  .colab-df-quickchart-complete:disabled,\n",
              "  .colab-df-quickchart-complete:disabled:hover {\n",
              "    background-color: var(--disabled-bg-color);\n",
              "    fill: var(--disabled-fill-color);\n",
              "    box-shadow: none;\n",
              "  }\n",
              "\n",
              "  .colab-df-spinner {\n",
              "    border: 2px solid var(--fill-color);\n",
              "    border-color: transparent;\n",
              "    border-bottom-color: var(--fill-color);\n",
              "    animation:\n",
              "      spin 1s steps(1) infinite;\n",
              "  }\n",
              "\n",
              "  @keyframes spin {\n",
              "    0% {\n",
              "      border-color: transparent;\n",
              "      border-bottom-color: var(--fill-color);\n",
              "      border-left-color: var(--fill-color);\n",
              "    }\n",
              "    20% {\n",
              "      border-color: transparent;\n",
              "      border-left-color: var(--fill-color);\n",
              "      border-top-color: var(--fill-color);\n",
              "    }\n",
              "    30% {\n",
              "      border-color: transparent;\n",
              "      border-left-color: var(--fill-color);\n",
              "      border-top-color: var(--fill-color);\n",
              "      border-right-color: var(--fill-color);\n",
              "    }\n",
              "    40% {\n",
              "      border-color: transparent;\n",
              "      border-right-color: var(--fill-color);\n",
              "      border-top-color: var(--fill-color);\n",
              "    }\n",
              "    60% {\n",
              "      border-color: transparent;\n",
              "      border-right-color: var(--fill-color);\n",
              "    }\n",
              "    80% {\n",
              "      border-color: transparent;\n",
              "      border-right-color: var(--fill-color);\n",
              "      border-bottom-color: var(--fill-color);\n",
              "    }\n",
              "    90% {\n",
              "      border-color: transparent;\n",
              "      border-bottom-color: var(--fill-color);\n",
              "    }\n",
              "  }\n",
              "</style>\n",
              "\n",
              "      <script>\n",
              "        async function quickchart(key) {\n",
              "          const quickchartButtonEl =\n",
              "            document.querySelector('#' + key + ' button');\n",
              "          quickchartButtonEl.disabled = true;  // To prevent multiple clicks.\n",
              "          quickchartButtonEl.classList.add('colab-df-spinner');\n",
              "          try {\n",
              "            const charts = await google.colab.kernel.invokeFunction(\n",
              "                'suggestCharts', [key], {});\n",
              "          } catch (error) {\n",
              "            console.error('Error during call to suggestCharts:', error);\n",
              "          }\n",
              "          quickchartButtonEl.classList.remove('colab-df-spinner');\n",
              "          quickchartButtonEl.classList.add('colab-df-quickchart-complete');\n",
              "        }\n",
              "        (() => {\n",
              "          let quickchartButtonEl =\n",
              "            document.querySelector('#df-9569359d-b1ab-434b-939c-cabe52625a7c button');\n",
              "          quickchartButtonEl.style.display =\n",
              "            google.colab.kernel.accessAllowed ? 'block' : 'none';\n",
              "        })();\n",
              "      </script>\n",
              "    </div>\n",
              "\n",
              "    </div>\n",
              "  </div>\n"
            ],
            "application/vnd.google.colaboratory.intrinsic+json": {
              "type": "dataframe",
              "summary": "{\n  \"name\": \"pandas_df[['OrderID', 'Amount', 'OrderTag']]\",\n  \"rows\": 10,\n  \"fields\": [\n    {\n      \"column\": \"OrderID\",\n      \"properties\": {\n        \"dtype\": \"number\",\n        \"std\": 2100,\n        \"min\": 2169,\n        \"max\": 8527,\n        \"num_unique_values\": 10,\n        \"samples\": [\n          6313,\n          7912,\n          4150\n        ],\n        \"semantic_type\": \"\",\n        \"description\": \"\"\n      }\n    },\n    {\n      \"column\": \"Amount\",\n      \"properties\": {\n        \"dtype\": \"number\",\n        \"std\": 355.7571676548173,\n        \"min\": 14.09,\n        \"max\": 905.0,\n        \"num_unique_values\": 10,\n        \"samples\": [\n          79.83,\n          905.0,\n          352.37\n        ],\n        \"semantic_type\": \"\",\n        \"description\": \"\"\n      }\n    },\n    {\n      \"column\": \"OrderTag\",\n      \"properties\": {\n        \"dtype\": \"category\",\n        \"num_unique_values\": 2,\n        \"samples\": [\n          \"Small\",\n          \"Medium\"\n        ],\n        \"semantic_type\": \"\",\n        \"description\": \"\"\n      }\n    }\n  ]\n}"
            }
          },
          "metadata": {},
          "execution_count": 35
        }
      ]
    },
    {
      "cell_type": "code",
      "source": [
        "from pyspark.sql.functions import udf\n",
        "from pyspark.sql.types import StringType\n",
        "\n",
        "def tag_order(amount):\n",
        "    if amount is None:\n",
        "        return \"Unknown\"\n",
        "    if amount > 1000:\n",
        "        return \"Big\"\n",
        "    elif amount > 500:\n",
        "        return \"Medium\"\n",
        "    else:\n",
        "        return \"Small\"\n",
        "\n",
        "tag_order_udf = udf(tag_order, StringType())\n",
        "\n",
        "sdf_tagged = sdf_original.withColumn(\"OrderTag\", tag_order_udf(\"Amount\"))\n",
        "\n",
        "sdf_tagged.select(\"OrderID\", \"Amount\", \"OrderTag\").show(10)\n"
      ],
      "metadata": {
        "colab": {
          "base_uri": "https://localhost:8080/"
        },
        "id": "KvUsDBprNlGt",
        "outputId": "77a691f4-809f-4741-e014-e55e77c3a72d"
      },
      "execution_count": 36,
      "outputs": [
        {
          "output_type": "stream",
          "name": "stdout",
          "text": [
            "+-------+------+--------+\n",
            "|OrderID|Amount|OrderTag|\n",
            "+-------+------+--------+\n",
            "|   2824|783.04|  Medium|\n",
            "|   7912| 905.0|  Medium|\n",
            "|   4611|657.96|  Medium|\n",
            "|   3547|606.89|  Medium|\n",
            "|   8527| 77.87|   Small|\n",
            "|   4150|352.37|   Small|\n",
            "|   5554|148.33|   Small|\n",
            "|   2169| 14.09|   Small|\n",
            "|   6313| 79.83|   Small|\n",
            "|   6155|882.68|  Medium|\n",
            "+-------+------+--------+\n",
            "only showing top 10 rows\n",
            "\n"
          ]
        }
      ]
    }
  ]
}