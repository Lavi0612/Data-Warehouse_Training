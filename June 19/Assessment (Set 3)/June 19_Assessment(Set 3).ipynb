{
 "cells": [
  {
   "cell_type": "code",
   "execution_count": 0,
   "metadata": {
    "application/vnd.databricks.v1+cell": {
     "cellMetadata": {
      "byteLimit": 2048000,
      "rowLimit": 10000
     },
     "inputWidgets": {},
     "nuid": "3303c552-efcc-477e-b326-6ac3a9927d21",
     "showTitle": false,
     "tableResultSettingsMap": {},
     "title": ""
    }
   },
   "outputs": [
    {
     "output_type": "stream",
     "name": "stdout",
     "output_type": "stream",
     "text": [
      "+------+------------+-----------+----------+--------+------------+-------------+---------+---------+\n|ItemID|    ItemName|   Category| Warehouse|StockQty|ReorderLevel|LastRestocked|UnitPrice| Supplies|\n+------+------------+-----------+----------+--------+------------+-------------+---------+---------+\n|  I001|      LED TV|Electronics|WarehouseA|      50|          20|   2024-03-15|    30000|   AVTech|\n|  I002|      Laptop|Electronics|WarehouseB|      10|          15|   2024-04-01|    70000|TechWorld|\n|  I003|Office Chair|  Furniture|WarehouseA|      40|          10|   2024-03-25|     6000|  ChairCo|\n|  I004|Refrigerator| Appliances|WarehouseC|       5|          10|   2024-02-20|    25000| FreezeIt|\n|  I005|     Printer|Electronics|WarehouseB|       3|           5|   2024-03-30|     8000|PrintFast|\n+------+------------+-----------+----------+--------+------------+-------------+---------+---------+\n\n"
     ]
    }
   ],
   "source": [
    "from pyspark.sql import SparkSession\n",
    "from pyspark.sql.functions import col, when, avg, count, expr, lit, current_date, months_between, to_date, datediff\n",
    "\n",
    "spark = SparkSession.builder.appName(\"RetailInventoryAnalysis\").getOrCreate()\n",
    "\n",
    "df = spark.read.option(\"header\", True).option(\"inferSchema\", True).csv(\"file:/Workspace/Shared/inventory_supply.csv\")\n",
    "\n",
    "df = df.withColumn(\"LastRestocked\", to_date(\"LastRestocked\"))\n",
    "df.show()"
   ]
  },
  {
   "cell_type": "markdown",
   "metadata": {
    "application/vnd.databricks.v1+cell": {
     "cellMetadata": {},
     "inputWidgets": {},
     "nuid": "9621ea48-c583-4a60-ab97-ad43fb24d6ca",
     "showTitle": false,
     "tableResultSettingsMap": {},
     "title": ""
    }
   },
   "source": [
    "Scenario 1: Inventory Alerting System"
   ]
  },
  {
   "cell_type": "code",
   "execution_count": 0,
   "metadata": {
    "application/vnd.databricks.v1+cell": {
     "cellMetadata": {
      "byteLimit": 2048000,
      "rowLimit": 10000
     },
     "inputWidgets": {},
     "nuid": "23e2137c-99a8-4f3e-b447-d9ae18e6fa2b",
     "showTitle": false,
     "tableResultSettingsMap": {},
     "title": ""
    }
   },
   "outputs": [
    {
     "output_type": "stream",
     "name": "stdout",
     "output_type": "stream",
     "text": [
      "+------+------------+-----------+----------+--------+------------+-------------+---------+---------+------------+\n|ItemID|    ItemName|   Category| Warehouse|StockQty|ReorderLevel|LastRestocked|UnitPrice| Supplies|NeedsReorder|\n+------+------------+-----------+----------+--------+------------+-------------+---------+---------+------------+\n|  I002|      Laptop|Electronics|WarehouseB|      10|          15|   2024-04-01|    70000|TechWorld|        true|\n|  I004|Refrigerator| Appliances|WarehouseC|       5|          10|   2024-02-20|    25000| FreezeIt|        true|\n|  I005|     Printer|Electronics|WarehouseB|       3|           5|   2024-03-30|     8000|PrintFast|        true|\n+------+------------+-----------+----------+--------+------------+-------------+---------+---------+------------+\n\n+---------+-----+\n|Warehouse|count|\n+---------+-----+\n+---------+-----+\n\n"
     ]
    }
   ],
   "source": [
    "#2. Create a new column NeedsReorder = StockQty < ReorderLevel .\n",
    "df = df.withColumn(\"NeedsReorder\", col(\"StockQty\") < col(\"ReorderLevel\"))\n",
    "\n",
    "#3. Create a view of all items that need restocking.\n",
    "df.filter(\"NeedsReorder\").createOrReplaceTempView(\"items_to_restock\")\n",
    "spark.sql(\"SELECT * FROM items_to_restock\").show()\n",
    "\n",
    "#4. Highlight warehouses with more than 2 such items.\n",
    "df.filter(\"NeedsReorder\").groupBy(\"Warehouse\").count().filter(\"count > 2\").show()"
   ]
  },
  {
   "cell_type": "markdown",
   "metadata": {
    "application/vnd.databricks.v1+cell": {
     "cellMetadata": {},
     "inputWidgets": {},
     "nuid": "45dcc624-3de4-4c0d-9f9e-b4290331fe6c",
     "showTitle": false,
     "tableResultSettingsMap": {},
     "title": ""
    }
   },
   "source": [
    "Scenario 2: Supplier Price Optimization"
   ]
  },
  {
   "cell_type": "code",
   "execution_count": 0,
   "metadata": {
    "application/vnd.databricks.v1+cell": {
     "cellMetadata": {
      "byteLimit": 2048000,
      "rowLimit": 10000
     },
     "inputWidgets": {},
     "nuid": "b1a2ab72-1572-4ff7-83c2-f7faef5829f0",
     "showTitle": false,
     "tableResultSettingsMap": {},
     "title": ""
    }
   },
   "outputs": [
    {
     "output_type": "stream",
     "name": "stdout",
     "output_type": "stream",
     "text": [
      "+---------+----------------+\n| Supplies|AvgSupplierPrice|\n+---------+----------------+\n|   AVTech|         30000.0|\n|TechWorld|         70000.0|\n|PrintFast|          8000.0|\n| FreezeIt|         25000.0|\n|  ChairCo|          6000.0|\n+---------+----------------+\n\n+------------+---------+-----------+---------+-------------+\n|    ItemName| Supplies|   Category|UnitPrice|IsBelowMarket|\n+------------+---------+-----------+---------+-------------+\n|      LED TV|   AVTech|Electronics|    30000|         true|\n|      Laptop|TechWorld|Electronics|    70000|        false|\n|Office Chair|  ChairCo|  Furniture|     6000|        false|\n|Refrigerator| FreezeIt| Appliances|    25000|        false|\n|     Printer|PrintFast|Electronics|     8000|         true|\n+------------+---------+-----------+---------+-------------+\n\n"
     ]
    }
   ],
   "source": [
    "# 1. Group items by Supplier and compute average price.\n",
    "avg_price_by_supplier = df.groupBy(\"Supplies\").agg(avg(\"UnitPrice\").alias(\"AvgSupplierPrice\"))\n",
    "avg_price_by_supplier.show()\n",
    "\n",
    "# 2. Find which suppliers offer items below average price in their category.\n",
    "avg_price_by_category = df.groupBy(\"Category\").agg(avg(\"UnitPrice\").alias(\"CategoryAvgPrice\"))\n",
    "df2 = df.join(avg_price_by_category, \"Category\")\n",
    "\n",
    "df2 = df2.withColumn(\"IsBelowMarket\", col(\"UnitPrice\") < col(\"CategoryAvgPrice\"))\n",
    "df2.select(\"ItemName\", \"Supplies\", \"Category\", \"UnitPrice\", \"IsBelowMarket\").show()\n"
   ]
  },
  {
   "cell_type": "code",
   "execution_count": 0,
   "metadata": {
    "application/vnd.databricks.v1+cell": {
     "cellMetadata": {
      "byteLimit": 2048000,
      "rowLimit": 10000
     },
     "inputWidgets": {},
     "nuid": "f65ea9c3-5329-495b-9b97-5fb107679b7e",
     "showTitle": false,
     "tableResultSettingsMap": {},
     "title": ""
    }
   },
   "outputs": [
    {
     "output_type": "stream",
     "name": "stdout",
     "output_type": "stream",
     "text": [
      "+---------+-------------+---------+\n| Supplies|GoodDealRatio|      Tag|\n+---------+-------------+---------+\n|   AVTech|          1.0|Good Deal|\n|TechWorld|          0.0|  Average|\n|PrintFast|          1.0|Good Deal|\n| FreezeIt|          0.0|  Average|\n|  ChairCo|          0.0|  Average|\n+---------+-------------+---------+\n\n"
     ]
    }
   ],
   "source": [
    "# 3. Tag suppliers with Good Deal if >50% of their items are below market average.\n",
    "good_deal = df2.groupBy(\"Supplies\") \\\n",
    "    .agg(expr(\"sum(case when IsBelowMarket then 1 else 0 end) / count(*)\").alias(\"GoodDealRatio\")) \\\n",
    "    .withColumn(\"Tag\", when(col(\"GoodDealRatio\") > 0.5, \"Good Deal\").otherwise(\"Average\"))\n",
    "good_deal.show()"
   ]
  },
  {
   "cell_type": "markdown",
   "metadata": {
    "application/vnd.databricks.v1+cell": {
     "cellMetadata": {},
     "inputWidgets": {},
     "nuid": "d4f2794c-7eb6-48f0-9c28-3f0acaa989d9",
     "showTitle": false,
     "tableResultSettingsMap": {},
     "title": ""
    }
   },
   "source": [
    "Scenario 3: Cost Forecasting"
   ]
  },
  {
   "cell_type": "code",
   "execution_count": 0,
   "metadata": {
    "application/vnd.databricks.v1+cell": {
     "cellMetadata": {
      "byteLimit": 2048000,
      "rowLimit": 10000
     },
     "inputWidgets": {},
     "nuid": "c92b20d0-d54f-473d-8d7b-34e3853f6828",
     "showTitle": false,
     "tableResultSettingsMap": {},
     "title": ""
    }
   },
   "outputs": [
    {
     "output_type": "stream",
     "name": "stdout",
     "output_type": "stream",
     "text": [
      "+------------+---------------+\n|    ItemName|TotalStockValue|\n+------------+---------------+\n|      LED TV|        1500000|\n|      Laptop|         700000|\n|Office Chair|         240000|\n+------------+---------------+\nonly showing top 3 rows\n\n"
     ]
    }
   ],
   "source": [
    "#1. Calculate TotalStockValue = StockQty * UnitPrice .\n",
    "df = df.withColumn(\"TotalStockValue\", col(\"StockQty\") * col(\"UnitPrice\"))\n",
    "\n",
    "#2. Identify top 3 highest-value items.\n",
    "df.orderBy(col(\"TotalStockValue\").desc()).select(\"ItemName\", \"TotalStockValue\").show(3)\n",
    "\n",
    "#3. Export the result as a Parquet file partitioned by Warehouse .\n",
    "df.write.mode(\"overwrite\").partitionBy(\"Warehouse\").parquet(\"output/warehouse_stock_value\")"
   ]
  },
  {
   "cell_type": "markdown",
   "metadata": {
    "application/vnd.databricks.v1+cell": {
     "cellMetadata": {},
     "inputWidgets": {},
     "nuid": "e93ab1dd-c87d-4dfb-81ea-e1354fc3140c",
     "showTitle": false,
     "tableResultSettingsMap": {},
     "title": ""
    }
   },
   "source": [
    "Scenario 4: Warehouse Utilization"
   ]
  },
  {
   "cell_type": "code",
   "execution_count": 0,
   "metadata": {
    "application/vnd.databricks.v1+cell": {
     "cellMetadata": {
      "byteLimit": 2048000,
      "rowLimit": 10000
     },
     "inputWidgets": {},
     "nuid": "8649f4f0-855f-4354-996e-0c82bcb60d1d",
     "showTitle": false,
     "tableResultSettingsMap": {},
     "title": ""
    }
   },
   "outputs": [
    {
     "output_type": "stream",
     "name": "stdout",
     "output_type": "stream",
     "text": [
      "+----------+-----+\n| Warehouse|count|\n+----------+-----+\n|WarehouseA|    2|\n|WarehouseC|    1|\n|WarehouseB|    2|\n+----------+-----+\n\n+----------+-----------+--------+\n| Warehouse|   Category|AvgStock|\n+----------+-----------+--------+\n|WarehouseB|Electronics|     6.5|\n|WarehouseA|  Furniture|    40.0|\n|WarehouseC| Appliances|     5.0|\n|WarehouseA|Electronics|    50.0|\n+----------+-----------+--------+\n\n+----------+----------+\n| Warehouse|TotalStock|\n+----------+----------+\n|WarehouseA|        90|\n|WarehouseC|         5|\n|WarehouseB|        13|\n+----------+----------+\n\n"
     ]
    }
   ],
   "source": [
    "# 1. Count items stored per warehouse.\n",
    "df.groupBy(\"Warehouse\").count().show()\n",
    "\n",
    "#2. Average stock per category in each warehouse.\n",
    "df.groupBy(\"Warehouse\", \"Category\").agg(avg(\"StockQty\").alias(\"AvgStock\")).show()\n",
    "\n",
    "#3. Determine underutilized warehouses ( total stock < 100 ).\n",
    "df.groupBy(\"Warehouse\").agg(expr(\"sum(StockQty)\").alias(\"TotalStock\")) \\\n",
    "    .filter(\"TotalStock < 100\").show()"
   ]
  },
  {
   "cell_type": "markdown",
   "metadata": {
    "application/vnd.databricks.v1+cell": {
     "cellMetadata": {},
     "inputWidgets": {},
     "nuid": "7159a75f-e5d4-47cc-9304-b4b61f689839",
     "showTitle": false,
     "tableResultSettingsMap": {},
     "title": ""
    }
   },
   "source": [
    "Scenario 5: Delta Audit Trail"
   ]
  },
  {
   "cell_type": "code",
   "execution_count": 0,
   "metadata": {
    "application/vnd.databricks.v1+cell": {
     "cellMetadata": {
      "byteLimit": 2048000,
      "rowLimit": 10000
     },
     "inputWidgets": {},
     "nuid": "524e62de-2f31-4a68-86b5-87a165333636",
     "showTitle": false,
     "tableResultSettingsMap": {},
     "title": ""
    }
   },
   "outputs": [
    {
     "output_type": "stream",
     "name": "stdout",
     "output_type": "stream",
     "text": [
      "+-------+-------------------+----------------+--------------------+---------+--------------------+----+------------------+--------------------+-----------+-----------------+-------------+--------------------+------------+--------------------+\n|version|          timestamp|          userId|            userName|operation| operationParameters| job|          notebook|           clusterId|readVersion|   isolationLevel|isBlindAppend|    operationMetrics|userMetadata|          engineInfo|\n+-------+-------------------+----------------+--------------------+---------+--------------------+----+------------------+--------------------+-----------+-----------------+-------------+--------------------+------------+--------------------+\n|      2|2025-06-19 05:49:53|4028198190791787|azuser3553_mml.lo...|   DELETE|{predicate -> [\"(...|NULL|{1052067078041129}|0611-043506-43vn1hs6|          1|WriteSerializable|        false|{numRemovedFiles ...|        NULL|Databricks-Runtim...|\n|      1|2025-06-19 05:49:52|4028198190791787|azuser3553_mml.lo...|   UPDATE|{predicate -> [\"(...|NULL|{1052067078041129}|0611-043506-43vn1hs6|          0|WriteSerializable|        false|{numRemovedFiles ...|        NULL|Databricks-Runtim...|\n|      0|2025-06-19 05:49:49|4028198190791787|azuser3553_mml.lo...|    WRITE|{mode -> Overwrit...|NULL|{1052067078041129}|0611-043506-43vn1hs6|       NULL|WriteSerializable|        false|{numFiles -> 1, n...|        NULL|Databricks-Runtim...|\n+-------+-------------------+----------------+--------------------+---------+--------------------+----+------------------+--------------------+-----------+-----------------+-------------+--------------------+------------+--------------------+\n\n+------+------------+-----------+----------+--------+------------+-------------+---------+---------+------------+---------------+\n|ItemID|    ItemName|   Category| Warehouse|StockQty|ReorderLevel|LastRestocked|UnitPrice| Supplies|NeedsReorder|TotalStockValue|\n+------+------------+-----------+----------+--------+------------+-------------+---------+---------+------------+---------------+\n|  I001|      LED TV|Electronics|WarehouseA|      50|          20|   2024-03-15|    30000|   AVTech|       false|        1500000|\n|  I002|      Laptop|Electronics|WarehouseB|      10|          15|   2024-04-01|    70000|TechWorld|        true|         700000|\n|  I003|Office Chair|  Furniture|WarehouseA|      40|          10|   2024-03-25|     6000|  ChairCo|       false|         240000|\n|  I004|Refrigerator| Appliances|WarehouseC|       5|          10|   2024-02-20|    25000| FreezeIt|        true|         125000|\n|  I005|     Printer|Electronics|WarehouseB|       3|           5|   2024-03-30|     8000|PrintFast|        true|          24000|\n+------+------------+-----------+----------+--------+------------+-------------+---------+---------+------------+---------------+\n\n"
     ]
    }
   ],
   "source": [
    "from delta.tables import DeltaTable\n",
    "\n",
    "# 1. Save as Delta table retail_inventory .\n",
    "df.write.format(\"delta\").mode(\"overwrite\").save(\"/tmp/retail_inventory\")\n",
    "\n",
    "#2. Update stock of 'Laptop' to 20.\n",
    "delta_table = DeltaTable.forPath(spark, \"/tmp/retail_inventory\")\n",
    "delta_table.update(\"ItemName = 'Laptop'\", {\"StockQty\": \"20\"})\n",
    "\n",
    "#3. Delete any item with StockQty = 0 .\n",
    "delta_table.delete(\"StockQty = 0\")\n",
    "\n",
    "#4. Run DESCRIBE HISTORY and query VERSION AS OF previous state.\n",
    "spark.sql(\"DESCRIBE HISTORY delta.`/tmp/retail_inventory`\").show()\n",
    "\n",
    "spark.read.format(\"delta\").option(\"versionAsOf\", 0).load(\"/tmp/retail_inventory\").show()"
   ]
  },
  {
   "cell_type": "markdown",
   "metadata": {
    "application/vnd.databricks.v1+cell": {
     "cellMetadata": {},
     "inputWidgets": {},
     "nuid": "9bce65a2-0e75-43a8-9f28-7c70744d09bb",
     "showTitle": false,
     "tableResultSettingsMap": {},
     "title": ""
    }
   },
   "source": [
    "Scenario 6: Alerts from Restock Logs"
   ]
  },
  {
   "cell_type": "code",
   "execution_count": 0,
   "metadata": {
    "application/vnd.databricks.v1+cell": {
     "cellMetadata": {
      "byteLimit": 2048000,
      "rowLimit": 10000
     },
     "inputWidgets": {},
     "nuid": "972523c4-2a4e-4d92-8863-957afe74b43c",
     "showTitle": false,
     "tableResultSettingsMap": {},
     "title": ""
    }
   },
   "outputs": [
    {
     "output_type": "stream",
     "name": "stdout",
     "output_type": "stream",
     "text": [
      "+------+------------+--------+-------------+-----------+-----------------+\n|ItemID|    ItemName|StockQty|QuantityAdded|NewStockQty|RestockedRecently|\n+------+------------+--------+-------------+-----------+-----------------+\n|  I002|      Laptop|      30|           10|         40|             true|\n|  I001|      LED TV|      70|           20|         90|             true|\n|  I005|     Printer|       8|            5|         13|             true|\n|  I003|Office Chair|      40|         NULL|         40|            false|\n|  I004|Refrigerator|       5|         NULL|          5|            false|\n+------+------------+--------+-------------+-----------+-----------------+\n\n"
     ]
    }
   ],
   "source": [
    "restock_logs = spark.read.option(\"header\", True).option(\"inferSchema\", True).csv(\"file:/Workspace/Shared/restock_logs.csv\")\n",
    "restock_logs = restock_logs.withColumn(\"RestockDate\", to_date(\"RestockDate\"))\n",
    "\n",
    "#1. Join with inventory table to update StockQty.\n",
    "inventory_df = spark.read.format(\"delta\").load(\"/tmp/retail_inventory\")\n",
    "restock_joined = inventory_df.join(restock_logs, \"ItemID\", \"left\")\n",
    "\n",
    "#2. Calculate new stock and flag RestockedRecently = true for updated items.\n",
    "updated_df = restock_joined.withColumn(\n",
    "    \"NewStockQty\", col(\"StockQty\") + when(col(\"QuantityAdded\").isNull(), 0).otherwise(col(\"QuantityAdded\"))\n",
    ").withColumn(\"RestockedRecently\", col(\"QuantityAdded\").isNotNull())\n",
    "\n",
    "updated_df.select(\"ItemID\", \"ItemName\", \"StockQty\", \"QuantityAdded\", \"NewStockQty\", \"RestockedRecently\").show()\n",
    "\n",
    "#3. Use MERGE INTO to update in Delta.\n",
    "merge_table = DeltaTable.forPath(spark, \"/tmp/retail_inventory\")\n",
    "\n",
    "merge_table.alias(\"target\").merge(\n",
    "    updated_df.alias(\"source\"),\n",
    "    \"target.ItemID = source.ItemID\"\n",
    ").whenMatchedUpdate(set={\n",
    "    \"StockQty\": \"source.NewStockQty\"\n",
    "}).execute()"
   ]
  },
  {
   "cell_type": "markdown",
   "metadata": {
    "application/vnd.databricks.v1+cell": {
     "cellMetadata": {},
     "inputWidgets": {},
     "nuid": "d2e60507-adfa-4f7e-961f-e8025f3961bc",
     "showTitle": false,
     "tableResultSettingsMap": {},
     "title": ""
    }
   },
   "source": [
    "Scenario 7: Report Generation with SQL Views"
   ]
  },
  {
   "cell_type": "code",
   "execution_count": 0,
   "metadata": {
    "application/vnd.databricks.v1+cell": {
     "cellMetadata": {
      "byteLimit": 2048000,
      "rowLimit": 10000
     },
     "inputWidgets": {},
     "nuid": "4a2a428d-5cd3-4a50-8b44-a9c233429ab1",
     "showTitle": false,
     "tableResultSettingsMap": {},
     "title": ""
    }
   },
   "outputs": [
    {
     "output_type": "stream",
     "name": "stdout",
     "output_type": "stream",
     "text": [
      "+------------+-----------+--------+------------+---------------+\n|    ItemName|   Category|StockQty|NeedsReorder|TotalStockValue|\n+------------+-----------+--------+------------+---------------+\n|      LED TV|Electronics|      50|       false|        1500000|\n|      Laptop|Electronics|      10|        true|         700000|\n|Office Chair|  Furniture|      40|       false|         240000|\n|Refrigerator| Appliances|       5|        true|         125000|\n|     Printer|Electronics|       3|        true|          24000|\n+------------+-----------+--------+------------+---------------+\n\n+---------+--------+\n| Supplies|AvgPrice|\n+---------+--------+\n|  ChairCo|  6000.0|\n|PrintFast|  8000.0|\n| FreezeIt| 25000.0|\n|   AVTech| 30000.0|\n|TechWorld| 70000.0|\n+---------+--------+\n\n"
     ]
    }
   ],
   "source": [
    "#1. Create SQL view inventory_summary\n",
    "df.createOrReplaceTempView(\"inventory_summary_view\")\n",
    "spark.sql(\"\"\"\n",
    "    SELECT ItemName, Category, StockQty, NeedsReorder, TotalStockValue\n",
    "    FROM inventory_summary_view\n",
    "\"\"\").createOrReplaceTempView(\"inventory_summary\")\n",
    "spark.sql(\"SELECT * FROM inventory_summary\").show()\n",
    "\n",
    "#2. Create view supplier_leaderboard sorted by average price\n",
    "df.groupBy(\"Supplies\").agg(avg(\"UnitPrice\").alias(\"AvgPrice\")) \\\n",
    "    .orderBy(\"AvgPrice\").createOrReplaceTempView(\"supplier_leaderboard\")\n",
    "spark.sql(\"SELECT * FROM supplier_leaderboard\").show()"
   ]
  },
  {
   "cell_type": "markdown",
   "metadata": {
    "application/vnd.databricks.v1+cell": {
     "cellMetadata": {},
     "inputWidgets": {},
     "nuid": "354e4463-e12d-4252-8a71-e46eab4769b2",
     "showTitle": false,
     "tableResultSettingsMap": {},
     "title": ""
    }
   },
   "source": [
    "Scenario 8: Advanced Filtering"
   ]
  },
  {
   "cell_type": "code",
   "execution_count": 0,
   "metadata": {
    "application/vnd.databricks.v1+cell": {
     "cellMetadata": {
      "byteLimit": 2048000,
      "rowLimit": 10000
     },
     "inputWidgets": {},
     "nuid": "408670bf-21d0-4479-bb81-633833d0da69",
     "showTitle": false,
     "tableResultSettingsMap": {},
     "title": ""
    }
   },
   "outputs": [
    {
     "output_type": "stream",
     "name": "stdout",
     "output_type": "stream",
     "text": [
      "+------------+--------+------------+-----------+\n|    ItemName|StockQty|ReorderLevel|StockStatus|\n+------------+--------+------------+-----------+\n|      LED TV|      50|          20|Overstocked|\n|      Laptop|      10|          15|   LowStock|\n|Office Chair|      40|          10|Overstocked|\n|Refrigerator|       5|          10|   LowStock|\n|     Printer|       3|           5|   LowStock|\n+------------+--------+------------+-----------+\n\n+------+------------+-----------+----------+--------+------------+-------------+---------+---------+------------+---------------+-----------+\n|ItemID|    ItemName|   Category| Warehouse|StockQty|ReorderLevel|LastRestocked|UnitPrice| Supplies|NeedsReorder|TotalStockValue|StockStatus|\n+------+------------+-----------+----------+--------+------------+-------------+---------+---------+------------+---------------+-----------+\n|  I002|      Laptop|Electronics|WarehouseB|      10|          15|   2024-04-01|    70000|TechWorld|        true|         700000|   LowStock|\n|  I004|Refrigerator| Appliances|WarehouseC|       5|          10|   2024-02-20|    25000| FreezeIt|        true|         125000|   LowStock|\n|  I005|     Printer|Electronics|WarehouseB|       3|           5|   2024-03-30|     8000|PrintFast|        true|          24000|   LowStock|\n+------+------------+-----------+----------+--------+------------+-------------+---------+---------+------------+---------------+-----------+\n\n+------+------------+-----------+----------+--------+------------+-------------+---------+--------+------------+---------------+-----------+\n|ItemID|    ItemName|   Category| Warehouse|StockQty|ReorderLevel|LastRestocked|UnitPrice|Supplies|NeedsReorder|TotalStockValue|StockStatus|\n+------+------------+-----------+----------+--------+------------+-------------+---------+--------+------------+---------------+-----------+\n|  I001|      LED TV|Electronics|WarehouseA|      50|          20|   2024-03-15|    30000|  AVTech|       false|        1500000|Overstocked|\n|  I003|Office Chair|  Furniture|WarehouseA|      40|          10|   2024-03-25|     6000| ChairCo|       false|         240000|Overstocked|\n+------+------------+-----------+----------+--------+------------+-------------+---------+--------+------------+---------------+-----------+\n\n"
     ]
    }
   ],
   "source": [
    "#1. Use when / otherwise to categorize items\n",
    "df = df.withColumn(\"StockStatus\", when(col(\"StockQty\") > 2 * col(\"ReorderLevel\"), \"Overstocked\")\n",
    "                                   .when(col(\"StockQty\") < col(\"ReorderLevel\"), \"LowStock\")\n",
    "                                   .otherwise(\"Normal\"))\n",
    "\n",
    "df.select(\"ItemName\", \"StockQty\", \"ReorderLevel\", \"StockStatus\").show()\n",
    "\n",
    "#2. Use .filter() and .where() for the same and compare.\n",
    "df.filter(col(\"StockStatus\") == \"LowStock\").show()\n",
    "df.where(\"StockStatus = 'Overstocked'\").show()"
   ]
  },
  {
   "cell_type": "markdown",
   "metadata": {
    "application/vnd.databricks.v1+cell": {
     "cellMetadata": {},
     "inputWidgets": {},
     "nuid": "059e285d-4bdb-459e-a5c5-68f66fc9661d",
     "showTitle": false,
     "tableResultSettingsMap": {},
     "title": ""
    }
   },
   "source": [
    "Scenario 9: Feature Engineering"
   ]
  },
  {
   "cell_type": "code",
   "execution_count": 0,
   "metadata": {
    "application/vnd.databricks.v1+cell": {
     "cellMetadata": {},
     "inputWidgets": {},
     "nuid": "a0d22ce1-c2f7-45d6-ae9b-cf21e83687c8",
     "showTitle": false,
     "tableResultSettingsMap": {},
     "title": ""
    }
   },
   "outputs": [],
   "source": [
    "#1. Extract RestockMonth from LastRestocked .\n",
    "df = df.withColumn(\"RestockMonth\", expr(\"month(LastRestocked)\"))\n",
    "\n",
    "#2. Create feature: StockAge = CURRENT_DATE - LastRestockede\n",
    "df = df.withColumn(\"StockAge\", datediff(current_date(), col(\"LastRestocked\")))\n",
    "\n",
    "#3. Bucket StockAge into: New, Moderate, Stale\n",
    "df = df.withColumn(\"StockAgeCategory\", when(col(\"StockAge\") < 30, \"New\")\n",
    "                                       .when(col(\"StockAge\") < 90, \"Moderate\")\n",
    "                                       .otherwise(\"Stale\"))\n",
    "\n",
    "df.select(\"ItemName\", \"LastRestocked\", \"StockAge\", \"StockAgeCategory\").show()"
   ]
  },
  {
   "cell_type": "markdown",
   "metadata": {
    "application/vnd.databricks.v1+cell": {
     "cellMetadata": {},
     "inputWidgets": {},
     "nuid": "338b7b44-ee12-459c-be92-2ef85ed3b6c1",
     "showTitle": false,
     "tableResultSettingsMap": {},
     "title": ""
    }
   },
   "source": [
    "Scenario 10: Export Options"
   ]
  },
  {
   "cell_type": "code",
   "execution_count": 0,
   "metadata": {
    "application/vnd.databricks.v1+cell": {
     "cellMetadata": {
      "byteLimit": 2048000,
      "rowLimit": 10000
     },
     "inputWidgets": {},
     "nuid": "2c2014d1-c3a0-4bac-acaf-81d2786f5f83",
     "showTitle": false,
     "tableResultSettingsMap": {},
     "title": ""
    }
   },
   "outputs": [],
   "source": [
    "# 1. Write to CSV, JSON, Delta\n",
    "df.write.mode(\"overwrite\").csv(\"export/analysts/inventory.csv\", header=True)\n",
    "df.write.mode(\"overwrite\").json(\"export/integration/inventory.json\")\n",
    "df.write.format(\"delta\").mode(\"overwrite\").save(\"/dbfs/export/pipelines/inventory.delta\")\n",
    "\n",
    "# 2. Save with meaningful file and partition names\n",
    "df.filter(\"StockStatus = 'Stale'\") \\\n",
    "    .write.mode(\"overwrite\") \\\n",
    "    .partitionBy(\"Category\") \\\n",
    "    .parquet(\"export/inventory/stale_items\")"
   ]
  },
  {
   "cell_type": "markdown",
   "metadata": {
    "application/vnd.databricks.v1+cell": {
     "cellMetadata": {},
     "inputWidgets": {},
     "nuid": "f1f9fda2-3d16-4b56-9c36-56555cc5a762",
     "showTitle": false,
     "tableResultSettingsMap": {},
     "title": ""
    }
   },
   "source": []
  }
 ],
 "metadata": {
  "application/vnd.databricks.v1+notebook": {
   "computePreferences": null,
   "dashboards": [],
   "environmentMetadata": {
    "base_environment": "",
    "environment_version": "2"
   },
   "inputWidgetPreferences": null,
   "language": "python",
   "notebookMetadata": {
    "pythonIndentUnit": 4
   },
   "notebookName": "June 19_Assessment(Set 3)",
   "widgets": {}
  },
  "language_info": {
   "name": "python"
  }
 },
 "nbformat": 4,
 "nbformat_minor": 0
}