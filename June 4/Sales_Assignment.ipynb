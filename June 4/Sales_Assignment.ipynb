{
  "nbformat": 4,
  "nbformat_minor": 0,
  "metadata": {
    "colab": {
      "provenance": []
    },
    "kernelspec": {
      "name": "python3",
      "display_name": "Python 3"
    },
    "language_info": {
      "name": "python"
    }
  },
  "cells": [
    {
      "cell_type": "code",
      "source": [
        "from pyspark.sql import SparkSession\n",
        "spark = SparkSession.builder \\\n",
        "    .appName(\"SparkSQLTasks\") \\\n",
        "    .getOrCreate()\n"
      ],
      "metadata": {
        "id": "XNWHEEt7gRhK"
      },
      "execution_count": 3,
      "outputs": []
    },
    {
      "cell_type": "markdown",
      "source": [
        "Database & Table Tasks"
      ],
      "metadata": {
        "id": "-OdrzXjrftNQ"
      }
    },
    {
      "cell_type": "markdown",
      "source": [
        "1.\n"
      ],
      "metadata": {
        "id": "mj33I62AfyPL"
      }
    },
    {
      "cell_type": "code",
      "execution_count": 4,
      "metadata": {
        "colab": {
          "base_uri": "https://localhost:8080/"
        },
        "id": "fO0m4dDsfpFv",
        "outputId": "9ae016c7-395a-456f-b73f-d99becbdd275"
      },
      "outputs": [
        {
          "output_type": "execute_result",
          "data": {
            "text/plain": [
              "DataFrame[]"
            ]
          },
          "metadata": {},
          "execution_count": 4
        }
      ],
      "source": [
        "spark.sql(\"CREATE DATABASE IF NOT EXISTS sales_db\")\n"
      ]
    },
    {
      "cell_type": "markdown",
      "source": [
        "2."
      ],
      "metadata": {
        "id": "F9orRDRPgaQj"
      }
    },
    {
      "cell_type": "code",
      "source": [
        "spark.sql(\"USE sales_db\")\n"
      ],
      "metadata": {
        "colab": {
          "base_uri": "https://localhost:8080/"
        },
        "id": "IfcW0ORggbOD",
        "outputId": "bcbe7948-1cd1-4bc0-c135-b9c1f1fee377"
      },
      "execution_count": 5,
      "outputs": [
        {
          "output_type": "execute_result",
          "data": {
            "text/plain": [
              "DataFrame[]"
            ]
          },
          "metadata": {},
          "execution_count": 5
        }
      ]
    },
    {
      "cell_type": "markdown",
      "source": [
        "3."
      ],
      "metadata": {
        "id": "pi4oC1kPgfkU"
      }
    },
    {
      "cell_type": "code",
      "source": [
        "spark.sql(\"\"\"\n",
        "    CREATE TABLE IF NOT EXISTS product_sales (\n",
        "        ProductID INT,\n",
        "        ProductName STRING,\n",
        "        Category STRING,\n",
        "        Price DOUBLE,\n",
        "        Quantity INT,\n",
        "        SaleDate DATE\n",
        "    )\n",
        "    USING PARQUET\n",
        "\"\"\")\n"
      ],
      "metadata": {
        "colab": {
          "base_uri": "https://localhost:8080/"
        },
        "id": "_wYvb8wtggll",
        "outputId": "51a00d87-d47c-4637-e85a-57da36b22ccf"
      },
      "execution_count": 6,
      "outputs": [
        {
          "output_type": "execute_result",
          "data": {
            "text/plain": [
              "DataFrame[]"
            ]
          },
          "metadata": {},
          "execution_count": 6
        }
      ]
    },
    {
      "cell_type": "markdown",
      "source": [
        "4."
      ],
      "metadata": {
        "id": "73McmXctgjxt"
      }
    },
    {
      "cell_type": "code",
      "source": [
        "spark.sql(\"\"\"\n",
        "    INSERT INTO product_sales VALUES\n",
        "    (101, 'Laptop', 'Electronics', 75000, 2, DATE('2023-06-01')),\n",
        "    (102, 'Phone', 'Electronics', 30000, 1, DATE('2023-06-02')),\n",
        "    (103, 'Shoes', 'Fashion', 2500, 3, DATE('2023-06-03')),\n",
        "    (104, 'Book', 'Books', 500, 5, DATE('2023-06-04')),\n",
        "    (105, 'Toy', 'Toys', 1200, 4, DATE('2023-06-05'))\n",
        "\"\"\")\n"
      ],
      "metadata": {
        "colab": {
          "base_uri": "https://localhost:8080/"
        },
        "id": "U5WHvSZ1gkdc",
        "outputId": "eca52525-f57f-43a3-ca33-5b52e85b784a"
      },
      "execution_count": 8,
      "outputs": [
        {
          "output_type": "execute_result",
          "data": {
            "text/plain": [
              "DataFrame[]"
            ]
          },
          "metadata": {},
          "execution_count": 8
        }
      ]
    },
    {
      "cell_type": "markdown",
      "source": [
        "Query Tasks"
      ],
      "metadata": {
        "id": "9L9qSXqig-tk"
      }
    },
    {
      "cell_type": "markdown",
      "source": [
        "5."
      ],
      "metadata": {
        "id": "M0YylTCvhBBx"
      }
    },
    {
      "cell_type": "code",
      "source": [
        "spark.sql(\"SELECT * FROM product_sales\").show()\n"
      ],
      "metadata": {
        "colab": {
          "base_uri": "https://localhost:8080/"
        },
        "id": "XK1XN2fVg_R3",
        "outputId": "2a6a0307-14ce-45a5-d8ff-65e965790160"
      },
      "execution_count": 9,
      "outputs": [
        {
          "output_type": "stream",
          "name": "stdout",
          "text": [
            "+---------+-----------+-----------+-------+--------+----------+\n",
            "|ProductID|ProductName|   Category|  Price|Quantity|  SaleDate|\n",
            "+---------+-----------+-----------+-------+--------+----------+\n",
            "|      101|     Laptop|Electronics|75000.0|       2|2023-06-01|\n",
            "|      102|      Phone|Electronics|30000.0|       1|2023-06-02|\n",
            "|      103|      Shoes|    Fashion| 2500.0|       3|2023-06-03|\n",
            "|      104|       Book|      Books|  500.0|       5|2023-06-04|\n",
            "|      105|        Toy|       Toys| 1200.0|       4|2023-06-05|\n",
            "+---------+-----------+-----------+-------+--------+----------+\n",
            "\n"
          ]
        }
      ]
    },
    {
      "cell_type": "markdown",
      "source": [
        "6."
      ],
      "metadata": {
        "id": "ENodCszFhHjU"
      }
    },
    {
      "cell_type": "code",
      "source": [
        "spark.sql(\"SELECT * FROM product_sales WHERE Price > 500\").show()\n"
      ],
      "metadata": {
        "colab": {
          "base_uri": "https://localhost:8080/"
        },
        "id": "kpwZ0jzUhIWz",
        "outputId": "2736fe1d-2e94-4aa5-dae5-527319fc8a1b"
      },
      "execution_count": 10,
      "outputs": [
        {
          "output_type": "stream",
          "name": "stdout",
          "text": [
            "+---------+-----------+-----------+-------+--------+----------+\n",
            "|ProductID|ProductName|   Category|  Price|Quantity|  SaleDate|\n",
            "+---------+-----------+-----------+-------+--------+----------+\n",
            "|      101|     Laptop|Electronics|75000.0|       2|2023-06-01|\n",
            "|      102|      Phone|Electronics|30000.0|       1|2023-06-02|\n",
            "|      103|      Shoes|    Fashion| 2500.0|       3|2023-06-03|\n",
            "|      105|        Toy|       Toys| 1200.0|       4|2023-06-05|\n",
            "+---------+-----------+-----------+-------+--------+----------+\n",
            "\n"
          ]
        }
      ]
    },
    {
      "cell_type": "markdown",
      "source": [
        "7."
      ],
      "metadata": {
        "id": "Vo0qWlP2hLrd"
      }
    },
    {
      "cell_type": "code",
      "source": [
        "spark.sql(\"\"\"\n",
        "    SELECT ProductName, Price, Quantity, (Price * Quantity) AS TotalSale\n",
        "    FROM product_sales\n",
        "\"\"\").show()\n"
      ],
      "metadata": {
        "colab": {
          "base_uri": "https://localhost:8080/"
        },
        "id": "XCYCqsPXhOCf",
        "outputId": "b83540b2-c4a6-4078-ae2b-13b2256b1570"
      },
      "execution_count": 11,
      "outputs": [
        {
          "output_type": "stream",
          "name": "stdout",
          "text": [
            "+-----------+-------+--------+---------+\n",
            "|ProductName|  Price|Quantity|TotalSale|\n",
            "+-----------+-------+--------+---------+\n",
            "|     Laptop|75000.0|       2| 150000.0|\n",
            "|      Phone|30000.0|       1|  30000.0|\n",
            "|      Shoes| 2500.0|       3|   7500.0|\n",
            "|       Book|  500.0|       5|   2500.0|\n",
            "|        Toy| 1200.0|       4|   4800.0|\n",
            "+-----------+-------+--------+---------+\n",
            "\n"
          ]
        }
      ]
    },
    {
      "cell_type": "markdown",
      "source": [
        "8."
      ],
      "metadata": {
        "id": "gSD3CztEhYC3"
      }
    },
    {
      "cell_type": "code",
      "source": [
        "spark.sql(\"\"\"\n",
        "    SELECT Category, SUM(Quantity) AS TotalSold\n",
        "    FROM product_sales\n",
        "    GROUP BY Category\n",
        "\"\"\").show()\n"
      ],
      "metadata": {
        "colab": {
          "base_uri": "https://localhost:8080/"
        },
        "id": "q_umV_-khYuo",
        "outputId": "da61062b-adb5-4d91-a167-b7410eec15d6"
      },
      "execution_count": 12,
      "outputs": [
        {
          "output_type": "stream",
          "name": "stdout",
          "text": [
            "+-----------+---------+\n",
            "|   Category|TotalSold|\n",
            "+-----------+---------+\n",
            "|Electronics|        3|\n",
            "|    Fashion|        3|\n",
            "|      Books|        5|\n",
            "|       Toys|        4|\n",
            "+-----------+---------+\n",
            "\n"
          ]
        }
      ]
    },
    {
      "cell_type": "markdown",
      "source": [
        "9."
      ],
      "metadata": {
        "id": "tiCTyHcThcud"
      }
    },
    {
      "cell_type": "code",
      "source": [
        "spark.sql(\"\"\"\n",
        "    SELECT ProductName, (Price * Quantity) AS TotalSale\n",
        "    FROM product_sales\n",
        "    ORDER BY TotalSale DESC\n",
        "\"\"\").show()\n"
      ],
      "metadata": {
        "colab": {
          "base_uri": "https://localhost:8080/"
        },
        "id": "BjNTJpxIhexl",
        "outputId": "8d7415e8-d39f-4113-df07-ab2225b36f93"
      },
      "execution_count": 13,
      "outputs": [
        {
          "output_type": "stream",
          "name": "stdout",
          "text": [
            "+-----------+---------+\n",
            "|ProductName|TotalSale|\n",
            "+-----------+---------+\n",
            "|     Laptop| 150000.0|\n",
            "|      Phone|  30000.0|\n",
            "|      Shoes|   7500.0|\n",
            "|        Toy|   4800.0|\n",
            "|       Book|   2500.0|\n",
            "+-----------+---------+\n",
            "\n"
          ]
        }
      ]
    },
    {
      "cell_type": "markdown",
      "source": [
        "Temporary View Tasks"
      ],
      "metadata": {
        "id": "hFc3LfdkhiA3"
      }
    },
    {
      "cell_type": "markdown",
      "source": [
        "10."
      ],
      "metadata": {
        "id": "DG_gIpDqhkZb"
      }
    },
    {
      "cell_type": "code",
      "source": [
        "from pyspark.sql import Row\n",
        "\n",
        "temp_data = [\n",
        "    Row(ProductID=201, ProductName='Tablet', Quantity=2),\n",
        "    Row(ProductID=202, ProductName='Monitor', Quantity=1),\n",
        "    Row(ProductID=203, ProductName='Keyboard', Quantity=3)\n",
        "]\n",
        "\n",
        "temp_df = spark.createDataFrame(temp_data)\n"
      ],
      "metadata": {
        "id": "hroeYhAvhlPI"
      },
      "execution_count": 14,
      "outputs": []
    },
    {
      "cell_type": "markdown",
      "source": [
        "11."
      ],
      "metadata": {
        "id": "8GAhK2e0hpzU"
      }
    },
    {
      "cell_type": "code",
      "source": [
        "temp_df.createOrReplaceTempView(\"temp_orders\")\n"
      ],
      "metadata": {
        "id": "CCnJT7GJhqkw"
      },
      "execution_count": 15,
      "outputs": []
    },
    {
      "cell_type": "markdown",
      "source": [
        "12."
      ],
      "metadata": {
        "id": "M827ycPRhvwP"
      }
    },
    {
      "cell_type": "code",
      "source": [
        "spark.sql(\"SELECT * FROM temp_orders WHERE Quantity > 1\").show()\n"
      ],
      "metadata": {
        "colab": {
          "base_uri": "https://localhost:8080/"
        },
        "id": "HOiIRN3xhxIe",
        "outputId": "4dcf0d1d-8808-4d6d-9d2b-74b10acbb329"
      },
      "execution_count": 16,
      "outputs": [
        {
          "output_type": "stream",
          "name": "stdout",
          "text": [
            "+---------+-----------+--------+\n",
            "|ProductID|ProductName|Quantity|\n",
            "+---------+-----------+--------+\n",
            "|      201|     Tablet|       2|\n",
            "|      203|   Keyboard|       3|\n",
            "+---------+-----------+--------+\n",
            "\n"
          ]
        }
      ]
    },
    {
      "cell_type": "markdown",
      "source": [
        "Global View Tasks"
      ],
      "metadata": {
        "id": "Zrz6XEO1h5nk"
      }
    },
    {
      "cell_type": "markdown",
      "source": [
        "13."
      ],
      "metadata": {
        "id": "bpLocuDIh6Tm"
      }
    },
    {
      "cell_type": "code",
      "source": [
        "temp_df.createGlobalTempView(\"global_orders\")\n"
      ],
      "metadata": {
        "id": "-SasGAwqh7Qh"
      },
      "execution_count": 17,
      "outputs": []
    },
    {
      "cell_type": "markdown",
      "source": [
        "14.\n"
      ],
      "metadata": {
        "id": "ZcK_GKDgh9_p"
      }
    },
    {
      "cell_type": "code",
      "source": [
        "spark.sql(\"SELECT * FROM global_temp.global_orders WHERE Quantity > 1\").show()\n"
      ],
      "metadata": {
        "colab": {
          "base_uri": "https://localhost:8080/"
        },
        "id": "4OnEzcJ3h-5O",
        "outputId": "39f02f3e-b6a3-47c6-e994-e8e72229e595"
      },
      "execution_count": 18,
      "outputs": [
        {
          "output_type": "stream",
          "name": "stdout",
          "text": [
            "+---------+-----------+--------+\n",
            "|ProductID|ProductName|Quantity|\n",
            "+---------+-----------+--------+\n",
            "|      201|     Tablet|       2|\n",
            "|      203|   Keyboard|       3|\n",
            "+---------+-----------+--------+\n",
            "\n"
          ]
        }
      ]
    },
    {
      "cell_type": "markdown",
      "source": [
        "Join Tasks"
      ],
      "metadata": {
        "id": "DmZLFAj3iEux"
      }
    },
    {
      "cell_type": "markdown",
      "source": [
        "15."
      ],
      "metadata": {
        "id": "1QvdsgIUiFjY"
      }
    },
    {
      "cell_type": "code",
      "source": [
        "spark.sql(\"\"\"\n",
        "    CREATE TABLE IF NOT EXISTS customer_details (\n",
        "        CustomerID INT,\n",
        "        Name STRING,\n",
        "        Gender STRING,\n",
        "        City STRING,\n",
        "        SignupDate DATE\n",
        "    )\n",
        "    USING PARQUET\n",
        "\"\"\")\n"
      ],
      "metadata": {
        "colab": {
          "base_uri": "https://localhost:8080/"
        },
        "id": "wuQliJGpiGVE",
        "outputId": "4d8659ec-f639-4e57-e975-6a3862484c96"
      },
      "execution_count": 19,
      "outputs": [
        {
          "output_type": "execute_result",
          "data": {
            "text/plain": [
              "DataFrame[]"
            ]
          },
          "metadata": {},
          "execution_count": 19
        }
      ]
    },
    {
      "cell_type": "markdown",
      "source": [
        "16."
      ],
      "metadata": {
        "id": "vpHg3J_FiJa7"
      }
    },
    {
      "cell_type": "code",
      "source": [
        "spark.sql(\"\"\"\n",
        "    INSERT INTO customer_details VALUES\n",
        "    (101, 'Alice', 'F', 'Mumbai', DATE('2020-01-15')),\n",
        "    (102, 'Bob', 'M', 'Delhi', DATE('2019-03-22')),\n",
        "    (104, 'Carol', 'F', 'Chennai', DATE('2021-07-30'))\n",
        "\"\"\")\n"
      ],
      "metadata": {
        "colab": {
          "base_uri": "https://localhost:8080/"
        },
        "id": "FcyfM9IeiKPS",
        "outputId": "19319678-942e-41c5-e82b-141ada80e438"
      },
      "execution_count": 21,
      "outputs": [
        {
          "output_type": "execute_result",
          "data": {
            "text/plain": [
              "DataFrame[]"
            ]
          },
          "metadata": {},
          "execution_count": 21
        }
      ]
    },
    {
      "cell_type": "markdown",
      "source": [
        "17."
      ],
      "metadata": {
        "id": "GrVpT0bsjRAf"
      }
    },
    {
      "cell_type": "code",
      "source": [
        "spark.sql(\"\"\"\n",
        "    SELECT ps.*, cd.Name, cd.City\n",
        "    FROM product_sales ps\n",
        "    JOIN customer_details cd\n",
        "    ON ps.ProductID = cd.CustomerID\n",
        "\"\"\").show()\n"
      ],
      "metadata": {
        "colab": {
          "base_uri": "https://localhost:8080/"
        },
        "id": "1RP1_I7SjRtG",
        "outputId": "545ba202-70c5-44e3-8db8-a534a6fe7ae1"
      },
      "execution_count": 22,
      "outputs": [
        {
          "output_type": "stream",
          "name": "stdout",
          "text": [
            "+---------+-----------+-----------+-------+--------+----------+-----+-------+\n",
            "|ProductID|ProductName|   Category|  Price|Quantity|  SaleDate| Name|   City|\n",
            "+---------+-----------+-----------+-------+--------+----------+-----+-------+\n",
            "|      101|     Laptop|Electronics|75000.0|       2|2023-06-01|Alice| Mumbai|\n",
            "|      102|      Phone|Electronics|30000.0|       1|2023-06-02|  Bob|  Delhi|\n",
            "|      104|       Book|      Books|  500.0|       5|2023-06-04|Carol|Chennai|\n",
            "+---------+-----------+-----------+-------+--------+----------+-----+-------+\n",
            "\n"
          ]
        }
      ]
    },
    {
      "cell_type": "markdown",
      "source": [
        "18."
      ],
      "metadata": {
        "id": "2L_olqQVjTWA"
      }
    },
    {
      "cell_type": "code",
      "source": [
        "spark.sql(\"\"\"\n",
        "    SELECT cd.Name, ps.Quantity\n",
        "    FROM product_sales ps\n",
        "    JOIN customer_details cd\n",
        "    ON ps.ProductID = cd.CustomerID\n",
        "    WHERE ps.Quantity > 2\n",
        "\"\"\").show()\n"
      ],
      "metadata": {
        "colab": {
          "base_uri": "https://localhost:8080/"
        },
        "id": "tLuSK5nHjZtX",
        "outputId": "437c8085-8c5d-4fc0-990d-6619e6bc1b72"
      },
      "execution_count": 23,
      "outputs": [
        {
          "output_type": "stream",
          "name": "stdout",
          "text": [
            "+-----+--------+\n",
            "| Name|Quantity|\n",
            "+-----+--------+\n",
            "|Carol|       5|\n",
            "+-----+--------+\n",
            "\n"
          ]
        }
      ]
    },
    {
      "cell_type": "markdown",
      "source": [
        "View & Summary Tasks"
      ],
      "metadata": {
        "id": "f9ClhF3RjbGP"
      }
    },
    {
      "cell_type": "markdown",
      "source": [
        "19."
      ],
      "metadata": {
        "id": "rWUpxum7jdKw"
      }
    },
    {
      "cell_type": "code",
      "source": [
        "spark.sql(\"\"\"\n",
        "    CREATE OR REPLACE VIEW sales_summary AS\n",
        "    SELECT ProductName, Price, Quantity, (Price * Quantity) AS Total\n",
        "    FROM product_sales\n",
        "\"\"\")\n"
      ],
      "metadata": {
        "colab": {
          "base_uri": "https://localhost:8080/"
        },
        "id": "-9yseq96jeib",
        "outputId": "fec0b76a-c2d8-43fd-91c8-7f8d451a42c1"
      },
      "execution_count": 24,
      "outputs": [
        {
          "output_type": "execute_result",
          "data": {
            "text/plain": [
              "DataFrame[]"
            ]
          },
          "metadata": {},
          "execution_count": 24
        }
      ]
    },
    {
      "cell_type": "markdown",
      "source": [
        "20."
      ],
      "metadata": {
        "id": "TMRt837gjhm8"
      }
    },
    {
      "cell_type": "code",
      "source": [
        "spark.sql(\"SELECT * FROM sales_summary WHERE Total > 1000\").show()\n"
      ],
      "metadata": {
        "colab": {
          "base_uri": "https://localhost:8080/"
        },
        "id": "-eylVODAji03",
        "outputId": "c4bb031d-deff-4f1d-a96c-d2c8e02e0554"
      },
      "execution_count": 25,
      "outputs": [
        {
          "output_type": "stream",
          "name": "stdout",
          "text": [
            "+-----------+-------+--------+--------+\n",
            "|ProductName|  Price|Quantity|   Total|\n",
            "+-----------+-------+--------+--------+\n",
            "|     Laptop|75000.0|       2|150000.0|\n",
            "|      Phone|30000.0|       1| 30000.0|\n",
            "|      Shoes| 2500.0|       3|  7500.0|\n",
            "|       Book|  500.0|       5|  2500.0|\n",
            "|        Toy| 1200.0|       4|  4800.0|\n",
            "+-----------+-------+--------+--------+\n",
            "\n"
          ]
        }
      ]
    },
    {
      "cell_type": "markdown",
      "source": [
        "Cleanup Tasks"
      ],
      "metadata": {
        "id": "2aYiTm17jolt"
      }
    },
    {
      "cell_type": "markdown",
      "source": [
        "21."
      ],
      "metadata": {
        "id": "gYqD25tzjlXT"
      }
    },
    {
      "cell_type": "code",
      "source": [
        "spark.sql(\"DROP VIEW IF EXISTS sales_summary\")\n"
      ],
      "metadata": {
        "colab": {
          "base_uri": "https://localhost:8080/"
        },
        "id": "Uk0QbZbHjmeX",
        "outputId": "8c62d1b4-aee5-4658-efd3-7068a3afda62"
      },
      "execution_count": 26,
      "outputs": [
        {
          "output_type": "execute_result",
          "data": {
            "text/plain": [
              "DataFrame[]"
            ]
          },
          "metadata": {},
          "execution_count": 26
        }
      ]
    },
    {
      "cell_type": "markdown",
      "source": [
        "22."
      ],
      "metadata": {
        "id": "ji0eZbi9jtP3"
      }
    },
    {
      "cell_type": "code",
      "source": [
        "spark.sql(\"DROP TABLE IF EXISTS product_sales\")\n",
        "spark.sql(\"DROP TABLE IF EXISTS customer_details\")\n"
      ],
      "metadata": {
        "colab": {
          "base_uri": "https://localhost:8080/"
        },
        "id": "GdEKO8Xbjt9a",
        "outputId": "c150c32d-b242-4954-9f43-9574d9789d90"
      },
      "execution_count": 27,
      "outputs": [
        {
          "output_type": "execute_result",
          "data": {
            "text/plain": [
              "DataFrame[]"
            ]
          },
          "metadata": {},
          "execution_count": 27
        }
      ]
    },
    {
      "cell_type": "markdown",
      "source": [
        "23."
      ],
      "metadata": {
        "id": "41n-M1vGjwWt"
      }
    },
    {
      "cell_type": "code",
      "source": [
        "spark.sql(\"DROP DATABASE IF EXISTS sales_db CASCADE\")\n"
      ],
      "metadata": {
        "colab": {
          "base_uri": "https://localhost:8080/"
        },
        "id": "3MgQoJ3tjw8y",
        "outputId": "cd9e17de-f1f4-4224-911c-54938bf3bc7a"
      },
      "execution_count": 28,
      "outputs": [
        {
          "output_type": "execute_result",
          "data": {
            "text/plain": [
              "DataFrame[]"
            ]
          },
          "metadata": {},
          "execution_count": 28
        }
      ]
    }
  ]
}