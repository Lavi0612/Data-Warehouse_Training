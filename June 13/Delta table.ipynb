{
 "cells": [
  {
   "cell_type": "code",
   "execution_count": 0,
   "metadata": {
    "application/vnd.databricks.v1+cell": {
     "cellMetadata": {
      "byteLimit": 2048000,
      "rowLimit": 10000
     },
     "inputWidgets": {},
     "nuid": "842fa680-5865-4932-bfba-9bef5eced2eb",
     "showTitle": false,
     "tableResultSettingsMap": {},
     "title": ""
    }
   },
   "outputs": [
    {
     "output_type": "stream",
     "name": "stdout",
     "output_type": "stream",
     "text": [
      "\uD83D\uDCCB Customers Delta Table:\n+----------+-----+---------+---+\n|CustomerID| Name|     City|Age|\n+----------+-----+---------+---+\n|       101|Aditi|   Mumbai| 28|\n|       102|Rohan|    Delhi| 35|\n|       103|Meena|Bangalore| 41|\n|       104|Kabir|Hyderabad| 30|\n|       105| Zoya|  Chennai| 25|\n+----------+-----+---------+---+\n\n\uD83D\uDCCB Orders Delta Table:\n+-------+----------+-------+--------+-----+----------+\n|OrderID|CustomerID|Product|Quantity|Price| OrderDate|\n+-------+----------+-------+--------+-----+----------+\n|   1001|       101| Laptop|       1|70000|2024-01-05|\n|   1002|       102| Mobile|       2|25000|2024-02-10|\n|   1003|       103|   Desk|       1|10000|2024-03-15|\n|   1004|       101|  Mouse|       3| 1000|2024-04-01|\n|   1005|       104|Monitor|       1|12000|2024-04-25|\n+-------+----------+-------+--------+-----+----------+\n\n"
     ]
    }
   ],
   "source": [
    "from pyspark.sql import SparkSession\n",
    "\n",
    "spark = SparkSession.builder \\\n",
    "    .appName(\"Customers and Orders Delta\") \\\n",
    "    .getOrCreate()\n",
    "\n",
    "customers_df = spark.read.option(\"header\", True).option(\"inferSchema\", True) \\\n",
    "    .csv(\"file:/Workspace/Shared/customers.csv\")\n",
    "\n",
    "customers_df.write.format(\"delta\").mode(\"overwrite\") \\\n",
    "    .save(\"file:/Workspace/Shared/customers\")\n",
    "\n",
    "customers_delta = spark.read.format(\"delta\") \\\n",
    "    .load(\"file:/Workspace/Shared/customers\")\n",
    "\n",
    "print(\"\uD83D\uDCCB Customers Delta Table:\")\n",
    "customers_delta.show()\n",
    "\n",
    "orders_df = spark.read.option(\"header\", True).option(\"inferSchema\", True) \\\n",
    "    .csv(\"file:/Workspace/Shared/orders.csv\")\n",
    "\n",
    "orders_df.write.format(\"delta\").mode(\"overwrite\") \\\n",
    "    .save(\"file:/Workspace/Shared/orders\")\n",
    "\n",
    "orders_delta = spark.read.format(\"delta\") \\\n",
    "    .load(\"file:/Workspace/Shared/orders\")\n",
    "\n",
    "print(\"\uD83D\uDCCB Orders Delta Table:\")\n",
    "orders_delta.show()\n"
   ]
  }
 ],
 "metadata": {
  "application/vnd.databricks.v1+notebook": {
   "computePreferences": null,
   "dashboards": [],
   "environmentMetadata": {
    "base_environment": "",
    "environment_version": "2"
   },
   "inputWidgetPreferences": null,
   "language": "python",
   "notebookMetadata": {
    "pythonIndentUnit": 4
   },
   "notebookName": "Delta table",
   "widgets": {}
  },
  "language_info": {
   "name": "python"
  }
 },
 "nbformat": 4,
 "nbformat_minor": 0
}